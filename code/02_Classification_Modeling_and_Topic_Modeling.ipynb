{
 "cells": [
  {
   "cell_type": "markdown",
   "metadata": {},
   "source": [
    "# Capstone: Sentiment Analysis for Shopee\n",
    "## Classification Modeling and Topic Modeling\n",
    "__Grace Chia__\n",
    "\n",
    "---"
   ]
  },
  {
   "cell_type": "markdown",
   "metadata": {},
   "source": [
    "## Problem Statement"
   ]
  },
  {
   "cell_type": "markdown",
   "metadata": {},
   "source": [
    "Shopee is a fast-growing e-commerce platform in Southeast Asia. In order to build an enjoyable online shopping experience, Shopee's product managers would first need to identify customer sentiment and understand users' pain points.\n",
    "\n",
    "As such, the data science team has been tasked to classify the positive and negative reviews on Shopee Singapore's Google Play using Natural Language Processing (NLP). The model that achieves the highest accuracy and recall on the validation set will be selected for production. The team will be using topic modeling to identify the key pain points among dissatisfied customers. This will enable product managers to address their immediate needs."
   ]
  },
  {
   "cell_type": "markdown",
   "metadata": {},
   "source": [
    "## Executive Summary"
   ]
  },
  {
   "attachments": {},
   "cell_type": "markdown",
   "metadata": {},
   "source": [
    "The data science team web scraped 4,461 unique user reviews on Shopee's Google Play. Classical machine learning and deep learning NLP approaches were explored when building a sentiment classification model for Shopee reviews. The Voting Classifier was eventually selected as our production model as it achieved the highest accuracy and recall on the validation set. An ensemble of a TF-IDF Logistic Regression and a TF-IDF SVC, the Voting Classifier attained an accuracy of 0.904 and a recall of 0.87 on the validation data. When scored on the test set, the production model achieved 0.892 on accuracy and 0.87 on recall, outperforming the baseline accuracy of 0.61. We can thus conclude that the model generalises well on unseen data. This model serves as a good start for Shopee's product managers to classify sentiments and understand customers' pain points through Google Play reviews. The model was deployed to [Heroku](https://shopee-sentiment-analysis.herokuapp.com/).\n",
    "\n",
    "The data science team has also identified 3 pain points among dissatisfied customers through topic modeling. These pain points include a poor payment experience, fraudulent sellers and items, and slow app performance. Addressing these pain points would not only promote an enjoyable shopping experience for customers, but would also differentiate Shopee from its competition.\n",
    "\n",
    "Customers are most frustrated when they run into payment issues during checkout. The payment was either denied or the payment page simply took too long to load. Product managers will need to work closely with software engineers to enhance the stability and reliability of its payment gateway service. \n",
    "\n",
    "Several customers have dealt with fraudulent sellers on Shopee. Identifying and blocking fraudulent sellers at the early stages is the key to fraud prevention. This involves tracking a range of behavioural pattern among sellers and combing through their digital identity for any signs of suspicious behaviour. Shopee could also improve its buyers' protection scheme to regain consumers’ trust. \n",
    "\n",
    "Users have reported that the app hangs or crashes at the login and payment page. As such, developers will need to optimise its traffic scheduling platform's latency to accommodate high traffic during big sale events."
   ]
  },
  {
   "cell_type": "markdown",
   "metadata": {},
   "source": [
    "## Data Dictionary"
   ]
  },
  {
   "cell_type": "markdown",
   "metadata": {},
   "source": [
    "An overview of the features in our dataset."
   ]
  },
  {
   "cell_type": "markdown",
   "metadata": {},
   "source": [
    "| Feature     \t| Type \t| Description                                                       \t|\n",
    "|:-------------\t|:------\t|:-------------------------------------------------------------------\t|\n",
    "| content     \t| obj  \t| Raw text containing user reviews                                  \t|\n",
    "| content_stem \t| obj  \t| Pre-processed text for modeling                                   \t|\n",
    "| score       \t| int  \t| No. of star ratings the user gave (1-5)                           \t|\n",
    "| target      \t| int  \t| Target variable <br>Postive sentiment: 0<br>Negative sentiment: 1 \t|"
   ]
  },
  {
   "cell_type": "markdown",
   "metadata": {},
   "source": [
    "## Model Evaluation: Summary"
   ]
  },
  {
   "cell_type": "markdown",
   "metadata": {},
   "source": [
    "The table below provides an overview of the models' performance, sorted by accuracy and recall on the validation set in descending order."
   ]
  },
  {
   "cell_type": "markdown",
   "metadata": {},
   "source": [
    "|                                                             \t| Accuracy on Training Set \t| Accuracy on Validation Set \t| Recall on Validation Set \t|\n",
    "|:-------------------------------------------------------------\t|:--------------------------:\t|:----------------------------:\t|:--------------------------:\t|\n",
    "| Voting Classifier (TF-IDF Logistic Regression & TF-IDF SVC) \t| 0.902                    \t| 0.904                      \t| 0.87                     \t|\n",
    "| TF-IDF & SVC                                                \t| 0.901                    \t| 0.899                      \t| 0.87                     \t|\n",
    "| Count Vectorizer & Naïve Bayes                              \t| 0.898                    \t| 0.898                      \t| 0.83                     \t|\n",
    "| Bidirectional LSTM                                          \t| 0.916                    \t| 0.896                      \t| 0.82                     \t|\n",
    "| TF-IDF & Logistic Regression                                \t| 0.906                    \t| 0.892                      \t| 0.81                     \t|\n",
    "| TF-IDF & Naïve Bayes                                        \t| 0.904                    \t| 0.882                      \t| 0.79                     \t|\n",
    "| Count Vectorizer & SVC                                      \t| 0.900                    \t| 0.872                      \t| 0.75                     \t|\n",
    "| Count Vectorizer & Logistic Regression                      \t| 0.882                    \t| 0.861                      \t| 0.71                     \t|"
   ]
  },
  {
   "cell_type": "markdown",
   "metadata": {},
   "source": [
    "|                                                                               \t| Accuracy on Test Set \t| Recall on Test Set \t|\n",
    "|-------------------------------------------------------------------------------\t|----------------------\t|--------------------\t|\n",
    "| Production Model: Voting Classifier (TF-IDF Logistic Regression & TF-IDF SVC) \t| 0.892                \t| 0.87               \t|"
   ]
  },
  {
   "cell_type": "markdown",
   "metadata": {},
   "source": [
    "## Contents:\n",
    "- [Import Libraries](#Import-Libraries)\n",
    "- [Load Data](#Load-Data)\n",
    "- [Modeling](#Modeling)\n",
    "    - [Classical Machine Learning](#Classical-Machine-Learning)\n",
    "    - [Deep Learning](#Deep-Learning)\n",
    "- [Model Evaluation: Summary Metrics](#Model-Evaluation:-Summary-Metrics)\n",
    "- [Production Model's Most Predictive Words](#Production-Model's-Most-Predictive-Words)\n",
    "- [Misclassified Reviews in Validation Set](#Misclassified-Reviews-in-Validation-Set)\n",
    "- [Evaluate Production Model on Test Set](#Evaluate-Production-Model-on-Test-Set)\n",
    "    - [Misclassified Reviews in Test Set](#Misclassified-Reviews-in-Test-Set)\n",
    "- [Topic Modeling for Negative Sentiment](#Topic-Modeling-for-Negative-Sentiment)\n",
    "    - [Pain Points and Recommendations](#Pain-Points-and-Recommendations)\n",
    "- [Conclusion](#Conclusion)"
   ]
  },
  {
   "cell_type": "markdown",
   "metadata": {},
   "source": [
    "## Import Libaries"
   ]
  },
  {
   "cell_type": "code",
   "execution_count": 1,
   "metadata": {},
   "outputs": [],
   "source": [
    "import numpy as np\n",
    "import pandas as pd\n",
    "import re\n",
    "import matplotlib.pyplot as plt\n",
    "import seaborn as sns\n",
    "import os\n",
    "\n",
    "# Libraries for classical machine learning\n",
    "from sklearn.model_selection import train_test_split, GridSearchCV, cross_val_score\n",
    "from sklearn.feature_extraction.text import CountVectorizer, TfidfVectorizer\n",
    "from sklearn.pipeline import Pipeline\n",
    "from sklearn.model_selection import train_test_split, GridSearchCV\n",
    "from sklearn.linear_model import LogisticRegression\n",
    "from sklearn.naive_bayes import MultinomialNB\n",
    "from sklearn.svm import SVC\n",
    "from sklearn.ensemble import VotingClassifier\n",
    "from sklearn.metrics import classification_report, accuracy_score, confusion_matrix\n",
    "\n",
    "# Libraries for deep learning\n",
    "from tensorflow.keras.preprocessing.text import Tokenizer\n",
    "from tensorflow.keras.preprocessing.sequence import pad_sequences\n",
    "from tensorflow.keras.models import Sequential\n",
    "from tensorflow.keras.layers import Dense, LSTM, Flatten, Embedding, Dropout, Bidirectional, SpatialDropout1D\n",
    "from tensorflow.keras.optimizers import Adam\n",
    "from tensorflow.keras import regularizers\n",
    "from tensorflow.keras.callbacks import ModelCheckpoint\n",
    "\n",
    "# Libraries for topic modeling\n",
    "from pprint import pprint\n",
    "import gensim, spacy\n",
    "import gensim.corpora as corpora\n",
    "from gensim.utils import lemmatize, simple_preprocess\n",
    "from wordcloud import WordCloud, STOPWORDS\n",
    "import matplotlib.colors as mcolors\n",
    "from nltk.corpus import stopwords\n",
    "import pyLDAvis.gensim\n",
    "\n",
    "%matplotlib inline"
   ]
  },
  {
   "cell_type": "markdown",
   "metadata": {},
   "source": [
    "## Load Data"
   ]
  },
  {
   "cell_type": "markdown",
   "metadata": {},
   "source": [
    "Load in Shopee's Google Play reviews that we have collected, cleaned and pre-processed."
   ]
  },
  {
   "cell_type": "code",
   "execution_count": 2,
   "metadata": {},
   "outputs": [],
   "source": [
    "# Read the clean dataset\n",
    "reviews = pd.read_csv('../data/clean_train.csv')"
   ]
  },
  {
   "cell_type": "code",
   "execution_count": 3,
   "metadata": {},
   "outputs": [
    {
     "data": {
      "text/html": [
       "<div>\n",
       "<style scoped>\n",
       "    .dataframe tbody tr th:only-of-type {\n",
       "        vertical-align: middle;\n",
       "    }\n",
       "\n",
       "    .dataframe tbody tr th {\n",
       "        vertical-align: top;\n",
       "    }\n",
       "\n",
       "    .dataframe thead th {\n",
       "        text-align: right;\n",
       "    }\n",
       "</style>\n",
       "<table border=\"1\" class=\"dataframe\">\n",
       "  <thead>\n",
       "    <tr style=\"text-align: right;\">\n",
       "      <th></th>\n",
       "      <th>content</th>\n",
       "      <th>content_stem</th>\n",
       "      <th>score</th>\n",
       "      <th>target</th>\n",
       "    </tr>\n",
       "  </thead>\n",
       "  <tbody>\n",
       "    <tr>\n",
       "      <th>0</th>\n",
       "      <td>For god sake yr welcome gift T&amp;C isnt stated c...</td>\n",
       "      <td>god sake yr welcom gift c isnt state clearli o...</td>\n",
       "      <td>2</td>\n",
       "      <td>1</td>\n",
       "    </tr>\n",
       "    <tr>\n",
       "      <th>1</th>\n",
       "      <td>Shopee has a wild variety of products however ...</td>\n",
       "      <td>wild varieti product howev buy certain stuff w...</td>\n",
       "      <td>3</td>\n",
       "      <td>1</td>\n",
       "    </tr>\n",
       "    <tr>\n",
       "      <th>2</th>\n",
       "      <td>Cheap and very fast...I love order here..</td>\n",
       "      <td>cheap fast love order</td>\n",
       "      <td>5</td>\n",
       "      <td>0</td>\n",
       "    </tr>\n",
       "    <tr>\n",
       "      <th>3</th>\n",
       "      <td>Overall no complains it's good</td>\n",
       "      <td>overal complain good</td>\n",
       "      <td>5</td>\n",
       "      <td>0</td>\n",
       "    </tr>\n",
       "    <tr>\n",
       "      <th>4</th>\n",
       "      <td>Reliable and cheap👍👍👍</td>\n",
       "      <td>reliabl cheap</td>\n",
       "      <td>5</td>\n",
       "      <td>0</td>\n",
       "    </tr>\n",
       "  </tbody>\n",
       "</table>\n",
       "</div>"
      ],
      "text/plain": [
       "                                             content  \\\n",
       "0  For god sake yr welcome gift T&C isnt stated c...   \n",
       "1  Shopee has a wild variety of products however ...   \n",
       "2          Cheap and very fast...I love order here..   \n",
       "3                     Overall no complains it's good   \n",
       "4                              Reliable and cheap👍👍👍   \n",
       "\n",
       "                                        content_stem  score  target  \n",
       "0  god sake yr welcom gift c isnt state clearli o...      2       1  \n",
       "1  wild varieti product howev buy certain stuff w...      3       1  \n",
       "2                              cheap fast love order      5       0  \n",
       "3                               overal complain good      5       0  \n",
       "4                                      reliabl cheap      5       0  "
      ]
     },
     "execution_count": 3,
     "metadata": {},
     "output_type": "execute_result"
    }
   ],
   "source": [
    "# View the first 5 rows of our dataset\n",
    "reviews.head()"
   ]
  },
  {
   "cell_type": "code",
   "execution_count": 4,
   "metadata": {},
   "outputs": [
    {
     "data": {
      "text/plain": [
       "(3478, 4)"
      ]
     },
     "execution_count": 4,
     "metadata": {},
     "output_type": "execute_result"
    }
   ],
   "source": [
    "# 3515 documents in our dataset\n",
    "reviews.shape"
   ]
  },
  {
   "cell_type": "code",
   "execution_count": 5,
   "metadata": {},
   "outputs": [
    {
     "name": "stdout",
     "output_type": "stream",
     "text": [
      "<class 'pandas.core.frame.DataFrame'>\n",
      "RangeIndex: 3478 entries, 0 to 3477\n",
      "Data columns (total 4 columns):\n",
      " #   Column        Non-Null Count  Dtype \n",
      "---  ------        --------------  ----- \n",
      " 0   content       3478 non-null   object\n",
      " 1   content_stem  3478 non-null   object\n",
      " 2   score         3478 non-null   int64 \n",
      " 3   target        3478 non-null   int64 \n",
      "dtypes: int64(2), object(2)\n",
      "memory usage: 108.8+ KB\n"
     ]
    }
   ],
   "source": [
    "# Check the data types\n",
    "reviews.info()"
   ]
  },
  {
   "cell_type": "code",
   "execution_count": 6,
   "metadata": {},
   "outputs": [
    {
     "data": {
      "text/plain": [
       "0    0.609833\n",
       "1    0.390167\n",
       "Name: target, dtype: float64"
      ]
     },
     "execution_count": 6,
     "metadata": {},
     "output_type": "execute_result"
    }
   ],
   "source": [
    "# Establish our baseline score\n",
    "reviews['target'].value_counts(normalize=True)"
   ]
  },
  {
   "cell_type": "markdown",
   "metadata": {},
   "source": [
    "Given that the majority class is class 0, our **baseline score** is an accuracy of **0.61**. The baseline score will serve as a point of comparison when evaluating our models."
   ]
  },
  {
   "cell_type": "markdown",
   "metadata": {},
   "source": [
    "## Pre-Modeling"
   ]
  },
  {
   "cell_type": "code",
   "execution_count": 7,
   "metadata": {},
   "outputs": [],
   "source": [
    "X = reviews['content_stem']\n",
    "y = reviews['target']"
   ]
  },
  {
   "cell_type": "code",
   "execution_count": 8,
   "metadata": {},
   "outputs": [],
   "source": [
    "# Perform train test split so that we can train, score and tune our models' hyperparameters \n",
    "X_train, X_val, y_train, y_val = train_test_split(X, y, test_size=0.2, random_state=42, stratify=y)"
   ]
  },
  {
   "cell_type": "code",
   "execution_count": 9,
   "metadata": {
    "scrolled": true
   },
   "outputs": [
    {
     "data": {
      "text/plain": [
       "(2782,)"
      ]
     },
     "execution_count": 9,
     "metadata": {},
     "output_type": "execute_result"
    }
   ],
   "source": [
    "X_train.shape"
   ]
  },
  {
   "cell_type": "code",
   "execution_count": 10,
   "metadata": {},
   "outputs": [
    {
     "data": {
      "text/plain": [
       "(696,)"
      ]
     },
     "execution_count": 10,
     "metadata": {},
     "output_type": "execute_result"
    }
   ],
   "source": [
    "X_val.shape"
   ]
  },
  {
   "cell_type": "code",
   "execution_count": 11,
   "metadata": {},
   "outputs": [
    {
     "data": {
      "text/plain": [
       "0    0.609993\n",
       "1    0.390007\n",
       "Name: target, dtype: float64"
      ]
     },
     "execution_count": 11,
     "metadata": {},
     "output_type": "execute_result"
    }
   ],
   "source": [
    "y_train.value_counts(normalize=True)"
   ]
  },
  {
   "cell_type": "code",
   "execution_count": 12,
   "metadata": {},
   "outputs": [
    {
     "data": {
      "text/plain": [
       "0    0.609195\n",
       "1    0.390805\n",
       "Name: target, dtype: float64"
      ]
     },
     "execution_count": 12,
     "metadata": {},
     "output_type": "execute_result"
    }
   ],
   "source": [
    "y_val.value_counts(normalize=True)"
   ]
  },
  {
   "cell_type": "code",
   "execution_count": 13,
   "metadata": {},
   "outputs": [
    {
     "data": {
      "text/plain": [
       "(2782, 2632)"
      ]
     },
     "execution_count": 13,
     "metadata": {},
     "output_type": "execute_result"
    }
   ],
   "source": [
    "# Use count vectorizer to check how many unique words there are\n",
    "cvec = CountVectorizer(stop_words='english') \n",
    "cvec_df = pd.DataFrame(cvec.fit_transform(X_train).todense(), columns=cvec.get_feature_names())\n",
    "cvec_df.shape"
   ]
  },
  {
   "cell_type": "markdown",
   "metadata": {},
   "source": [
    "There are 2632 unique words in our corpus."
   ]
  },
  {
   "cell_type": "code",
   "execution_count": 14,
   "metadata": {},
   "outputs": [],
   "source": [
    "# Write a function that takes in the actual y value and model predictions, \n",
    "# and prints out the confusion matrix and classification report\n",
    "# Dataset: Validation or test set\n",
    "\n",
    "def cmat(actual_y, predictions, dataset):\n",
    "    \n",
    "    # Create a classification report\n",
    "    print('Classification report for', dataset)\n",
    "    print(classification_report(actual_y, predictions))\n",
    "    print('')\n",
    "    \n",
    "    # Create a confusion matrix\n",
    "    cm = confusion_matrix(actual_y, predictions)\n",
    "    cm_df = pd.DataFrame(cm, columns=['Predicted Positive Review','Predicted Negative Review'], index=['Actual Positive Review', 'Actual Negative Review'])\n",
    "    print('Confusion matrix for', dataset)\n",
    "    print(cm_df)"
   ]
  },
  {
   "cell_type": "markdown",
   "metadata": {},
   "source": [
    "## Modeling"
   ]
  },
  {
   "cell_type": "markdown",
   "metadata": {},
   "source": [
    "We will explore both classical machine learning and deep learning for sentiment analysis. The production model will be selected based on accuracy and recall on the validation set. "
   ]
  },
  {
   "cell_type": "markdown",
   "metadata": {},
   "source": [
    "## Classical Machine Learning"
   ]
  },
  {
   "cell_type": "markdown",
   "metadata": {},
   "source": [
    "We will use the Bag of Words (BoW) representation to extract features from the text. This will be done through vectorization, specifically the CountVectorizer and TF-IDF Vectorizer. The CountVectorizer simply tokenizes and counts the word occurrences in our corpus. While on the other hand, TF-IDF tells us which words are important to one document, relative to all other documents. Words that occur often in one document but don't occur in many documents contain more predictive power.  \n",
    "\n",
    "After vectorizing, we will fit a Logistic Regression, Naive Bayes and Support Vector Machine on the training data and evaluate the models' performance on the validation set."
   ]
  },
  {
   "cell_type": "markdown",
   "metadata": {},
   "source": [
    "### Count Vectorizer & Logistic Regression"
   ]
  },
  {
   "cell_type": "code",
   "execution_count": 15,
   "metadata": {},
   "outputs": [
    {
     "name": "stdout",
     "output_type": "stream",
     "text": [
      "Best parameters:  {'cvec__max_df': 0.9, 'cvec__max_features': 300, 'cvec__min_df': 2, 'lr__C': 0.1, 'lr__penalty': 'l2'}\n",
      "Best CV score:  0.8587362368169981\n",
      "Training score: 0.8820992092020129\n",
      "Validation score: 0.860632183908046\n",
      "\n",
      "Classification report for validation set\n",
      "              precision    recall  f1-score   support\n",
      "\n",
      "           0       0.84      0.96      0.89       424\n",
      "           1       0.91      0.71      0.80       272\n",
      "\n",
      "    accuracy                           0.86       696\n",
      "   macro avg       0.87      0.83      0.85       696\n",
      "weighted avg       0.87      0.86      0.86       696\n",
      "\n",
      "\n",
      "Confusion matrix for validation set\n",
      "                        Predicted Positive Review  Predicted Negative Review\n",
      "Actual Positive Review                        405                         19\n",
      "Actual Negative Review                         78                        194\n"
     ]
    }
   ],
   "source": [
    "# Create a pipeline with Count Vectorizer and Logistic Regression\n",
    "pipe_cvec_lr = Pipeline([\n",
    "    ('cvec', CountVectorizer(stop_words='english')), \n",
    "    ('lr', LogisticRegression(random_state=42))\n",
    "])\n",
    "\n",
    "# Search over the following values of hyperparameters:\n",
    "pipe_cvec_lr_params = {\n",
    "    'cvec__max_features': [300], #100,200\n",
    "    'cvec__min_df': [2,3], \n",
    "    'cvec__max_df': [.9,.95], \n",
    "#     'cvec__ngram_range':[(1,1),(1,2)],  \n",
    "    'lr__penalty': ['l2'],\n",
    "    'lr__C': [.01,.1]\n",
    "}\n",
    "\n",
    "# Instantiate GridSearchCV\n",
    "gs_cvec_lr = GridSearchCV(pipe_cvec_lr, # Objects to optimise\n",
    "                          param_grid = pipe_cvec_lr_params, # Hyperparameters for tuning\n",
    "                          cv=10) # 10-fold cross validation\n",
    "\n",
    "# Fit model on to training data\n",
    "gs_cvec_lr.fit(X_train, y_train)\n",
    "\n",
    "# Generate predictions on validation set\n",
    "cvec_lr_pred = gs_cvec_lr.predict(X_val)\n",
    "\n",
    "# Print best parameters\n",
    "print('Best parameters: ', gs_cvec_lr.best_params_)\n",
    "\n",
    "# Print accuracy scores\n",
    "print('Best CV score: ', gs_cvec_lr.best_score_)\n",
    "print('Training score:', gs_cvec_lr.score(X_train, y_train))\n",
    "print('Validation score:', gs_cvec_lr.score(X_val, y_val))\n",
    "print('')\n",
    "\n",
    "# Print classification report and confusion matrix\n",
    "cmat(y_val, cvec_lr_pred, 'validation set')"
   ]
  },
  {
   "cell_type": "markdown",
   "metadata": {},
   "source": [
    "### TF-IDF & Logistic Regression"
   ]
  },
  {
   "cell_type": "code",
   "execution_count": 16,
   "metadata": {
    "scrolled": false
   },
   "outputs": [
    {
     "name": "stdout",
     "output_type": "stream",
     "text": [
      "Best parameters:  {'lr__C': 1, 'lr__penalty': 'l2', 'tvec__max_df': 0.9, 'tvec__max_features': 300, 'tvec__min_df': 2}\n",
      "Best CV score:  0.8767050875428689\n",
      "Training score: 0.905823148813803\n",
      "Validation score: 0.8922413793103449\n",
      "\n",
      "Classification report for validation set\n",
      "              precision    recall  f1-score   support\n",
      "\n",
      "           0       0.89      0.95      0.91       424\n",
      "           1       0.91      0.81      0.85       272\n",
      "\n",
      "    accuracy                           0.89       696\n",
      "   macro avg       0.90      0.88      0.88       696\n",
      "weighted avg       0.89      0.89      0.89       696\n",
      "\n",
      "\n",
      "Confusion matrix for validation set\n",
      "                        Predicted Positive Review  Predicted Negative Review\n",
      "Actual Positive Review                        401                         23\n",
      "Actual Negative Review                         52                        220\n"
     ]
    }
   ],
   "source": [
    "# Create a pipeline with TF-IDF and Logistic Regression\n",
    "pipe_tvec_lr = Pipeline([\n",
    "    ('tvec', TfidfVectorizer(stop_words='english')),\n",
    "    ('lr', LogisticRegression(random_state=42))\n",
    "])\n",
    "\n",
    "# Search over the following values of hyperparameters:\n",
    "pipe_tvec_lr_params = {\n",
    "    'tvec__max_features': [300], #100,200\n",
    "    'tvec__min_df': [2,3], #2,3 \n",
    "    'tvec__max_df': [.9,.95], \n",
    "#     'tvec__ngram_range':[(1,1),(1,2)],  \n",
    "    'lr__penalty': ['l2'],\n",
    "    'lr__C': [.1, 1] #.1, .01\n",
    "}\n",
    "\n",
    "# Instantiate GridSearchCV\n",
    "gs_tvec_lr = GridSearchCV(pipe_tvec_lr, # Objects to optimise\n",
    "                          param_grid = pipe_tvec_lr_params, # Hyperparameters for tuning\n",
    "                          cv=10) # 10-fold cross validation\n",
    "\n",
    "# Fit model on to training data\n",
    "gs_tvec_lr.fit(X_train, y_train)\n",
    "\n",
    "# Generate predictions on validation set\n",
    "tvec_lr_pred = gs_tvec_lr.predict(X_val)\n",
    "\n",
    "# Print best parameters\n",
    "print('Best parameters: ', gs_tvec_lr.best_params_)\n",
    "\n",
    "# Print accuracy scores\n",
    "print('Best CV score: ', gs_tvec_lr.best_score_)\n",
    "print('Training score:', gs_tvec_lr.score(X_train, y_train))\n",
    "print('Validation score:', gs_tvec_lr.score(X_val, y_val))\n",
    "print('')\n",
    "\n",
    "# Print classification report and confusion matrix\n",
    "cmat(y_val, tvec_lr_pred, 'validation set')"
   ]
  },
  {
   "cell_type": "markdown",
   "metadata": {},
   "source": [
    "### Count Vectorizer & Naive Bayes"
   ]
  },
  {
   "cell_type": "code",
   "execution_count": 17,
   "metadata": {},
   "outputs": [
    {
     "name": "stdout",
     "output_type": "stream",
     "text": [
      "Best parameters:  {'cvec__max_df': 0.9, 'cvec__max_features': 500, 'cvec__min_df': 2}\n",
      "Best CV score:  0.8856914468425259\n",
      "Training score: 0.8979151689432063\n",
      "Validation score: 0.8979885057471264\n",
      "\n",
      "Classification report for validation set\n",
      "              precision    recall  f1-score   support\n",
      "\n",
      "           0       0.90      0.94      0.92       424\n",
      "           1       0.90      0.83      0.86       272\n",
      "\n",
      "    accuracy                           0.90       696\n",
      "   macro avg       0.90      0.89      0.89       696\n",
      "weighted avg       0.90      0.90      0.90       696\n",
      "\n",
      "\n",
      "Confusion matrix for validation set\n",
      "                        Predicted Positive Review  Predicted Negative Review\n",
      "Actual Positive Review                        399                         25\n",
      "Actual Negative Review                         46                        226\n"
     ]
    }
   ],
   "source": [
    "# Create a pipeline with Count Vectorizer and Naive Bayes\n",
    "pipe_cvec_nb = Pipeline([\n",
    "    ('cvec', CountVectorizer(stop_words='english')),\n",
    "    ('nb', MultinomialNB())\n",
    "])\n",
    "\n",
    "# Search over the following values of hyperparameters:\n",
    "pipe_cvec_nb_params = {\n",
    "    'cvec__max_features': [500], #200\n",
    "    'cvec__min_df': [2,3],\n",
    "    'cvec__max_df': [.9,.95], \n",
    "#     'cvec__ngram_range':[(1,1),(1,2)],  \n",
    "}\n",
    "\n",
    "# Instantiate GridSearchCV\n",
    "gs_cvec_nb = GridSearchCV(pipe_cvec_nb, # Objects to optimise\n",
    "                          param_grid = pipe_cvec_nb_params, # Hyperparameters for tuning\n",
    "                          cv=10) # 10-fold cross validation\n",
    "\n",
    "# Fit model on to training data\n",
    "gs_cvec_nb.fit(X_train, y_train)\n",
    "\n",
    "# Generate predictions on validation set\n",
    "cvec_nb_pred = gs_cvec_nb.predict(X_val)\n",
    "\n",
    "# Print best parameters\n",
    "print('Best parameters: ', gs_cvec_nb.best_params_)\n",
    "\n",
    "# Print accuracy scores\n",
    "print('Best CV score: ', gs_cvec_nb.best_score_)\n",
    "print('Training score:', gs_cvec_nb.score(X_train, y_train))\n",
    "print('Validation score:', gs_cvec_nb.score(X_val, y_val))\n",
    "print('')\n",
    "\n",
    "# Print classification report and confusion matrix\n",
    "cmat(y_val, cvec_nb_pred, 'validation set')"
   ]
  },
  {
   "cell_type": "markdown",
   "metadata": {},
   "source": [
    "### TF-IDF & Naive Bayes"
   ]
  },
  {
   "cell_type": "code",
   "execution_count": 18,
   "metadata": {},
   "outputs": [
    {
     "name": "stdout",
     "output_type": "stream",
     "text": [
      "Best parameters:  {'tvec__max_df': 0.9, 'tvec__max_features': 500, 'tvec__min_df': 2}\n",
      "Best CV score:  0.8838941749825946\n",
      "Training score: 0.9043853342918764\n",
      "Validation score: 0.882183908045977\n",
      "\n",
      "Classification report for validation set\n",
      "              precision    recall  f1-score   support\n",
      "\n",
      "           0       0.87      0.94      0.91       424\n",
      "           1       0.90      0.79      0.84       272\n",
      "\n",
      "    accuracy                           0.88       696\n",
      "   macro avg       0.89      0.87      0.87       696\n",
      "weighted avg       0.88      0.88      0.88       696\n",
      "\n",
      "\n",
      "Confusion matrix for validation set\n",
      "                        Predicted Positive Review  Predicted Negative Review\n",
      "Actual Positive Review                        400                         24\n",
      "Actual Negative Review                         58                        214\n"
     ]
    }
   ],
   "source": [
    "# Create a pipeline with TF-IDF and Naive Bayes\n",
    "pipe_tvec_nb = Pipeline([\n",
    "    ('tvec', TfidfVectorizer(stop_words='english')),\n",
    "    ('nb', MultinomialNB())\n",
    "])\n",
    "\n",
    "# Search over the following values of hyperparameters:\n",
    "pipe_tvec_nb_params = {\n",
    "    'tvec__max_features': [500], #200\n",
    "    'tvec__min_df': [2,3], #\n",
    "    'tvec__max_df': [.9,.95], \n",
    "#     'tvec__ngram_range':[(1,1),(1,2)],  \n",
    "}\n",
    "\n",
    "# Instantiate GridSearchCV\n",
    "gs_tvec_nb = GridSearchCV(pipe_tvec_nb, # Objects to optimise\n",
    "                          param_grid = pipe_tvec_nb_params, # Hyperparameters for tuning\n",
    "                          cv=10) # 10-fold cross validation\n",
    "\n",
    "# Fit model on to training data\n",
    "gs_tvec_nb.fit(X_train, y_train)\n",
    "\n",
    "# Generate predictions on validation set\n",
    "tvec_nb_pred = gs_tvec_nb.predict(X_val)\n",
    "\n",
    "# Print best parameters\n",
    "print('Best parameters: ', gs_tvec_nb.best_params_)\n",
    "\n",
    "# Print accuracy scores\n",
    "print('Best CV score: ', gs_tvec_nb.best_score_)\n",
    "print('Training score:', gs_tvec_nb.score(X_train, y_train))\n",
    "print('Validation score:', gs_tvec_nb.score(X_val, y_val))\n",
    "print('')\n",
    "\n",
    "# Print classification report and confusion matrix\n",
    "cmat(y_val, tvec_nb_pred, 'validation set')"
   ]
  },
  {
   "cell_type": "markdown",
   "metadata": {},
   "source": [
    "### Count Vectorizer & SVC"
   ]
  },
  {
   "cell_type": "code",
   "execution_count": 19,
   "metadata": {},
   "outputs": [
    {
     "name": "stdout",
     "output_type": "stream",
     "text": [
      "Best parameters:  {'cvec__max_df': 0.9, 'cvec__max_features': 300, 'cvec__min_df': 2, 'svc__C': 0.1, 'svc__kernel': 'linear'}\n",
      "Best CV score:  0.8734689667620742\n",
      "Training score: 0.9000718907260963\n",
      "Validation score: 0.8721264367816092\n",
      "\n",
      "Classification report for validation set\n",
      "              precision    recall  f1-score   support\n",
      "\n",
      "           0       0.86      0.95      0.90       424\n",
      "           1       0.91      0.75      0.82       272\n",
      "\n",
      "    accuracy                           0.87       696\n",
      "   macro avg       0.88      0.85      0.86       696\n",
      "weighted avg       0.88      0.87      0.87       696\n",
      "\n",
      "\n",
      "Confusion matrix for validation set\n",
      "                        Predicted Positive Review  Predicted Negative Review\n",
      "Actual Positive Review                        403                         21\n",
      "Actual Negative Review                         68                        204\n"
     ]
    }
   ],
   "source": [
    "# Create a pipeline with Count Vectorizer and SVC\n",
    "pipe_cvec_svc = Pipeline([\n",
    "    ('cvec', CountVectorizer(stop_words='english')),\n",
    "    ('svc', SVC(random_state=42))\n",
    "])\n",
    "\n",
    "# Search over the following values of hyperparameters:\n",
    "pipe_cvec_svc_params = {\n",
    "    'cvec__max_features': [300], #200,500\n",
    "    'cvec__min_df': [2,3], \n",
    "    'cvec__max_df': [.9,.95], \n",
    "#     'cvec__ngram_range':[(1,1),(1,2)],  \n",
    "    'svc__kernel': ['linear'], #'poly', 'rbf'\n",
    "#     'svc__degree': [3],\n",
    "    'svc__C': [.1]\n",
    "}\n",
    "\n",
    "# Instantiate GridSearchCV\n",
    "gs_cvec_svc = GridSearchCV(pipe_cvec_svc, # Objects to optimise\n",
    "                          param_grid = pipe_cvec_svc_params, # Hyperparameters for tuning\n",
    "                          cv=10) # 10-fold cross validation\n",
    "\n",
    "# Fit model on to training data\n",
    "gs_cvec_svc.fit(X_train, y_train)\n",
    "\n",
    "# Generate predictions on validation set\n",
    "cvec_svc_pred = gs_cvec_svc.predict(X_val)\n",
    "\n",
    "# Print best parameters\n",
    "print('Best parameters: ', gs_cvec_svc.best_params_)\n",
    "\n",
    "# Print accuracy scores\n",
    "print('Best CV score: ', gs_cvec_svc.best_score_)\n",
    "print('Training score:', gs_cvec_svc.score(X_train, y_train))\n",
    "print('Validation score:', gs_cvec_svc.score(X_val, y_val))\n",
    "print('')\n",
    "\n",
    "# Print classification report and confusion matrix\n",
    "cmat(y_val, cvec_svc_pred, 'validation set')"
   ]
  },
  {
   "cell_type": "markdown",
   "metadata": {},
   "source": [
    "### TF-IDF & SVC"
   ]
  },
  {
   "cell_type": "code",
   "execution_count": 20,
   "metadata": {},
   "outputs": [
    {
     "name": "stdout",
     "output_type": "stream",
     "text": [
      "Best parameters:  {'svc__C': 0.1, 'svc__kernel': 'linear', 'tvec__max_df': 0.9, 'tvec__max_features': 800, 'tvec__min_df': 3}\n",
      "Best CV score:  0.8810177664320158\n",
      "Training score: 0.9011502516175414\n",
      "Validation score: 0.8994252873563219\n",
      "\n",
      "Classification report for validation set\n",
      "              precision    recall  f1-score   support\n",
      "\n",
      "           0       0.92      0.92      0.92       424\n",
      "           1       0.87      0.87      0.87       272\n",
      "\n",
      "    accuracy                           0.90       696\n",
      "   macro avg       0.89      0.89      0.89       696\n",
      "weighted avg       0.90      0.90      0.90       696\n",
      "\n",
      "\n",
      "Confusion matrix for validation set\n",
      "                        Predicted Positive Review  Predicted Negative Review\n",
      "Actual Positive Review                        389                         35\n",
      "Actual Negative Review                         35                        237\n"
     ]
    }
   ],
   "source": [
    "# Create a pipeline with TF-IDF Vectorizer and SVC\n",
    "pipe_tvec_svc = Pipeline([\n",
    "    ('tvec', TfidfVectorizer(stop_words='english')),\n",
    "    ('svc', SVC(probability=True, random_state=42)) \n",
    "])\n",
    "\n",
    "# Search over the following values of hyperparameters:\n",
    "pipe_tvec_svc_params = {\n",
    "    'tvec__max_features': [800], #200,500\n",
    "    'tvec__min_df': [2,3], \n",
    "    'tvec__max_df': [.9,.95], \n",
    "#     'tvec__ngram_range':[(1,1),(1,2)],  \n",
    "    'svc__kernel': ['linear'], #'poly', 'rbf'\n",
    "#     'svc__degree': [3],\n",
    "    'svc__C': [.1] # .01\n",
    "}\n",
    "\n",
    "# Instantiate GridSearchCV\n",
    "gs_tvec_svc = GridSearchCV(pipe_tvec_svc, # Objects to optimise\n",
    "                          param_grid = pipe_tvec_svc_params, # Hyperparameters for tuning\n",
    "                          cv=10) # 10-fold cross validation\n",
    "\n",
    "# Fit model on to training data\n",
    "gs_tvec_svc.fit(X_train, y_train)\n",
    "\n",
    "# Generate predictions on validation set\n",
    "tvec_svc_pred = gs_tvec_svc.predict(X_val)\n",
    "\n",
    "# Print best parameters\n",
    "print('Best parameters: ', gs_tvec_svc.best_params_)\n",
    "\n",
    "# Print accuracy scores\n",
    "print('Best CV score: ', gs_tvec_svc.best_score_)\n",
    "print('Training score:', gs_tvec_svc.score(X_train, y_train))\n",
    "print('Validation score:', gs_tvec_svc.score(X_val, y_val))\n",
    "print('')\n",
    "\n",
    "# Print classification report and confusion matrix\n",
    "cmat(y_val, tvec_svc_pred, 'validation set')"
   ]
  },
  {
   "cell_type": "markdown",
   "metadata": {},
   "source": [
    "### Voting Classifier"
   ]
  },
  {
   "cell_type": "markdown",
   "metadata": {},
   "source": [
    "Given that the Logistic Regression and SVC are rather diverse algorithms, we will use ensemble learning in an attempt to improve our model's accuracy and recall. We will use a Voting Classifier where the winning class will be determined by soft voting. As the SVC returned a better recall rate than the Logistic Regression, we will give a higher voting weight to the SVC than the Logistic Regression."
   ]
  },
  {
   "cell_type": "code",
   "execution_count": 21,
   "metadata": {},
   "outputs": [
    {
     "name": "stdout",
     "output_type": "stream",
     "text": [
      "Training score: 0.9022286125089863\n",
      "Validation score: 0.9037356321839081\n",
      "\n",
      "Classification report for validation set\n",
      "              precision    recall  f1-score   support\n",
      "\n",
      "           0       0.92      0.93      0.92       424\n",
      "           1       0.88      0.87      0.88       272\n",
      "\n",
      "    accuracy                           0.90       696\n",
      "   macro avg       0.90      0.90      0.90       696\n",
      "weighted avg       0.90      0.90      0.90       696\n",
      "\n",
      "\n",
      "Confusion matrix for validation set\n",
      "                        Predicted Positive Review  Predicted Negative Review\n",
      "Actual Positive Review                        393                         31\n",
      "Actual Negative Review                         36                        236\n"
     ]
    }
   ],
   "source": [
    "# Instantiate the Voting Classifier with TF-IDF Logistic Regression and SVC\n",
    "voting_clf = VotingClassifier(\n",
    "    estimators=[('tvec_lr', gs_tvec_lr),\n",
    "                ('tvec_svc', gs_tvec_svc)], \n",
    "    voting='soft', \n",
    "    weights=[1,2]\n",
    ")\n",
    "\n",
    "# Fit model on to training data\n",
    "voting_clf.fit(X_train, y_train)\n",
    "\n",
    "# Generate predictions on validation set\n",
    "voting_pred = voting_clf.predict(X_val)\n",
    "\n",
    "# Print accuracy scores\n",
    "print('Training score:', voting_clf.score(X_train, y_train))\n",
    "print('Validation score:', voting_clf.score(X_val, y_val))\n",
    "print('')\n",
    "\n",
    "# Print classification report and confusion matrix\n",
    "cmat(y_val, voting_pred, 'validation set')"
   ]
  },
  {
   "cell_type": "markdown",
   "metadata": {},
   "source": [
    "The ensemble reduces the model's bias and returns a better accuracy score than the best of the base estimators."
   ]
  },
  {
   "cell_type": "markdown",
   "metadata": {},
   "source": [
    "## Deep Learning"
   ]
  },
  {
   "cell_type": "markdown",
   "metadata": {},
   "source": [
    "LSTM is an extension of RNN and are very effective for sequential data like texts because they can relate to the sentence's context very well. Using corpus embedding from our dataset had in fact outperformed models that were built using pre-trained word embeddings like Word2vec and GloVe. This is probably due to domain specific nature of our dataset. Given the social media context and misspellings in our corpus, it is possible that there were no corresponding vectors from the pre-trained word embeddings. Hence, we will be using our corpus embedding to build a deep network."
   ]
  },
  {
   "cell_type": "code",
   "execution_count": 22,
   "metadata": {},
   "outputs": [],
   "source": [
    "# Extract the X and y values from the train and validation set\n",
    "X_train_list = X_train.values\n",
    "X_val_list = X_val.values\n",
    "\n",
    "y_train_list = y_train.values\n",
    "y_val_list = y_val.values"
   ]
  },
  {
   "cell_type": "code",
   "execution_count": 23,
   "metadata": {},
   "outputs": [],
   "source": [
    "max_words = 1000 # Note: Model tends to overfit when max_words is set to 2000-3000 words\n",
    "\n",
    "# Tokenize the data\n",
    "tokenizer = Tokenizer(num_words=max_words)\n",
    "tokenizer.fit_on_texts(list(X_train_list))\n",
    "\n",
    "# Convert the text to sequences\n",
    "X_train_list = tokenizer.texts_to_sequences(X_train_list)\n",
    "X_val_list = tokenizer.texts_to_sequences(X_val_list)"
   ]
  },
  {
   "cell_type": "code",
   "execution_count": 24,
   "metadata": {},
   "outputs": [
    {
     "name": "stdout",
     "output_type": "stream",
     "text": [
      "Vocabulary size: 2756\n"
     ]
    }
   ],
   "source": [
    "vocab_size = len(tokenizer.word_index)+1\n",
    "print('Vocabulary size:', vocab_size)"
   ]
  },
  {
   "cell_type": "markdown",
   "metadata": {},
   "source": [
    "Add padding to ensure that all the sequences have the same shape. As the average length of a negative review is 15 words and a positive review is 7 words, we will set a max length of 20."
   ]
  },
  {
   "cell_type": "code",
   "execution_count": 25,
   "metadata": {},
   "outputs": [],
   "source": [
    "max_length = 20 \n",
    "\n",
    "X_train_padded = pad_sequences(X_train_list, maxlen=max_length, padding='post')\n",
    "X_val_padded = pad_sequences(X_val_list, maxlen=max_length, padding='post')"
   ]
  },
  {
   "cell_type": "markdown",
   "metadata": {},
   "source": [
    "Next, we will create the network topology. The training data is fed to a three-layered neural network. The first layer is a Bidirectional LSTM with 8 nodes. The second layer is a dense layer with 8 nodes and the output layer with just one node."
   ]
  },
  {
   "cell_type": "code",
   "execution_count": 26,
   "metadata": {},
   "outputs": [],
   "source": [
    "# Instantiate model\n",
    "model = Sequential()\n",
    "\n",
    "# Add embedding layer, embed_dim:8\n",
    "model.add(Embedding(vocab_size, 8, input_length=max_length)) \n",
    "\n",
    "# SpatialDropout1D performs variational dropout\n",
    "model.add(SpatialDropout1D(0.2))\n",
    "\n",
    "# Add LSTM\n",
    "model.add(Bidirectional(LSTM(8, return_sequences=True, dropout=0.5, recurrent_dropout=0))) \n",
    "\n",
    "# Add a dense layer\n",
    "model.add(Dense(8, activation='relu'))\n",
    "\n",
    "# Add output layer\n",
    "model.add(Dense(1, activation='sigmoid'))\n",
    "\n",
    "# Compile the model\n",
    "model.compile(optimizer=Adam(lr=0.001), loss='binary_crossentropy', metrics=['accuracy'])"
   ]
  },
  {
   "cell_type": "code",
   "execution_count": 27,
   "metadata": {},
   "outputs": [
    {
     "name": "stdout",
     "output_type": "stream",
     "text": [
      "Model: \"sequential\"\n",
      "_________________________________________________________________\n",
      "Layer (type)                 Output Shape              Param #   \n",
      "=================================================================\n",
      "embedding (Embedding)        (None, 20, 8)             22048     \n",
      "_________________________________________________________________\n",
      "spatial_dropout1d (SpatialDr (None, 20, 8)             0         \n",
      "_________________________________________________________________\n",
      "bidirectional (Bidirectional (None, 20, 16)            1088      \n",
      "_________________________________________________________________\n",
      "dense (Dense)                (None, 20, 8)             136       \n",
      "_________________________________________________________________\n",
      "dense_1 (Dense)              (None, 20, 1)             9         \n",
      "=================================================================\n",
      "Total params: 23,281\n",
      "Trainable params: 23,281\n",
      "Non-trainable params: 0\n",
      "_________________________________________________________________\n"
     ]
    }
   ],
   "source": [
    "model.summary()"
   ]
  },
  {
   "cell_type": "markdown",
   "metadata": {},
   "source": [
    "We have created callbacks to save the models and weights. Note that we have intentionally commented out the following cells to avoid re-running the cells which will generate a different set of models and weights."
   ]
  },
  {
   "cell_type": "code",
   "execution_count": 28,
   "metadata": {},
   "outputs": [],
   "source": [
    "# Callback to save the models and weights\n",
    "\n",
    "# outputFolder = '../output'\n",
    "# if not os.path.exists(outputFolder):\n",
    "#     os.makedirs(outputFolder)\n",
    "# filepath = outputFolder+\"/model-{epoch:02d}-{val_accuracy:.2f}.hdf5\"\n",
    "\n",
    "# checkpoint_callback = ModelCheckpoint(\n",
    "#     filepath, monitor='val_accuracy', verbose=1,\n",
    "#     save_best_only=False, save_weights_only=False,\n",
    "#     save_frequency=1)"
   ]
  },
  {
   "cell_type": "code",
   "execution_count": 29,
   "metadata": {},
   "outputs": [],
   "source": [
    "# %%time\n",
    "# Fit the model and store it in the history object\n",
    "# history = model.fit(X_train_padded, y_train_list, epochs=10, batch_size=64, validation_data=(X_val_padded, y_val_list), callbacks=[checkpoint_callback])"
   ]
  },
  {
   "cell_type": "markdown",
   "metadata": {},
   "source": [
    "<img src=\"../images/lstm_fit_output.png\" width=\"1200\" align=\"left\">"
   ]
  },
  {
   "cell_type": "code",
   "execution_count": 30,
   "metadata": {},
   "outputs": [],
   "source": [
    "# Plot the training and validation loss by epoch\n",
    "\n",
    "# plt.figure(figsize=(10,8))\n",
    "# epochs = range(1,11)\n",
    "# plt.plot(epochs, history.history['loss'], label='Training loss')\n",
    "# plt.plot(epochs, history.history['val_loss'], label='Validation loss')\n",
    "# plt.title('Training and Validation Loss by Epoch', size=15, weight='bold')\n",
    "# plt.xlabel('Epochs', size=12)\n",
    "# plt.ylabel('Loss', size=12)\n",
    "# plt.xticks(np.arange(1,11,1))\n",
    "# plt.legend();"
   ]
  },
  {
   "cell_type": "markdown",
   "metadata": {},
   "source": [
    "<img src=\"../images/loss_by_epoch.png\" width=\"600\" align=\"left\">"
   ]
  },
  {
   "cell_type": "code",
   "execution_count": 31,
   "metadata": {},
   "outputs": [],
   "source": [
    "# Plot the training and validation accuracy by epoch\n",
    "\n",
    "# plt.figure(figsize=(10,8))\n",
    "# epochs = range(1,11)\n",
    "# plt.plot(epochs, history.history['accuracy'], label='Training accuracy')\n",
    "# plt.plot(epochs, history.history['val_accuracy'], label='Validation accuracy')\n",
    "# plt.title('Training and Validation Accuracy by Epoch', size=15, weight='bold')\n",
    "# plt.xlabel('Epochs', size=12)\n",
    "# plt.ylabel('Accuracy', size=12)\n",
    "# plt.xticks(np.arange(1,11,1))\n",
    "# plt.legend();"
   ]
  },
  {
   "cell_type": "markdown",
   "metadata": {},
   "source": [
    "<img src=\"../images/accuracy_by_epoch.png\" width=\"600\" align=\"left\">"
   ]
  },
  {
   "cell_type": "markdown",
   "metadata": {},
   "source": [
    "Given that validation loss stagnants after the 5th epoch while accuracy peaks at the 5th epoch, we will use the weights from model-05.\n"
   ]
  },
  {
   "cell_type": "markdown",
   "metadata": {},
   "source": [
    "### Loading a check-pointed model"
   ]
  },
  {
   "cell_type": "code",
   "execution_count": 32,
   "metadata": {},
   "outputs": [],
   "source": [
    "# Load weights\n",
    "model.load_weights('../output/model-05-0.90.hdf5')"
   ]
  },
  {
   "cell_type": "code",
   "execution_count": 33,
   "metadata": {},
   "outputs": [],
   "source": [
    "# Compile the model\n",
    "model.compile(optimizer=Adam(lr=0.001), loss='binary_crossentropy', metrics=['accuracy'])"
   ]
  },
  {
   "cell_type": "code",
   "execution_count": 34,
   "metadata": {},
   "outputs": [],
   "source": [
    "# Generate predictions on validation set\n",
    "class_preds = (model.predict(X_val_padded) > 0.5).astype(int)"
   ]
  },
  {
   "cell_type": "code",
   "execution_count": 35,
   "metadata": {},
   "outputs": [],
   "source": [
    "val_preds = []\n",
    "\n",
    "# Loop through the class prediction list and append the predictions to val_preds\n",
    "for i in class_preds:\n",
    "    val_preds.append(i[0][0])\n",
    "\n",
    "# Convert val_preds to a series\n",
    "val_preds = pd.Series(val_preds)"
   ]
  },
  {
   "cell_type": "code",
   "execution_count": 36,
   "metadata": {
    "scrolled": false
   },
   "outputs": [
    {
     "name": "stderr",
     "output_type": "stream",
     "text": [
      "/opt/anaconda3/lib/python3.7/site-packages/tensorflow/python/training/tracking/data_structures.py:718: DeprecationWarning: Using or importing the ABCs from 'collections' instead of from 'collections.abc' is deprecated since Python 3.3,and in 3.9 it will stop working\n",
      "  if not isinstance(wrapped_dict, collections.Mapping):\n"
     ]
    },
    {
     "name": "stdout",
     "output_type": "stream",
     "text": [
      "Accuracy score on training set:  0.9162651300430298\n",
      "Accuracy score on validation set:  0.896264374256134\n",
      "\n",
      "Classification report for validation set\n",
      "              precision    recall  f1-score   support\n",
      "\n",
      "           0       0.89      0.94      0.92       424\n",
      "           1       0.90      0.82      0.86       272\n",
      "\n",
      "    accuracy                           0.90       696\n",
      "   macro avg       0.90      0.88      0.89       696\n",
      "weighted avg       0.90      0.90      0.89       696\n",
      "\n",
      "\n",
      "Confusion matrix for validation set\n",
      "                        Predicted Positive Review  Predicted Negative Review\n",
      "Actual Positive Review                        399                         25\n",
      "Actual Negative Review                         48                        224\n"
     ]
    }
   ],
   "source": [
    "# Accuracy scores\n",
    "print('Accuracy score on training set: ', model.evaluate(X_train_padded, y_train_list, verbose=0)[1])\n",
    "print('Accuracy score on validation set: ', model.evaluate(X_val_padded, y_val_list, verbose=0)[1])\n",
    "print('')\n",
    "\n",
    "# Print classification report and confusion matrix for validation set\n",
    "cmat(y_val, val_preds, 'validation set')"
   ]
  },
  {
   "cell_type": "markdown",
   "metadata": {},
   "source": [
    "LSTM did not outperform our BoW model, the Voting Classifier, in accuracy or recall. This may be due to the fact that our dataset is rather small with an average of 7-15 words per review."
   ]
  },
  {
   "cell_type": "markdown",
   "metadata": {},
   "source": [
    "## Model Evaluation: Summary Metrics"
   ]
  },
  {
   "cell_type": "markdown",
   "metadata": {},
   "source": [
    "The table below provides an overview of the models' performance, sorted by accuracy and recall on the validation set in descending order."
   ]
  },
  {
   "cell_type": "markdown",
   "metadata": {},
   "source": [
    "|                                                             \t| Accuracy on Training Set \t| Accuracy on Validation Set \t| Recall on Validation Set \t|\n",
    "|:-------------------------------------------------------------\t|:--------------------------:\t|:----------------------------:\t|:--------------------------:\t|\n",
    "| Voting Classifier (TF-IDF Logistic Regression & TF-IDF SVC) \t| 0.902                    \t| 0.904                      \t| 0.87                     \t|\n",
    "| TF-IDF & SVC                                                \t| 0.901                    \t| 0.899                      \t| 0.87                     \t|\n",
    "| Count Vectorizer & Naïve Bayes                              \t| 0.898                    \t| 0.898                      \t| 0.83                     \t|\n",
    "| Bidirectional LSTM                                          \t| 0.916                    \t| 0.896                      \t| 0.82                     \t|\n",
    "| TF-IDF & Logistic Regression                                \t| 0.906                    \t| 0.892                      \t| 0.81                     \t|\n",
    "| TF-IDF & Naïve Bayes                                        \t| 0.904                    \t| 0.882                      \t| 0.79                     \t|\n",
    "| Count Vectorizer & SVC                                      \t| 0.900                    \t| 0.872                      \t| 0.75                     \t|\n",
    "| Count Vectorizer & Logistic Regression                      \t| 0.882                    \t| 0.861                      \t| 0.71                     \t|"
   ]
  },
  {
   "cell_type": "markdown",
   "metadata": {},
   "source": [
    "The Voting Classifier was selected as our production model as it achieved the highest accuracy and recall on the validation set. An ensemble of a logistic regression and SVC, the Voting Classifier attained an accuracy of 0.904 on the validation data and a recall of 0.87. Given that the model is able to correctly predict 87% of the actual negative reviews on Google Play, Shopee's product managers will now be able to identify negative reviews and understand the pain points among dissatisfied customers.  \n",
    "\n",
    "As the base estimators (Logistic Regression and SVC) of our Voting Classifier are rather diverse, the ensemble results in a better accuracy score than the best of the base estimators. The ensemble aggregates the predictions of the base estimators and helps to cover for the weaknesses of the individual models, which in turn reduces the production model's bias.\n",
    "\n",
    "The model was deployed to [Heroku](https://shopee-sentiment-analysis.herokuapp.com/)."
   ]
  },
  {
   "cell_type": "markdown",
   "metadata": {},
   "source": [
    "## Production Model's Most Predictive Words"
   ]
  },
  {
   "cell_type": "markdown",
   "metadata": {},
   "source": [
    "Now, let's look at the most predictive words from the Logistic Regression and SVC to understand how our Voting Classifier classifies positive and negative sentiment."
   ]
  },
  {
   "cell_type": "markdown",
   "metadata": {},
   "source": [
    "### Logistic Regression"
   ]
  },
  {
   "cell_type": "code",
   "execution_count": 37,
   "metadata": {},
   "outputs": [],
   "source": [
    "# Save the words obtained from TF-IDF vectorizer in a dataframe\n",
    "lr_coef = pd.DataFrame(gs_tvec_lr.best_estimator_.named_steps['tvec'].get_feature_names(), columns=['word'])"
   ]
  },
  {
   "cell_type": "code",
   "execution_count": 38,
   "metadata": {},
   "outputs": [],
   "source": [
    "# Use np.exp() to exponentiate the coefficients\n",
    "lr_coef['exp_coef'] = np.exp(gs_tvec_lr.best_estimator_.named_steps['lr'].coef_[0])"
   ]
  },
  {
   "cell_type": "code",
   "execution_count": 39,
   "metadata": {
    "scrolled": false
   },
   "outputs": [],
   "source": [
    "# Top words related to positive sentiment (class 0)\n",
    "pos_sent_lr = lr_coef.sort_values(by='exp_coef').head(10)\n",
    "\n",
    "# Top words related to negative sentiment (class 1)\n",
    "neg_sent_lr = lr_coef.sort_values(by='exp_coef').tail(10)"
   ]
  },
  {
   "cell_type": "code",
   "execution_count": 40,
   "metadata": {},
   "outputs": [
    {
     "data": {
      "image/png": "[encoded data removed]",
      "text/plain": [
       "<Figure size 720x576 with 1 Axes>"
      ]
     },
     "metadata": {
      "needs_background": "light"
     },
     "output_type": "display_data"
    }
   ],
   "source": [
    "pos_sent_lr.sort_values('exp_coef', ascending=False).plot(x='word', y='exp_coef', kind='barh', figsize=(10,8), legend=None, color='#28B463')\n",
    "plt.title(\"Logistic Regression's Top 10 Most Predictive Words for Positive Sentiment\", size=15, weight='bold')\n",
    "plt.yticks(size=12)\n",
    "plt.ylabel('Word', size=12)\n",
    "plt.xlabel(\"Coefficient (exponential)\", size=12)\n",
    "plt.tight_layout();"
   ]
  },
  {
   "cell_type": "code",
   "execution_count": 41,
   "metadata": {
    "scrolled": false
   },
   "outputs": [
    {
     "data": {
      "image/png": "[encoded data removed]",
      "text/plain": [
       "<Figure size 720x576 with 1 Axes>"
      ]
     },
     "metadata": {
      "needs_background": "light"
     },
     "output_type": "display_data"
    }
   ],
   "source": [
    "neg_sent_lr.plot(x='word', y='exp_coef', kind='barh', figsize=(10,8), legend=None, color='#CB4335')\n",
    "plt.title(\"Logistic Regression's Top 10 Most Predictive Words for Negative Sentiment\", size=15, weight='bold')\n",
    "plt.yticks(size=12)\n",
    "plt.ylabel('Word', size=12)\n",
    "plt.xlabel(\"Coefficient (exponential)\", size=12)\n",
    "plt.tight_layout();"
   ]
  },
  {
   "cell_type": "markdown",
   "metadata": {},
   "source": [
    "Words like 'easi', 'great', 'good' are the most predictive words associated with positive sentiment. 'Easi' probably refers to Shopee's easy to use shopping platform. On the other hand, 'load', 'worst' and 'scam' are most closely associated to negative sentiment. 'Load' probably relates to the app taking a long time to load while 'scam' may indicate that several customers have encountered seller scams on Shopee. As the occurence of the word 'load' increases by 1, the likelihood of the review being negative, increases by more than 14 times."
   ]
  },
  {
   "cell_type": "markdown",
   "metadata": {},
   "source": [
    "### SVC"
   ]
  },
  {
   "cell_type": "code",
   "execution_count": 42,
   "metadata": {
    "scrolled": true
   },
   "outputs": [],
   "source": [
    "# Save the words obtained from TF-IDF vectorizer in a dataframe\n",
    "svc_coef = pd.DataFrame(gs_tvec_svc.best_estimator_.named_steps['tvec'].get_feature_names(), columns=['word'])"
   ]
  },
  {
   "cell_type": "code",
   "execution_count": 43,
   "metadata": {},
   "outputs": [],
   "source": [
    "# Coefficients\n",
    "svc_coef['coef'] = gs_tvec_svc.best_estimator_.named_steps['svc'].coef_.toarray()[0]"
   ]
  },
  {
   "cell_type": "code",
   "execution_count": 44,
   "metadata": {},
   "outputs": [],
   "source": [
    "# Top words related to positive sentiment (class 0)\n",
    "pos_sent_svc = svc_coef.sort_values(by='coef').head(10)\n",
    "\n",
    "# Top words related to negative sentiment (class 1)\n",
    "neg_sent_svc = svc_coef.sort_values(by='coef').tail(10)"
   ]
  },
  {
   "cell_type": "code",
   "execution_count": 45,
   "metadata": {},
   "outputs": [
    {
     "data": {
      "image/png": "[encoded data removed]",
      "text/plain": [
       "<Figure size 720x576 with 1 Axes>"
      ]
     },
     "metadata": {
      "needs_background": "light"
     },
     "output_type": "display_data"
    }
   ],
   "source": [
    "pos_sent_svc.sort_values('coef', ascending=False).plot(x='word', y='coef', kind='barh', figsize=(10,8), legend=None, color='#28B463')\n",
    "plt.title(\"SVC's Top 10 Most Predictive Words for Positive Sentiment\", size=15, weight='bold')\n",
    "plt.yticks(size=12)\n",
    "plt.ylabel('Word', size=12)\n",
    "plt.xlabel(\"Coefficient\", size=12)\n",
    "plt.tight_layout();"
   ]
  },
  {
   "cell_type": "code",
   "execution_count": 46,
   "metadata": {
    "scrolled": false
   },
   "outputs": [
    {
     "data": {
      "image/png": "[encoded data removed]",
      "text/plain": [
       "<Figure size 720x576 with 1 Axes>"
      ]
     },
     "metadata": {
      "needs_background": "light"
     },
     "output_type": "display_data"
    }
   ],
   "source": [
    "neg_sent_svc.plot(x='word', y='coef', kind='barh', figsize=(10,8), legend=None, color='#CB4335')\n",
    "plt.title(\"SVC's Top 10 Most Predictive Words for Negative Sentiment\", size=15, weight='bold')\n",
    "plt.yticks(size=12)\n",
    "plt.ylabel('Word', size=12)\n",
    "plt.xlabel(\"Coefficient\", size=12)\n",
    "plt.tight_layout();"
   ]
  },
  {
   "cell_type": "markdown",
   "metadata": {},
   "source": [
    "Given that the SVC is non-parametric, we are unable to directly interpret the model's coefficient. Nonetheless, we can tell that there are certain words that are closely related to the positive or negative sentiment in our corpus. Similar to the logistic regression, the SVC indicates that the words 'easi', 'good' and 'great' are related to positive sentiments. On the other hand, words like 'load', 'scam' and 'updat' are closely associated to negative reviews."
   ]
  },
  {
   "cell_type": "markdown",
   "metadata": {},
   "source": [
    "## Misclassified Reviews on Validation Set"
   ]
  },
  {
   "cell_type": "markdown",
   "metadata": {},
   "source": [
    "Let's have a look at the misclassified reviews to understand the limitations in our production model."
   ]
  },
  {
   "cell_type": "code",
   "execution_count": 47,
   "metadata": {},
   "outputs": [],
   "source": [
    "# Create a dataframe for only the validation data\n",
    "val_df = reviews.loc[y_val.index, :] \n",
    "\n",
    "# Insert a column for predictions\n",
    "val_df['pred'] = voting_pred"
   ]
  },
  {
   "cell_type": "code",
   "execution_count": 48,
   "metadata": {},
   "outputs": [],
   "source": [
    "# Create a column to indicate if the review was correctly predicted\n",
    "val_df['correctly_classified'] = (val_df['pred'] == val_df['target'])"
   ]
  },
  {
   "cell_type": "code",
   "execution_count": 49,
   "metadata": {},
   "outputs": [
    {
     "data": {
      "text/plain": [
       "(67, 6)"
      ]
     },
     "execution_count": 49,
     "metadata": {},
     "output_type": "execute_result"
    }
   ],
   "source": [
    "# 67 misclassified reviews\n",
    "val_df[val_df['correctly_classified']==0].shape"
   ]
  },
  {
   "cell_type": "code",
   "execution_count": 50,
   "metadata": {
    "scrolled": false
   },
   "outputs": [
    {
     "data": {
      "text/html": [
       "<div>\n",
       "<style scoped>\n",
       "    .dataframe tbody tr th:only-of-type {\n",
       "        vertical-align: middle;\n",
       "    }\n",
       "\n",
       "    .dataframe tbody tr th {\n",
       "        vertical-align: top;\n",
       "    }\n",
       "\n",
       "    .dataframe thead th {\n",
       "        text-align: right;\n",
       "    }\n",
       "</style>\n",
       "<table border=\"1\" class=\"dataframe\">\n",
       "  <thead>\n",
       "    <tr style=\"text-align: right;\">\n",
       "      <th></th>\n",
       "      <th>content</th>\n",
       "      <th>content_stem</th>\n",
       "      <th>score</th>\n",
       "      <th>target</th>\n",
       "      <th>pred</th>\n",
       "    </tr>\n",
       "  </thead>\n",
       "  <tbody>\n",
       "    <tr>\n",
       "      <th>1497</th>\n",
       "      <td>The app always crashes when log in it keep saying loading now cannot get into account Update : works now</td>\n",
       "      <td>alway crash log keep say load cannot get account updat work</td>\n",
       "      <td>4</td>\n",
       "      <td>0</td>\n",
       "      <td>1</td>\n",
       "    </tr>\n",
       "    <tr>\n",
       "      <th>2408</th>\n",
       "      <td>more promo code</td>\n",
       "      <td>promo code</td>\n",
       "      <td>4</td>\n",
       "      <td>0</td>\n",
       "      <td>1</td>\n",
       "    </tr>\n",
       "    <tr>\n",
       "      <th>2467</th>\n",
       "      <td>Shopee has become one of my most frequented app...my wallet is crying 😂</td>\n",
       "      <td>becom one frequent wallet cri</td>\n",
       "      <td>5</td>\n",
       "      <td>0</td>\n",
       "      <td>1</td>\n",
       "    </tr>\n",
       "    <tr>\n",
       "      <th>1018</th>\n",
       "      <td>Very laggy. Takes 3 to 5 secs for each page to load</td>\n",
       "      <td>laggi take sec page load</td>\n",
       "      <td>4</td>\n",
       "      <td>0</td>\n",
       "      <td>1</td>\n",
       "    </tr>\n",
       "    <tr>\n",
       "      <th>2208</th>\n",
       "      <td>No comment</td>\n",
       "      <td>comment</td>\n",
       "      <td>5</td>\n",
       "      <td>0</td>\n",
       "      <td>1</td>\n",
       "    </tr>\n",
       "    <tr>\n",
       "      <th>1592</th>\n",
       "      <td>Shock!</td>\n",
       "      <td>shock</td>\n",
       "      <td>4</td>\n",
       "      <td>0</td>\n",
       "      <td>1</td>\n",
       "    </tr>\n",
       "    <tr>\n",
       "      <th>3327</th>\n",
       "      <td>I like how most of my purchases are fulfilled and refunds are done on time and everything is tracked perfectly. Also, bring back BlackPink as the face of Shopee instead of discount Ronaldo.</td>\n",
       "      <td>like purchas fulfil refund done time everyth track perfectli also bring back blackpink face instead discount ronaldo</td>\n",
       "      <td>5</td>\n",
       "      <td>0</td>\n",
       "      <td>1</td>\n",
       "    </tr>\n",
       "    <tr>\n",
       "      <th>2086</th>\n",
       "      <td>Can be trusted.</td>\n",
       "      <td>trust</td>\n",
       "      <td>5</td>\n",
       "      <td>0</td>\n",
       "      <td>1</td>\n",
       "    </tr>\n",
       "    <tr>\n",
       "      <th>1230</th>\n",
       "      <td>it's long wait to open the apps.</td>\n",
       "      <td>long wait open app</td>\n",
       "      <td>4</td>\n",
       "      <td>0</td>\n",
       "      <td>1</td>\n",
       "    </tr>\n",
       "    <tr>\n",
       "      <th>3384</th>\n",
       "      <td>Friends unable to use my referral code</td>\n",
       "      <td>friend unabl use referr code</td>\n",
       "      <td>4</td>\n",
       "      <td>0</td>\n",
       "      <td>1</td>\n",
       "    </tr>\n",
       "    <tr>\n",
       "      <th>1628</th>\n",
       "      <td>The app has minimal lagging, and the item specifications and other information categories are neatly organized.</td>\n",
       "      <td>minim lag specif inform categori neatli organ</td>\n",
       "      <td>4</td>\n",
       "      <td>0</td>\n",
       "      <td>1</td>\n",
       "    </tr>\n",
       "    <tr>\n",
       "      <th>2098</th>\n",
       "      <td>Recently been unable to sort items by price.</td>\n",
       "      <td>recent unabl sort price</td>\n",
       "      <td>4</td>\n",
       "      <td>0</td>\n",
       "      <td>1</td>\n",
       "    </tr>\n",
       "    <tr>\n",
       "      <th>1839</th>\n",
       "      <td>Only reason for not 5star is because it lets sellers advertise items that they are already out of stock for.</td>\n",
       "      <td>reason star let advertis alreadi stock</td>\n",
       "      <td>4</td>\n",
       "      <td>0</td>\n",
       "      <td>1</td>\n",
       "    </tr>\n",
       "    <tr>\n",
       "      <th>3315</th>\n",
       "      <td>Reliable but the interface seems loaded with too much information. Need time to get use to the pages</td>\n",
       "      <td>reliabl interfac seem load much inform need time get use page</td>\n",
       "      <td>4</td>\n",
       "      <td>0</td>\n",
       "      <td>1</td>\n",
       "    </tr>\n",
       "    <tr>\n",
       "      <th>2486</th>\n",
       "      <td>Items ordered delivered on time.. Not bad.</td>\n",
       "      <td>order deliv time</td>\n",
       "      <td>5</td>\n",
       "      <td>0</td>\n",
       "      <td>1</td>\n",
       "    </tr>\n",
       "    <tr>\n",
       "      <th>3166</th>\n",
       "      <td>Many items are available here, and the price is one of the lowest. Would like shopee to look into their auto payment to seller when buyer haven't review the product after it has delivered. There was a case of a cracked phone cover.</td>\n",
       "      <td>mani avail price one lowest would like look auto payment buyer review product deliv case crack phone cover</td>\n",
       "      <td>5</td>\n",
       "      <td>0</td>\n",
       "      <td>1</td>\n",
       "    </tr>\n",
       "    <tr>\n",
       "      <th>2604</th>\n",
       "      <td>Shopee is one of the top ecommerce shopping app to use. However, they should have a more stringent process of allowing China sellers to be on the platform. I have encountered many issues with China sellers, either received faulty item or send wrong item. Some are sincere in resolving but some are not., resulting a waste of money. Perhaps there should be a quality check on these sellers?</td>\n",
       "      <td>one top ecommerc shop use howev stringent process allow china platform encount mani issu china either receiv faulti send wrong sincer resolv result wast money perhap qualiti check</td>\n",
       "      <td>4</td>\n",
       "      <td>0</td>\n",
       "      <td>1</td>\n",
       "    </tr>\n",
       "    <tr>\n",
       "      <th>2574</th>\n",
       "      <td>Happy with the support</td>\n",
       "      <td>happi support</td>\n",
       "      <td>4</td>\n",
       "      <td>0</td>\n",
       "      <td>1</td>\n",
       "    </tr>\n",
       "    <tr>\n",
       "      <th>673</th>\n",
       "      <td>I'm 1st timer but cant get the freebie when the freebie even in my cart. Pls advise</td>\n",
       "      <td>st timer cant get freebi freebi even cart pl advis</td>\n",
       "      <td>4</td>\n",
       "      <td>0</td>\n",
       "      <td>1</td>\n",
       "    </tr>\n",
       "    <tr>\n",
       "      <th>1038</th>\n",
       "      <td>I am a frequent user of this apps. Shopee needs to have a strict rules and requirements apply to sellers as to have a smooth transaction for buyers. 1) Seller shouldn't list items that is not in stock and at the end of the day we need to go through the refund process. 2) Encountered many times that seller requested to cancel order as they update the price wrongly. 3) Seller is not being honest to inform if there is no stock partially but still proceed with shipment for the rest of the items.</td>\n",
       "      <td>frequent user app need strict rule requir appli smooth transact buyer list stock end day need go refund process encount mani time request cancel order updat price wrongli honest inform stock partial still proceed shipment rest</td>\n",
       "      <td>4</td>\n",
       "      <td>0</td>\n",
       "      <td>1</td>\n",
       "    </tr>\n",
       "    <tr>\n",
       "      <th>2067</th>\n",
       "      <td>Gooooooood app!</td>\n",
       "      <td>gooooooood</td>\n",
       "      <td>5</td>\n",
       "      <td>0</td>\n",
       "      <td>1</td>\n",
       "    </tr>\n",
       "    <tr>\n",
       "      <th>2563</th>\n",
       "      <td>Given 4 stars because there seems to be a bug. After browsing for a while the app seems to be slow in response. And sometimes after launching the app, icons in the app and listing images are huge.</td>\n",
       "      <td>given star seem bug brows seem slow respons sometim launch icon list imag huge</td>\n",
       "      <td>4</td>\n",
       "      <td>0</td>\n",
       "      <td>1</td>\n",
       "    </tr>\n",
       "    <tr>\n",
       "      <th>407</th>\n",
       "      <td>easier to navigate than the competition. i appreciate how items are much more organised and user flow is sensible and predictable. my only gripe is that the one dollar gambling ad keeps popping up every minute.</td>\n",
       "      <td>easier navig competit appreci much organis user flow sensibl predict gripe one dollar gambl ad keep pop everi minut</td>\n",
       "      <td>4</td>\n",
       "      <td>0</td>\n",
       "      <td>1</td>\n",
       "    </tr>\n",
       "    <tr>\n",
       "      <th>3031</th>\n",
       "      <td>Hi, I have been using Shopee for a long time as it is a great shopping app. However, I discovered that I couldn't collect my Daily Shopee coin and couldn't participate on the Shoppe Shake (at 12am time slot)today (I go in to the Shopee Shake on time). Could you help to fix the issue as soon as possible? Thank you.</td>\n",
       "      <td>hi use long time great shop howev discov collect daili coin particip shopp shake time slot today go shake time could help fix issu soon possibl thank</td>\n",
       "      <td>4</td>\n",
       "      <td>0</td>\n",
       "      <td>1</td>\n",
       "    </tr>\n",
       "    <tr>\n",
       "      <th>3342</th>\n",
       "      <td>Ordered washing machine n paid in full n also download payment receipt as requested, system prompted payment under verification. after hours later, email received saying payment not done \"pending\". called number provided says, busy and having high call volumes.. went to see app for pending and check my orders..there isn't any.. now where is my order confirmation or how will I be notified.. this my first shopping experience with Shopee</td>\n",
       "      <td>order wash machin n paid full n also download payment receipt request system prompt payment verif hour later email receiv say payment done pend call number provid say busi high call volum went see pend check order order confirm notifi first shop experi</td>\n",
       "      <td>5</td>\n",
       "      <td>0</td>\n",
       "      <td>1</td>\n",
       "    </tr>\n",
       "    <tr>\n",
       "      <th>3030</th>\n",
       "      <td>Can find almost anything I wanted</td>\n",
       "      <td>find almost anyth want</td>\n",
       "      <td>4</td>\n",
       "      <td>0</td>\n",
       "      <td>1</td>\n",
       "    </tr>\n",
       "    <tr>\n",
       "      <th>1409</th>\n",
       "      <td>App is a little messy in its UI design, but other than that it does its job. Just be smart about not buying fake products.</td>\n",
       "      <td>littl messi ui design job smart buy fake product</td>\n",
       "      <td>4</td>\n",
       "      <td>0</td>\n",
       "      <td>1</td>\n",
       "    </tr>\n",
       "    <tr>\n",
       "      <th>985</th>\n",
       "      <td>Very Comfortable!</td>\n",
       "      <td>comfort</td>\n",
       "      <td>4</td>\n",
       "      <td>0</td>\n",
       "      <td>1</td>\n",
       "    </tr>\n",
       "    <tr>\n",
       "      <th>3063</th>\n",
       "      <td>Able to find items that I wanted.</td>\n",
       "      <td>abl find want</td>\n",
       "      <td>5</td>\n",
       "      <td>0</td>\n",
       "      <td>1</td>\n",
       "    </tr>\n",
       "    <tr>\n",
       "      <th>2215</th>\n",
       "      <td>Go deals on this platform. But bad Ninja Van delivery. Can deliver to wrong block and still update as successful delivery. Obviously never even verify if correct. Fortunately recepient was honest and contacted me to collect my parcel from them.</td>\n",
       "      <td>go deal platform ninja van deliveri deliv wrong block still updat success deliveri obvious never even verifi correct fortun recepi honest contact collect parcel</td>\n",
       "      <td>4</td>\n",
       "      <td>0</td>\n",
       "      <td>1</td>\n",
       "    </tr>\n",
       "    <tr>\n",
       "      <th>1042</th>\n",
       "      <td>Posted a 1-star review about the app's connectivity issues few hours ago, now the review is gone. Back here to post an updated review, that the app works and I was able to login a few minutes after I posted my last review.</td>\n",
       "      <td>post star review connect issu hour ago review gone back post updat review work abl login minut post last review</td>\n",
       "      <td>4</td>\n",
       "      <td>0</td>\n",
       "      <td>1</td>\n",
       "    </tr>\n",
       "  </tbody>\n",
       "</table>\n",
       "</div>"
      ],
      "text/plain": [
       "                                                                                                                                                                                                                                                                                                                                                                                                                                                                                                               content  \\\n",
       "1497                                                                                                                                                                                                                                                                                                                                                                                                          The app always crashes when log in it keep saying loading now cannot get into account Update : works now   \n",
       "2408                                                                                                                                                                                                                                                                                                                                                                                                                                                                                                   more promo code   \n",
       "2467                                                                                                                                                                                                                                                                                                                                                                                                                                           Shopee has become one of my most frequented app...my wallet is crying 😂   \n",
       "1018                                                                                                                                                                                                                                                                                                                                                                                                                                                               Very laggy. Takes 3 to 5 secs for each page to load   \n",
       "2208                                                                                                                                                                                                                                                                                                                                                                                                                                                                                                        No comment   \n",
       "1592                                                                                                                                                                                                                                                                                                                                                                                                                                                                                                            Shock!   \n",
       "3327                                                                                                                                                                                                                                                                                                                     I like how most of my purchases are fulfilled and refunds are done on time and everything is tracked perfectly. Also, bring back BlackPink as the face of Shopee instead of discount Ronaldo.   \n",
       "2086                                                                                                                                                                                                                                                                                                                                                                                                                                                                                                   Can be trusted.   \n",
       "1230                                                                                                                                                                                                                                                                                                                                                                                                                                                                                  it's long wait to open the apps.   \n",
       "3384                                                                                                                                                                                                                                                                                                                                                                                                                                                                            Friends unable to use my referral code   \n",
       "1628                                                                                                                                                                                                                                                                                                                                                                                                   The app has minimal lagging, and the item specifications and other information categories are neatly organized.   \n",
       "2098                                                                                                                                                                                                                                                                                                                                                                                                                                                                      Recently been unable to sort items by price.   \n",
       "1839                                                                                                                                                                                                                                                                                                                                                                                                      Only reason for not 5star is because it lets sellers advertise items that they are already out of stock for.   \n",
       "3315                                                                                                                                                                                                                                                                                                                                                                                                              Reliable but the interface seems loaded with too much information. Need time to get use to the pages   \n",
       "2486                                                                                                                                                                                                                                                                                                                                                                                                                                                                        Items ordered delivered on time.. Not bad.   \n",
       "3166                                                                                                                                                                                                                                                                           Many items are available here, and the price is one of the lowest. Would like shopee to look into their auto payment to seller when buyer haven't review the product after it has delivered. There was a case of a cracked phone cover.   \n",
       "2604                                                                                                             Shopee is one of the top ecommerce shopping app to use. However, they should have a more stringent process of allowing China sellers to be on the platform. I have encountered many issues with China sellers, either received faulty item or send wrong item. Some are sincere in resolving but some are not., resulting a waste of money. Perhaps there should be a quality check on these sellers?   \n",
       "2574                                                                                                                                                                                                                                                                                                                                                                                                                                                                                            Happy with the support   \n",
       "673                                                                                                                                                                                                                                                                                                                                                                                                                                I'm 1st timer but cant get the freebie when the freebie even in my cart. Pls advise   \n",
       "1038  I am a frequent user of this apps. Shopee needs to have a strict rules and requirements apply to sellers as to have a smooth transaction for buyers. 1) Seller shouldn't list items that is not in stock and at the end of the day we need to go through the refund process. 2) Encountered many times that seller requested to cancel order as they update the price wrongly. 3) Seller is not being honest to inform if there is no stock partially but still proceed with shipment for the rest of the items.   \n",
       "2067                                                                                                                                                                                                                                                                                                                                                                                                                                                                                                   Gooooooood app!   \n",
       "2563                                                                                                                                                                                                                                                                                                              Given 4 stars because there seems to be a bug. After browsing for a while the app seems to be slow in response. And sometimes after launching the app, icons in the app and listing images are huge.   \n",
       "407                                                                                                                                                                                                                                                                                                 easier to navigate than the competition. i appreciate how items are much more organised and user flow is sensible and predictable. my only gripe is that the one dollar gambling ad keeps popping up every minute.   \n",
       "3031                                                                                                                                                                                       Hi, I have been using Shopee for a long time as it is a great shopping app. However, I discovered that I couldn't collect my Daily Shopee coin and couldn't participate on the Shoppe Shake (at 12am time slot)today (I go in to the Shopee Shake on time). Could you help to fix the issue as soon as possible? Thank you.   \n",
       "3342                                                            Ordered washing machine n paid in full n also download payment receipt as requested, system prompted payment under verification. after hours later, email received saying payment not done \"pending\". called number provided says, busy and having high call volumes.. went to see app for pending and check my orders..there isn't any.. now where is my order confirmation or how will I be notified.. this my first shopping experience with Shopee   \n",
       "3030                                                                                                                                                                                                                                                                                                                                                                                                                                                                                 Can find almost anything I wanted   \n",
       "1409                                                                                                                                                                                                                                                                                                                                                                                        App is a little messy in its UI design, but other than that it does its job. Just be smart about not buying fake products.   \n",
       "985                                                                                                                                                                                                                                                                                                                                                                                                                                                                                                  Very Comfortable!   \n",
       "3063                                                                                                                                                                                                                                                                                                                                                                                                                                                                                 Able to find items that I wanted.   \n",
       "2215                                                                                                                                                                                                                                                              Go deals on this platform. But bad Ninja Van delivery. Can deliver to wrong block and still update as successful delivery. Obviously never even verify if correct. Fortunately recepient was honest and contacted me to collect my parcel from them.   \n",
       "1042                                                                                                                                                                                                                                                                                    Posted a 1-star review about the app's connectivity issues few hours ago, now the review is gone. Back here to post an updated review, that the app works and I was able to login a few minutes after I posted my last review.   \n",
       "\n",
       "                                                                                                                                                                                                                                                      content_stem  \\\n",
       "1497                                                                                                                                                                                                   alway crash log keep say load cannot get account updat work   \n",
       "2408                                                                                                                                                                                                                                                    promo code   \n",
       "2467                                                                                                                                                                                                                                 becom one frequent wallet cri   \n",
       "1018                                                                                                                                                                                                                                      laggi take sec page load   \n",
       "2208                                                                                                                                                                                                                                                       comment   \n",
       "1592                                                                                                                                                                                                                                                         shock   \n",
       "3327                                                                                                                                          like purchas fulfil refund done time everyth track perfectli also bring back blackpink face instead discount ronaldo   \n",
       "2086                                                                                                                                                                                                                                                         trust   \n",
       "1230                                                                                                                                                                                                                                            long wait open app   \n",
       "3384                                                                                                                                                                                                                                  friend unabl use referr code   \n",
       "1628                                                                                                                                                                                                                 minim lag specif inform categori neatli organ   \n",
       "2098                                                                                                                                                                                                                                       recent unabl sort price   \n",
       "1839                                                                                                                                                                                                                        reason star let advertis alreadi stock   \n",
       "3315                                                                                                                                                                                                 reliabl interfac seem load much inform need time get use page   \n",
       "2486                                                                                                                                                                                                                                              order deliv time   \n",
       "3166                                                                                                                                                    mani avail price one lowest would like look auto payment buyer review product deliv case crack phone cover   \n",
       "2604                                                                           one top ecommerc shop use howev stringent process allow china platform encount mani issu china either receiv faulti send wrong sincer resolv result wast money perhap qualiti check   \n",
       "2574                                                                                                                                                                                                                                                 happi support   \n",
       "673                                                                                                                                                                                                             st timer cant get freebi freebi even cart pl advis   \n",
       "1038                            frequent user app need strict rule requir appli smooth transact buyer list stock end day need go refund process encount mani time request cancel order updat price wrongli honest inform stock partial still proceed shipment rest   \n",
       "2067                                                                                                                                                                                                                                                    gooooooood   \n",
       "2563                                                                                                                                                                                given star seem bug brows seem slow respons sometim launch icon list imag huge   \n",
       "407                                                                                                                                            easier navig competit appreci much organis user flow sensibl predict gripe one dollar gambl ad keep pop everi minut   \n",
       "3031                                                                                                         hi use long time great shop howev discov collect daili coin particip shopp shake time slot today go shake time could help fix issu soon possibl thank   \n",
       "3342  order wash machin n paid full n also download payment receipt request system prompt payment verif hour later email receiv say payment done pend call number provid say busi high call volum went see pend check order order confirm notifi first shop experi   \n",
       "3030                                                                                                                                                                                                                                        find almost anyth want   \n",
       "1409                                                                                                                                                                                                              littl messi ui design job smart buy fake product   \n",
       "985                                                                                                                                                                                                                                                        comfort   \n",
       "3063                                                                                                                                                                                                                                                 abl find want   \n",
       "2215                                                                                              go deal platform ninja van deliveri deliv wrong block still updat success deliveri obvious never even verifi correct fortun recepi honest contact collect parcel   \n",
       "1042                                                                                                                                               post star review connect issu hour ago review gone back post updat review work abl login minut post last review   \n",
       "\n",
       "      score  target  pred  \n",
       "1497      4       0     1  \n",
       "2408      4       0     1  \n",
       "2467      5       0     1  \n",
       "1018      4       0     1  \n",
       "2208      5       0     1  \n",
       "1592      4       0     1  \n",
       "3327      5       0     1  \n",
       "2086      5       0     1  \n",
       "1230      4       0     1  \n",
       "3384      4       0     1  \n",
       "1628      4       0     1  \n",
       "2098      4       0     1  \n",
       "1839      4       0     1  \n",
       "3315      4       0     1  \n",
       "2486      5       0     1  \n",
       "3166      5       0     1  \n",
       "2604      4       0     1  \n",
       "2574      4       0     1  \n",
       "673       4       0     1  \n",
       "1038      4       0     1  \n",
       "2067      5       0     1  \n",
       "2563      4       0     1  \n",
       "407       4       0     1  \n",
       "3031      4       0     1  \n",
       "3342      5       0     1  \n",
       "3030      4       0     1  \n",
       "1409      4       0     1  \n",
       "985       4       0     1  \n",
       "3063      5       0     1  \n",
       "2215      4       0     1  \n",
       "1042      4       0     1  "
      ]
     },
     "execution_count": 50,
     "metadata": {},
     "output_type": "execute_result"
    }
   ],
   "source": [
    "# Display the full width so that we can read the misclassified reviews\n",
    "pd.set_option('display.max_colwidth', None)\n",
    "\n",
    "# View the False Positives - Model incorrectly predicts these as negative sentiment when they are actually positive sentiment\n",
    "val_df[(val_df['target']==0) & (val_df['pred']==1)][['content','content_stem','score','target','pred']]"
   ]
  },
  {
   "cell_type": "code",
   "execution_count": 51,
   "metadata": {},
   "outputs": [
    {
     "data": {
      "text/html": [
       "<div>\n",
       "<style scoped>\n",
       "    .dataframe tbody tr th:only-of-type {\n",
       "        vertical-align: middle;\n",
       "    }\n",
       "\n",
       "    .dataframe tbody tr th {\n",
       "        vertical-align: top;\n",
       "    }\n",
       "\n",
       "    .dataframe thead th {\n",
       "        text-align: right;\n",
       "    }\n",
       "</style>\n",
       "<table border=\"1\" class=\"dataframe\">\n",
       "  <thead>\n",
       "    <tr style=\"text-align: right;\">\n",
       "      <th></th>\n",
       "      <th>content</th>\n",
       "      <th>content_stem</th>\n",
       "      <th>score</th>\n",
       "      <th>target</th>\n",
       "      <th>pred</th>\n",
       "    </tr>\n",
       "  </thead>\n",
       "  <tbody>\n",
       "    <tr>\n",
       "      <th>2865</th>\n",
       "      <td>Too much clutter in the interface, shopping experience could and should be much more streamlined</td>\n",
       "      <td>much clutter interfac shop experi could much streamlin</td>\n",
       "      <td>3</td>\n",
       "      <td>1</td>\n",
       "      <td>0</td>\n",
       "    </tr>\n",
       "    <tr>\n",
       "      <th>1855</th>\n",
       "      <td>One of the seller increased the product(mask) price and choose not to ship out my item, it's so unethical. However shopee customer service cant do anything to it.</td>\n",
       "      <td>one increas product mask price choos ship uneth howev custom servic cant anyth</td>\n",
       "      <td>1</td>\n",
       "      <td>1</td>\n",
       "      <td>0</td>\n",
       "    </tr>\n",
       "    <tr>\n",
       "      <th>2381</th>\n",
       "      <td>good to buy</td>\n",
       "      <td>good buy</td>\n",
       "      <td>3</td>\n",
       "      <td>1</td>\n",
       "      <td>0</td>\n",
       "    </tr>\n",
       "    <tr>\n",
       "      <th>2890</th>\n",
       "      <td>Like Trezo photo upload option is limited. Carousell has a wider range of options and allows photo upload from dropbox, which makes it a much better and convenient app for sellers.</td>\n",
       "      <td>like trezo photo upload option limit carousel wider rang option allow photo upload dropbox make much better conveni</td>\n",
       "      <td>2</td>\n",
       "      <td>1</td>\n",
       "      <td>0</td>\n",
       "    </tr>\n",
       "    <tr>\n",
       "      <th>2414</th>\n",
       "      <td>App getting slower , products getting more expensive</td>\n",
       "      <td>get slower product get expens</td>\n",
       "      <td>3</td>\n",
       "      <td>1</td>\n",
       "      <td>0</td>\n",
       "    </tr>\n",
       "    <tr>\n",
       "      <th>1331</th>\n",
       "      <td>Shopee is a biased platform whom sides sellers more than buyers. These words came from Shopee CSR themselves that Sellers are able to delete ratings from buyers without consent from buyers. Hence, it is impossible to know if sellers on the platform are reputable or not even based on the ratings as dishonest sellers are able to remove the 'bad' ratings from buyers, to 'look good'. Not recommending this unfair platform to any others!</td>\n",
       "      <td>bias platform side buyer word came csr abl delet rate buyer without consent buyer henc imposs know platform reput even base rate dishonest abl remov rate buyer look good recommend unfair platform other</td>\n",
       "      <td>1</td>\n",
       "      <td>1</td>\n",
       "      <td>0</td>\n",
       "    </tr>\n",
       "    <tr>\n",
       "      <th>942</th>\n",
       "      <td>Bad unfriendly user interface.</td>\n",
       "      <td>unfriendli user interfac</td>\n",
       "      <td>1</td>\n",
       "      <td>1</td>\n",
       "      <td>0</td>\n",
       "    </tr>\n",
       "    <tr>\n",
       "      <th>1346</th>\n",
       "      <td>It's says 'free shipping' and 'COD' but some stores aren't free shipping and cash on delivery. 😕</td>\n",
       "      <td>say free ship cod store free ship cash deliveri</td>\n",
       "      <td>3</td>\n",
       "      <td>1</td>\n",
       "      <td>0</td>\n",
       "    </tr>\n",
       "    <tr>\n",
       "      <th>2521</th>\n",
       "      <td>Although tools for selling are advanced, however it can't really generate sales. But you can Really get   good deals often from coupon codes.</td>\n",
       "      <td>although tool sell advanc howev realli gener sale realli get good deal often coupon code</td>\n",
       "      <td>2</td>\n",
       "      <td>1</td>\n",
       "      <td>0</td>\n",
       "    </tr>\n",
       "    <tr>\n",
       "      <th>3029</th>\n",
       "      <td>Many items, reasonable pricing but during the 11.11 sale, i encountered cancellation of my orders by the seller after the orders were accepted and payment made, giving reasons like \"undeliverable area\". HDB in Singapore undeliverable? Unbelievable! Another reason is out of stock, but the order was accepted in the first instance! Overall still a good e-commerce site despite these shortcomings. Hence, the 3 stars rather than 5.</td>\n",
       "      <td>mani reason price sale encount cancel order order accept payment made give reason like undeliver area hdb singapor undeliver unbeliev anoth reason stock order accept first instanc overal still good e commerc site despit shortcom henc star rather</td>\n",
       "      <td>3</td>\n",
       "      <td>1</td>\n",
       "      <td>0</td>\n",
       "    </tr>\n",
       "    <tr>\n",
       "      <th>2444</th>\n",
       "      <td>The return policy not good. Use Lazada better.</td>\n",
       "      <td>return polici good use lazada better</td>\n",
       "      <td>1</td>\n",
       "      <td>1</td>\n",
       "      <td>0</td>\n",
       "    </tr>\n",
       "    <tr>\n",
       "      <th>3330</th>\n",
       "      <td>Application is good bit I don't like the shopee agreement and policy. When I want to return the product shoppe is giving credit only to the seller and they are not considering the customer request. I hate this. So for the costly product I prefer other online portal.</td>\n",
       "      <td>applic good bit like agreement polici want return product shopp give credit consid custom request hate costli product prefer onlin portal</td>\n",
       "      <td>3</td>\n",
       "      <td>1</td>\n",
       "      <td>0</td>\n",
       "    </tr>\n",
       "    <tr>\n",
       "      <th>2838</th>\n",
       "      <td>Initially, the min. amount to use a voucher was only $15 for Shopee Mall. Then it increased to $25, and now $35! Min spend keep increasing, but voucher value did not increase! Might consider stop using app! As it doesn't seem worth to spend so much, just for a $5 off.</td>\n",
       "      <td>initi min amount use voucher mall increas min spend keep increas voucher valu increas might consid stop use seem worth spend much</td>\n",
       "      <td>1</td>\n",
       "      <td>1</td>\n",
       "      <td>0</td>\n",
       "    </tr>\n",
       "    <tr>\n",
       "      <th>3074</th>\n",
       "      <td>Sellers can easily cancel your orders even after assuring you that your orders can be shipped. Be careful of items that have prices that are too good to be true. Can't even leave feedback to bad sellers. Won't be buying from shopee again. Stick to lazada or qoo10 better.</td>\n",
       "      <td>easili cancel order even assur order ship care price good true even leav feedback buy stick lazada qoo better</td>\n",
       "      <td>1</td>\n",
       "      <td>1</td>\n",
       "      <td>0</td>\n",
       "    </tr>\n",
       "    <tr>\n",
       "      <th>2620</th>\n",
       "      <td>Better than most other platform</td>\n",
       "      <td>better platform</td>\n",
       "      <td>3</td>\n",
       "      <td>1</td>\n",
       "      <td>0</td>\n",
       "    </tr>\n",
       "    <tr>\n",
       "      <th>1293</th>\n",
       "      <td>Good</td>\n",
       "      <td>good</td>\n",
       "      <td>3</td>\n",
       "      <td>1</td>\n",
       "      <td>0</td>\n",
       "    </tr>\n",
       "    <tr>\n",
       "      <th>2817</th>\n",
       "      <td>everything was fine if the item is delivered. if there is dispute, you have to wait for their dispute team decision even if all the info is there. will be my last shopping with them. online shopping should be fun and convenient. there are so many alternatives. why waste ur time ?</td>\n",
       "      <td>everyth fine deliv disput wait disput team decis even info last shop onlin shop fun conveni mani altern wast ur time</td>\n",
       "      <td>1</td>\n",
       "      <td>1</td>\n",
       "      <td>0</td>\n",
       "    </tr>\n",
       "    <tr>\n",
       "      <th>2171</th>\n",
       "      <td>some reviews were censored. mostly faked review. others then that the price is good especially low delivery costs. buying no brand item pls be cautious.</td>\n",
       "      <td>review censor mostli fake review other price good especi low deliveri cost buy brand pl cautiou</td>\n",
       "      <td>2</td>\n",
       "      <td>1</td>\n",
       "      <td>0</td>\n",
       "    </tr>\n",
       "    <tr>\n",
       "      <th>144</th>\n",
       "      <td>Love it</td>\n",
       "      <td>love</td>\n",
       "      <td>2</td>\n",
       "      <td>1</td>\n",
       "      <td>0</td>\n",
       "    </tr>\n",
       "    <tr>\n",
       "      <th>841</th>\n",
       "      <td>shopee is a fraudulent platform. sellers are fraudulent and shopee offers no protection</td>\n",
       "      <td>fraudul platform fraudul offer protect</td>\n",
       "      <td>1</td>\n",
       "      <td>1</td>\n",
       "      <td>0</td>\n",
       "    </tr>\n",
       "    <tr>\n",
       "      <th>598</th>\n",
       "      <td>the price most reasonable, but hopefully payment will have e NET service more convenient.</td>\n",
       "      <td>price reason hope payment e net servic conveni</td>\n",
       "      <td>3</td>\n",
       "      <td>1</td>\n",
       "      <td>0</td>\n",
       "    </tr>\n",
       "    <tr>\n",
       "      <th>145</th>\n",
       "      <td>good can be improved</td>\n",
       "      <td>good improv</td>\n",
       "      <td>3</td>\n",
       "      <td>1</td>\n",
       "      <td>0</td>\n",
       "    </tr>\n",
       "    <tr>\n",
       "      <th>3191</th>\n",
       "      <td>Acceptable quality, Cheap but long delivery period.</td>\n",
       "      <td>accept qualiti cheap long deliveri period</td>\n",
       "      <td>2</td>\n",
       "      <td>1</td>\n",
       "      <td>0</td>\n",
       "    </tr>\n",
       "    <tr>\n",
       "      <th>1650</th>\n",
       "      <td>Delivery very bad no good service. Very very bad service</td>\n",
       "      <td>deliveri good servic servic</td>\n",
       "      <td>1</td>\n",
       "      <td>1</td>\n",
       "      <td>0</td>\n",
       "    </tr>\n",
       "    <tr>\n",
       "      <th>1</th>\n",
       "      <td>Shopee has a wild variety of products however i will only buy certain stuffs . I would prefer stuffs to come with long warranty. Usually for clothings , i prefer brick and motar , see whether it fits . As long as physical products , i would gladly purchase , best can include warranty . I will go only for the quality . This app is very handy . I know where to save money when purchasing . It has some really good stuffs . I will keep coming back , a very good place for bargains .</td>\n",
       "      <td>wild varieti product howev buy certain stuff would prefer stuff come long warranti usual cloth prefer brick motar see whether fit long physic product would gladli purchas best includ warranti go qualiti handi know save money purchas realli good stuff keep come back good place bargain</td>\n",
       "      <td>3</td>\n",
       "      <td>1</td>\n",
       "      <td>0</td>\n",
       "    </tr>\n",
       "    <tr>\n",
       "      <th>3320</th>\n",
       "      <td>Shoppee, can the LIKES item be categorized like those in WISH app for our easy reference.</td>\n",
       "      <td>like categor like wish easi refer</td>\n",
       "      <td>3</td>\n",
       "      <td>1</td>\n",
       "      <td>0</td>\n",
       "    </tr>\n",
       "    <tr>\n",
       "      <th>344</th>\n",
       "      <td>Bad experience</td>\n",
       "      <td>experi</td>\n",
       "      <td>1</td>\n",
       "      <td>1</td>\n",
       "      <td>0</td>\n",
       "    </tr>\n",
       "    <tr>\n",
       "      <th>2655</th>\n",
       "      <td>Good access platform to shop</td>\n",
       "      <td>good access platform shop</td>\n",
       "      <td>3</td>\n",
       "      <td>1</td>\n",
       "      <td>0</td>\n",
       "    </tr>\n",
       "    <tr>\n",
       "      <th>549</th>\n",
       "      <td>Sometimes experiences glitches. Not friendly to android phones</td>\n",
       "      <td>sometim experi glitch friendli android phone</td>\n",
       "      <td>3</td>\n",
       "      <td>1</td>\n",
       "      <td>0</td>\n",
       "    </tr>\n",
       "    <tr>\n",
       "      <th>1266</th>\n",
       "      <td>overall it an great shopping experience but would be better if shopee take better step of verify scammer and do their job of persuading for a refund. other then let them continue scamming not one victim but more</td>\n",
       "      <td>overal great shop experi would better take better step verifi scammer job persuad refund let continu scam one victim</td>\n",
       "      <td>1</td>\n",
       "      <td>1</td>\n",
       "      <td>0</td>\n",
       "    </tr>\n",
       "    <tr>\n",
       "      <th>187</th>\n",
       "      <td>Nice but app hangs when i try to chat sometimes. Needs feature to show availability of sizes for shoes and clothes. No COD option</td>\n",
       "      <td>nice hang tri chat sometim need featur show avail size shoe cloth cod option</td>\n",
       "      <td>2</td>\n",
       "      <td>1</td>\n",
       "      <td>0</td>\n",
       "    </tr>\n",
       "    <tr>\n",
       "      <th>1986</th>\n",
       "      <td>Shopee Suck. SUPPORT SELLER THAT DELIVER TO BUYER DAMAGE PRODUCT. EVENTHOUGH BUYER PROVIDE PHOTOS OF DAMAGE PRODUCT RECEIVED. AVOID SHOPEE APPS</td>\n",
       "      <td>suck support deliv buyer damag product eventhough buyer provid photo damag product receiv avoid app</td>\n",
       "      <td>1</td>\n",
       "      <td>1</td>\n",
       "      <td>0</td>\n",
       "    </tr>\n",
       "    <tr>\n",
       "      <th>3294</th>\n",
       "      <td>Referral never registered. App messy. Hard to navigate and not user friendly.</td>\n",
       "      <td>referr never regist messi hard navig user friendli</td>\n",
       "      <td>1</td>\n",
       "      <td>1</td>\n",
       "      <td>0</td>\n",
       "    </tr>\n",
       "    <tr>\n",
       "      <th>2452</th>\n",
       "      <td>Always never strike lucky draw</td>\n",
       "      <td>alway never strike lucki draw</td>\n",
       "      <td>2</td>\n",
       "      <td>1</td>\n",
       "      <td>0</td>\n",
       "    </tr>\n",
       "    <tr>\n",
       "      <th>370</th>\n",
       "      <td>Tried to refer a few friends but all of them where unable to use my referral code. •_• Overall, it's still a great place to shop and they give out vouchers quite often :)</td>\n",
       "      <td>tri refer friend unabl use referr code overal still great place shop give voucher quit often</td>\n",
       "      <td>3</td>\n",
       "      <td>1</td>\n",
       "      <td>0</td>\n",
       "    </tr>\n",
       "    <tr>\n",
       "      <th>2478</th>\n",
       "      <td>Even though their customer service wasn't really helpful but at least the things that I ordered came... The delivery is slower then the other platform however you can find some really good deals</td>\n",
       "      <td>even though custom servic realli help least thing order came deliveri slower platform howev find realli good deal</td>\n",
       "      <td>3</td>\n",
       "      <td>1</td>\n",
       "      <td>0</td>\n",
       "    </tr>\n",
       "  </tbody>\n",
       "</table>\n",
       "</div>"
      ],
      "text/plain": [
       "                                                                                                                                                                                                                                                                                                                                                                                                                                                                                                content  \\\n",
       "2865                                                                                                                                                                                                                                                                                                                                                                                                   Too much clutter in the interface, shopping experience could and should be much more streamlined   \n",
       "1855                                                                                                                                                                                                                                                                                                                                 One of the seller increased the product(mask) price and choose not to ship out my item, it's so unethical. However shopee customer service cant do anything to it.   \n",
       "2381                                                                                                                                                                                                                                                                                                                                                                                                                                                                                        good to buy   \n",
       "2890                                                                                                                                                                                                                                                                                                               Like Trezo photo upload option is limited. Carousell has a wider range of options and allows photo upload from dropbox, which makes it a much better and convenient app for sellers.   \n",
       "2414                                                                                                                                                                                                                                                                                                                                                                                                                                               App getting slower , products getting more expensive   \n",
       "1331                                                Shopee is a biased platform whom sides sellers more than buyers. These words came from Shopee CSR themselves that Sellers are able to delete ratings from buyers without consent from buyers. Hence, it is impossible to know if sellers on the platform are reputable or not even based on the ratings as dishonest sellers are able to remove the 'bad' ratings from buyers, to 'look good'. Not recommending this unfair platform to any others!   \n",
       "942                                                                                                                                                                                                                                                                                                                                                                                                                                                                      Bad unfriendly user interface.   \n",
       "1346                                                                                                                                                                                                                                                                                                                                                                                                   It's says 'free shipping' and 'COD' but some stores aren't free shipping and cash on delivery. 😕   \n",
       "2521                                                                                                                                                                                                                                                                                                                                                      Although tools for selling are advanced, however it can't really generate sales. But you can Really get   good deals often from coupon codes.   \n",
       "3029                                                      Many items, reasonable pricing but during the 11.11 sale, i encountered cancellation of my orders by the seller after the orders were accepted and payment made, giving reasons like \"undeliverable area\". HDB in Singapore undeliverable? Unbelievable! Another reason is out of stock, but the order was accepted in the first instance! Overall still a good e-commerce site despite these shortcomings. Hence, the 3 stars rather than 5.   \n",
       "2444                                                                                                                                                                                                                                                                                                                                                                                                                                                     The return policy not good. Use Lazada better.   \n",
       "3330                                                                                                                                                                                                                         Application is good bit I don't like the shopee agreement and policy. When I want to return the product shoppe is giving credit only to the seller and they are not considering the customer request. I hate this. So for the costly product I prefer other online portal.   \n",
       "2838                                                                                                                                                                                                                       Initially, the min. amount to use a voucher was only $15 for Shopee Mall. Then it increased to $25, and now $35! Min spend keep increasing, but voucher value did not increase! Might consider stop using app! As it doesn't seem worth to spend so much, just for a $5 off.   \n",
       "3074                                                                                                                                                                                                                    Sellers can easily cancel your orders even after assuring you that your orders can be shipped. Be careful of items that have prices that are too good to be true. Can't even leave feedback to bad sellers. Won't be buying from shopee again. Stick to lazada or qoo10 better.   \n",
       "2620                                                                                                                                                                                                                                                                                                                                                                                                                                                                    Better than most other platform   \n",
       "1293                                                                                                                                                                                                                                                                                                                                                                                                                                                                                               Good   \n",
       "2817                                                                                                                                                                                                           everything was fine if the item is delivered. if there is dispute, you have to wait for their dispute team decision even if all the info is there. will be my last shopping with them. online shopping should be fun and convenient. there are so many alternatives. why waste ur time ?   \n",
       "2171                                                                                                                                                                                                                                                                                                                                           some reviews were censored. mostly faked review. others then that the price is good especially low delivery costs. buying no brand item pls be cautious.   \n",
       "144                                                                                                                                                                                                                                                                                                                                                                                                                                                                                             Love it   \n",
       "841                                                                                                                                                                                                                                                                                                                                                                                                             shopee is a fraudulent platform. sellers are fraudulent and shopee offers no protection   \n",
       "598                                                                                                                                                                                                                                                                                                                                                                                                           the price most reasonable, but hopefully payment will have e NET service more convenient.   \n",
       "145                                                                                                                                                                                                                                                                                                                                                                                                                                                                                good can be improved   \n",
       "3191                                                                                                                                                                                                                                                                                                                                                                                                                                                Acceptable quality, Cheap but long delivery period.   \n",
       "1650                                                                                                                                                                                                                                                                                                                                                                                                                                           Delivery very bad no good service. Very very bad service   \n",
       "1     Shopee has a wild variety of products however i will only buy certain stuffs . I would prefer stuffs to come with long warranty. Usually for clothings , i prefer brick and motar , see whether it fits . As long as physical products , i would gladly purchase , best can include warranty . I will go only for the quality . This app is very handy . I know where to save money when purchasing . It has some really good stuffs . I will keep coming back , a very good place for bargains .   \n",
       "3320                                                                                                                                                                                                                                                                                                                                                                                                          Shoppee, can the LIKES item be categorized like those in WISH app for our easy reference.   \n",
       "344                                                                                                                                                                                                                                                                                                                                                                                                                                                                                      Bad experience   \n",
       "2655                                                                                                                                                                                                                                                                                                                                                                                                                                                                       Good access platform to shop   \n",
       "549                                                                                                                                                                                                                                                                                                                                                                                                                                      Sometimes experiences glitches. Not friendly to android phones   \n",
       "1266                                                                                                                                                                                                                                                                                overall it an great shopping experience but would be better if shopee take better step of verify scammer and do their job of persuading for a refund. other then let them continue scamming not one victim but more   \n",
       "187                                                                                                                                                                                                                                                                                                                                                                   Nice but app hangs when i try to chat sometimes. Needs feature to show availability of sizes for shoes and clothes. No COD option   \n",
       "1986                                                                                                                                                                                                                                                                                                                                                    Shopee Suck. SUPPORT SELLER THAT DELIVER TO BUYER DAMAGE PRODUCT. EVENTHOUGH BUYER PROVIDE PHOTOS OF DAMAGE PRODUCT RECEIVED. AVOID SHOPEE APPS   \n",
       "3294                                                                                                                                                                                                                                                                                                                                                                                                                      Referral never registered. App messy. Hard to navigate and not user friendly.   \n",
       "2452                                                                                                                                                                                                                                                                                                                                                                                                                                                                     Always never strike lucky draw   \n",
       "370                                                                                                                                                                                                                                                                                                                          Tried to refer a few friends but all of them where unable to use my referral code. •_• Overall, it's still a great place to shop and they give out vouchers quite often :)   \n",
       "2478                                                                                                                                                                                                                                                                                                 Even though their customer service wasn't really helpful but at least the things that I ordered came... The delivery is slower then the other platform however you can find some really good deals   \n",
       "\n",
       "                                                                                                                                                                                                                                                                                      content_stem  \\\n",
       "2865                                                                                                                                                                                                                                        much clutter interfac shop experi could much streamlin   \n",
       "1855                                                                                                                                                                                                                one increas product mask price choos ship uneth howev custom servic cant anyth   \n",
       "2381                                                                                                                                                                                                                                                                                      good buy   \n",
       "2890                                                                                                                                                                           like trezo photo upload option limit carousel wider rang option allow photo upload dropbox make much better conveni   \n",
       "2414                                                                                                                                                                                                                                                                 get slower product get expens   \n",
       "1331                                                                                     bias platform side buyer word came csr abl delet rate buyer without consent buyer henc imposs know platform reput even base rate dishonest abl remov rate buyer look good recommend unfair platform other   \n",
       "942                                                                                                                                                                                                                                                                       unfriendli user interfac   \n",
       "1346                                                                                                                                                                                                                                               say free ship cod store free ship cash deliveri   \n",
       "2521                                                                                                                                                                                                      although tool sell advanc howev realli gener sale realli get good deal often coupon code   \n",
       "3029                                         mani reason price sale encount cancel order order accept payment made give reason like undeliver area hdb singapor undeliver unbeliev anoth reason stock order accept first instanc overal still good e commerc site despit shortcom henc star rather   \n",
       "2444                                                                                                                                                                                                                                                          return polici good use lazada better   \n",
       "3330                                                                                                                                                     applic good bit like agreement polici want return product shopp give credit consid custom request hate costli product prefer onlin portal   \n",
       "2838                                                                                                                                                             initi min amount use voucher mall increas min spend keep increas voucher valu increas might consid stop use seem worth spend much   \n",
       "3074                                                                                                                                                                                 easili cancel order even assur order ship care price good true even leav feedback buy stick lazada qoo better   \n",
       "2620                                                                                                                                                                                                                                                                               better platform   \n",
       "1293                                                                                                                                                                                                                                                                                          good   \n",
       "2817                                                                                                                                                                          everyth fine deliv disput wait disput team decis even info last shop onlin shop fun conveni mani altern wast ur time   \n",
       "2171                                                                                                                                                                                               review censor mostli fake review other price good especi low deliveri cost buy brand pl cautiou   \n",
       "144                                                                                                                                                                                                                                                                                           love   \n",
       "841                                                                                                                                                                                                                                                         fraudul platform fraudul offer protect   \n",
       "598                                                                                                                                                                                                                                                 price reason hope payment e net servic conveni   \n",
       "145                                                                                                                                                                                                                                                                                    good improv   \n",
       "3191                                                                                                                                                                                                                                                     accept qualiti cheap long deliveri period   \n",
       "1650                                                                                                                                                                                                                                                                   deliveri good servic servic   \n",
       "1     wild varieti product howev buy certain stuff would prefer stuff come long warranti usual cloth prefer brick motar see whether fit long physic product would gladli purchas best includ warranti go qualiti handi know save money purchas realli good stuff keep come back good place bargain   \n",
       "3320                                                                                                                                                                                                                                                             like categor like wish easi refer   \n",
       "344                                                                                                                                                                                                                                                                                         experi   \n",
       "2655                                                                                                                                                                                                                                                                     good access platform shop   \n",
       "549                                                                                                                                                                                                                                                   sometim experi glitch friendli android phone   \n",
       "1266                                                                                                                                                                          overal great shop experi would better take better step verifi scammer job persuad refund let continu scam one victim   \n",
       "187                                                                                                                                                                                                                   nice hang tri chat sometim need featur show avail size shoe cloth cod option   \n",
       "1986                                                                                                                                                                                           suck support deliv buyer damag product eventhough buyer provid photo damag product receiv avoid app   \n",
       "3294                                                                                                                                                                                                                                            referr never regist messi hard navig user friendli   \n",
       "2452                                                                                                                                                                                                                                                                 alway never strike lucki draw   \n",
       "370                                                                                                                                                                                                   tri refer friend unabl use referr code overal still great place shop give voucher quit often   \n",
       "2478                                                                                                                                                                             even though custom servic realli help least thing order came deliveri slower platform howev find realli good deal   \n",
       "\n",
       "      score  target  pred  \n",
       "2865      3       1     0  \n",
       "1855      1       1     0  \n",
       "2381      3       1     0  \n",
       "2890      2       1     0  \n",
       "2414      3       1     0  \n",
       "1331      1       1     0  \n",
       "942       1       1     0  \n",
       "1346      3       1     0  \n",
       "2521      2       1     0  \n",
       "3029      3       1     0  \n",
       "2444      1       1     0  \n",
       "3330      3       1     0  \n",
       "2838      1       1     0  \n",
       "3074      1       1     0  \n",
       "2620      3       1     0  \n",
       "1293      3       1     0  \n",
       "2817      1       1     0  \n",
       "2171      2       1     0  \n",
       "144       2       1     0  \n",
       "841       1       1     0  \n",
       "598       3       1     0  \n",
       "145       3       1     0  \n",
       "3191      2       1     0  \n",
       "1650      1       1     0  \n",
       "1         3       1     0  \n",
       "3320      3       1     0  \n",
       "344       1       1     0  \n",
       "2655      3       1     0  \n",
       "549       3       1     0  \n",
       "1266      1       1     0  \n",
       "187       2       1     0  \n",
       "1986      1       1     0  \n",
       "3294      1       1     0  \n",
       "2452      2       1     0  \n",
       "370       3       1     0  \n",
       "2478      3       1     0  "
      ]
     },
     "execution_count": 51,
     "metadata": {},
     "output_type": "execute_result"
    }
   ],
   "source": [
    "# View the False Negatives - Model incorrectly predicts these as positive sentiment when they are actually negative sentiment\n",
    "val_df[(val_df['target']==1) & (val_df['pred']==0)][['content','content_stem','score','target','pred']]"
   ]
  },
  {
   "cell_type": "markdown",
   "metadata": {},
   "source": [
    "Now, that we have looked through the false positives and false negatives. We will identify the top most frequently occuring words to explain the misclassifications."
   ]
  },
  {
   "cell_type": "code",
   "execution_count": 52,
   "metadata": {},
   "outputs": [],
   "source": [
    "# Plot a barplot of the top 20 most frequently occuring words in misclassified reviews\n",
    "\n",
    "def barplot_tvec(df, pred, title, color):\n",
    "    words_series = df[(df['correctly_classified']==0) & (df['pred']==pred)]['content_stem']\n",
    "    \n",
    "    # Instantiate TF-IDF Vectorizer \n",
    "    tvec = TfidfVectorizer(stop_words='english')\n",
    "    \n",
    "    # Save the tokens in a dataframe\n",
    "    tvec_df = pd.DataFrame(tvec.fit_transform(words_series).todense(), columns=tvec.get_feature_names())\n",
    "    sum_words = tvec_df.sum(axis=0) # Sum up the no. of occurences for each word\n",
    "    top_words = sum_words.sort_values(ascending=False).head(10)\n",
    "    top_words.sort_values(ascending=True).plot(kind='barh', figsize=(10,8), color=color)\n",
    "    \n",
    "    # Chart aesthetics\n",
    "    plt.title(title, size=15, weight='bold')\n",
    "    plt.xlabel('Count', size=12)\n",
    "    plt.xlim(0,5)\n",
    "    plt.yticks(size=12)\n",
    "    plt.tight_layout()"
   ]
  },
  {
   "cell_type": "code",
   "execution_count": 53,
   "metadata": {},
   "outputs": [
    {
     "data": {
      "image/png": "[encoded data removed]",
      "text/plain": [
       "<Figure size 720x576 with 1 Axes>"
      ]
     },
     "metadata": {
      "needs_background": "light"
     },
     "output_type": "display_data"
    }
   ],
   "source": [
    "# Top words seen in False Positives - Model incorrectly predicts these as negative sentiment when they are actually positive sentiment\n",
    "barplot_tvec(df=val_df,\n",
    "             pred=1, \n",
    "             title=\"Top 10 Words in False Positives \\n (Model predicts negative sentiment when it is actually positive sentiment)\", \n",
    "             color='#EB984E')"
   ]
  },
  {
   "cell_type": "code",
   "execution_count": 54,
   "metadata": {
    "scrolled": false
   },
   "outputs": [
    {
     "data": {
      "image/png": "[encoded data removed]",
      "text/plain": [
       "<Figure size 720x576 with 1 Axes>"
      ]
     },
     "metadata": {
      "needs_background": "light"
     },
     "output_type": "display_data"
    }
   ],
   "source": [
    "# Top words seen in False Negatives - Model incorrectly predicts these as postive sentiment when they are actually negative sentiment\n",
    "barplot_tvec(df=val_df,\n",
    "             pred=0, \n",
    "             title=\"Top 10 Words in False Negatives \\n (Model predicts positive sentiment when it is actually negative sentiment)\", \n",
    "             color='#EB984E')"
   ]
  },
  {
   "cell_type": "markdown",
   "metadata": {},
   "source": [
    "As observed in the previous section, the word 'good' is a highly predictive word that is closely associated to positive sentiments. Given that the word 'good' appears most frequently in false negatives, the model will incorrectly predict these reviews as having a positive sentiment."
   ]
  },
  {
   "cell_type": "code",
   "execution_count": 55,
   "metadata": {},
   "outputs": [],
   "source": [
    "# False Negatives\n",
    "fn = val_df[(val_df['correctly_classified']==0) & (val_df['pred']==0)][['content','content_stem','score']]"
   ]
  },
  {
   "cell_type": "code",
   "execution_count": 56,
   "metadata": {},
   "outputs": [],
   "source": [
    "# Count the number of times the word 'good' appears in the review\n",
    "fn['count_good'] = fn['content_stem'].str.count('good')"
   ]
  },
  {
   "cell_type": "code",
   "execution_count": 57,
   "metadata": {},
   "outputs": [
    {
     "data": {
      "image/png": "[encoded data removed]",
      "text/plain": [
       "<Figure size 576x360 with 1 Axes>"
      ]
     },
     "metadata": {
      "needs_background": "light"
     },
     "output_type": "display_data"
    }
   ],
   "source": [
    "plt.figure(figsize=(8,5))\n",
    "\n",
    "# Group False Negative reviews by their ratings and sum up the no. of times the word 'good' was seen\n",
    "fn.groupby('score')['count_good'].sum().plot(kind='bar', color='#EB984E')\n",
    "\n",
    "plt.title(\"No. of times the word 'good' appeared in False Negative reviews \\n By rating score\", size=14, weight='bold')\n",
    "plt.ylabel(\"Count\", size=12)\n",
    "plt.yticks(size=12)\n",
    "plt.xlabel(\"Rating score\", size=12)\n",
    "plt.xticks(size=12, rotation=0);"
   ]
  },
  {
   "cell_type": "markdown",
   "metadata": {},
   "source": [
    "We observe that there are quite a few users who wrote reviews with the word 'good' in them, yet gave the app a rating of 3. Since the model has been trained to believe that the word 'good' belongs to a positive sentiment, the model has thus predicted these to be positive reviews. Hence, misclassifications happen as a result of fence-sitters writing reviews that have positive connotation."
   ]
  },
  {
   "cell_type": "code",
   "execution_count": 58,
   "metadata": {},
   "outputs": [
    {
     "data": {
      "text/html": [
       "<div>\n",
       "<style scoped>\n",
       "    .dataframe tbody tr th:only-of-type {\n",
       "        vertical-align: middle;\n",
       "    }\n",
       "\n",
       "    .dataframe tbody tr th {\n",
       "        vertical-align: top;\n",
       "    }\n",
       "\n",
       "    .dataframe thead th {\n",
       "        text-align: right;\n",
       "    }\n",
       "</style>\n",
       "<table border=\"1\" class=\"dataframe\">\n",
       "  <thead>\n",
       "    <tr style=\"text-align: right;\">\n",
       "      <th></th>\n",
       "      <th>content</th>\n",
       "      <th>score</th>\n",
       "    </tr>\n",
       "  </thead>\n",
       "  <tbody>\n",
       "    <tr>\n",
       "      <th>2381</th>\n",
       "      <td>good to buy</td>\n",
       "      <td>3</td>\n",
       "    </tr>\n",
       "    <tr>\n",
       "      <th>1331</th>\n",
       "      <td>Shopee is a biased platform whom sides sellers more than buyers. These words came from Shopee CSR themselves that Sellers are able to delete ratings from buyers without consent from buyers. Hence, it is impossible to know if sellers on the platform are reputable or not even based on the ratings as dishonest sellers are able to remove the 'bad' ratings from buyers, to 'look good'. Not recommending this unfair platform to any others!</td>\n",
       "      <td>1</td>\n",
       "    </tr>\n",
       "    <tr>\n",
       "      <th>2521</th>\n",
       "      <td>Although tools for selling are advanced, however it can't really generate sales. But you can Really get   good deals often from coupon codes.</td>\n",
       "      <td>2</td>\n",
       "    </tr>\n",
       "    <tr>\n",
       "      <th>3029</th>\n",
       "      <td>Many items, reasonable pricing but during the 11.11 sale, i encountered cancellation of my orders by the seller after the orders were accepted and payment made, giving reasons like \"undeliverable area\". HDB in Singapore undeliverable? Unbelievable! Another reason is out of stock, but the order was accepted in the first instance! Overall still a good e-commerce site despite these shortcomings. Hence, the 3 stars rather than 5.</td>\n",
       "      <td>3</td>\n",
       "    </tr>\n",
       "    <tr>\n",
       "      <th>2444</th>\n",
       "      <td>The return policy not good. Use Lazada better.</td>\n",
       "      <td>1</td>\n",
       "    </tr>\n",
       "    <tr>\n",
       "      <th>3330</th>\n",
       "      <td>Application is good bit I don't like the shopee agreement and policy. When I want to return the product shoppe is giving credit only to the seller and they are not considering the customer request. I hate this. So for the costly product I prefer other online portal.</td>\n",
       "      <td>3</td>\n",
       "    </tr>\n",
       "    <tr>\n",
       "      <th>3074</th>\n",
       "      <td>Sellers can easily cancel your orders even after assuring you that your orders can be shipped. Be careful of items that have prices that are too good to be true. Can't even leave feedback to bad sellers. Won't be buying from shopee again. Stick to lazada or qoo10 better.</td>\n",
       "      <td>1</td>\n",
       "    </tr>\n",
       "    <tr>\n",
       "      <th>1293</th>\n",
       "      <td>Good</td>\n",
       "      <td>3</td>\n",
       "    </tr>\n",
       "    <tr>\n",
       "      <th>2171</th>\n",
       "      <td>some reviews were censored. mostly faked review. others then that the price is good especially low delivery costs. buying no brand item pls be cautious.</td>\n",
       "      <td>2</td>\n",
       "    </tr>\n",
       "    <tr>\n",
       "      <th>145</th>\n",
       "      <td>good can be improved</td>\n",
       "      <td>3</td>\n",
       "    </tr>\n",
       "    <tr>\n",
       "      <th>1650</th>\n",
       "      <td>Delivery very bad no good service. Very very bad service</td>\n",
       "      <td>1</td>\n",
       "    </tr>\n",
       "    <tr>\n",
       "      <th>1</th>\n",
       "      <td>Shopee has a wild variety of products however i will only buy certain stuffs . I would prefer stuffs to come with long warranty. Usually for clothings , i prefer brick and motar , see whether it fits . As long as physical products , i would gladly purchase , best can include warranty . I will go only for the quality . This app is very handy . I know where to save money when purchasing . It has some really good stuffs . I will keep coming back , a very good place for bargains .</td>\n",
       "      <td>3</td>\n",
       "    </tr>\n",
       "    <tr>\n",
       "      <th>2655</th>\n",
       "      <td>Good access platform to shop</td>\n",
       "      <td>3</td>\n",
       "    </tr>\n",
       "    <tr>\n",
       "      <th>2478</th>\n",
       "      <td>Even though their customer service wasn't really helpful but at least the things that I ordered came... The delivery is slower then the other platform however you can find some really good deals</td>\n",
       "      <td>3</td>\n",
       "    </tr>\n",
       "  </tbody>\n",
       "</table>\n",
       "</div>"
      ],
      "text/plain": [
       "                                                                                                                                                                                                                                                                                                                                                                                                                                                                                                content  \\\n",
       "2381                                                                                                                                                                                                                                                                                                                                                                                                                                                                                        good to buy   \n",
       "1331                                                Shopee is a biased platform whom sides sellers more than buyers. These words came from Shopee CSR themselves that Sellers are able to delete ratings from buyers without consent from buyers. Hence, it is impossible to know if sellers on the platform are reputable or not even based on the ratings as dishonest sellers are able to remove the 'bad' ratings from buyers, to 'look good'. Not recommending this unfair platform to any others!   \n",
       "2521                                                                                                                                                                                                                                                                                                                                                      Although tools for selling are advanced, however it can't really generate sales. But you can Really get   good deals often from coupon codes.   \n",
       "3029                                                      Many items, reasonable pricing but during the 11.11 sale, i encountered cancellation of my orders by the seller after the orders were accepted and payment made, giving reasons like \"undeliverable area\". HDB in Singapore undeliverable? Unbelievable! Another reason is out of stock, but the order was accepted in the first instance! Overall still a good e-commerce site despite these shortcomings. Hence, the 3 stars rather than 5.   \n",
       "2444                                                                                                                                                                                                                                                                                                                                                                                                                                                     The return policy not good. Use Lazada better.   \n",
       "3330                                                                                                                                                                                                                         Application is good bit I don't like the shopee agreement and policy. When I want to return the product shoppe is giving credit only to the seller and they are not considering the customer request. I hate this. So for the costly product I prefer other online portal.   \n",
       "3074                                                                                                                                                                                                                    Sellers can easily cancel your orders even after assuring you that your orders can be shipped. Be careful of items that have prices that are too good to be true. Can't even leave feedback to bad sellers. Won't be buying from shopee again. Stick to lazada or qoo10 better.   \n",
       "1293                                                                                                                                                                                                                                                                                                                                                                                                                                                                                               Good   \n",
       "2171                                                                                                                                                                                                                                                                                                                                           some reviews were censored. mostly faked review. others then that the price is good especially low delivery costs. buying no brand item pls be cautious.   \n",
       "145                                                                                                                                                                                                                                                                                                                                                                                                                                                                                good can be improved   \n",
       "1650                                                                                                                                                                                                                                                                                                                                                                                                                                           Delivery very bad no good service. Very very bad service   \n",
       "1     Shopee has a wild variety of products however i will only buy certain stuffs . I would prefer stuffs to come with long warranty. Usually for clothings , i prefer brick and motar , see whether it fits . As long as physical products , i would gladly purchase , best can include warranty . I will go only for the quality . This app is very handy . I know where to save money when purchasing . It has some really good stuffs . I will keep coming back , a very good place for bargains .   \n",
       "2655                                                                                                                                                                                                                                                                                                                                                                                                                                                                       Good access platform to shop   \n",
       "2478                                                                                                                                                                                                                                                                                                 Even though their customer service wasn't really helpful but at least the things that I ordered came... The delivery is slower then the other platform however you can find some really good deals   \n",
       "\n",
       "      score  \n",
       "2381      3  \n",
       "1331      1  \n",
       "2521      2  \n",
       "3029      3  \n",
       "2444      1  \n",
       "3330      3  \n",
       "3074      1  \n",
       "1293      3  \n",
       "2171      2  \n",
       "145       3  \n",
       "1650      1  \n",
       "1         3  \n",
       "2655      3  \n",
       "2478      3  "
      ]
     },
     "execution_count": 58,
     "metadata": {},
     "output_type": "execute_result"
    }
   ],
   "source": [
    "pd.set_option('display.max_colwidth', None)\n",
    "\n",
    "# View only the False Negatives that has the words 'good' in it\n",
    "fn[fn['count_good']>0][['content','score']]"
   ]
  },
  {
   "cell_type": "markdown",
   "metadata": {},
   "source": [
    "## Evaluate Production Model on Test Set"
   ]
  },
  {
   "cell_type": "markdown",
   "metadata": {},
   "source": [
    "Finally, we will evaluate our model's performance on the test set."
   ]
  },
  {
   "cell_type": "code",
   "execution_count": 59,
   "metadata": {},
   "outputs": [],
   "source": [
    "# Read test set into a dataframe\n",
    "test = pd.read_csv('../data/clean_test.csv')"
   ]
  },
  {
   "cell_type": "code",
   "execution_count": 60,
   "metadata": {
    "scrolled": true
   },
   "outputs": [
    {
     "data": {
      "text/plain": [
       "(870, 4)"
      ]
     },
     "execution_count": 60,
     "metadata": {},
     "output_type": "execute_result"
    }
   ],
   "source": [
    "# There are 870 documents in our test set\n",
    "test.shape"
   ]
  },
  {
   "cell_type": "code",
   "execution_count": 61,
   "metadata": {},
   "outputs": [
    {
     "data": {
      "text/plain": [
       "0    0.609195\n",
       "1    0.390805\n",
       "Name: target, dtype: float64"
      ]
     },
     "execution_count": 61,
     "metadata": {},
     "output_type": "execute_result"
    }
   ],
   "source": [
    "# The class representation in our test set looks similar to our training set as we used stratify\n",
    "test['target'].value_counts(normalize=True)"
   ]
  },
  {
   "cell_type": "code",
   "execution_count": 62,
   "metadata": {},
   "outputs": [],
   "source": [
    "# Establish our X and y variables\n",
    "X_test = test['content_stem']\n",
    "y_test = test['target']"
   ]
  },
  {
   "cell_type": "code",
   "execution_count": 63,
   "metadata": {},
   "outputs": [],
   "source": [
    "# Generate predictions on test set\n",
    "test_pred = voting_clf.predict(X_test)"
   ]
  },
  {
   "cell_type": "code",
   "execution_count": 64,
   "metadata": {
    "scrolled": true
   },
   "outputs": [
    {
     "name": "stdout",
     "output_type": "stream",
     "text": [
      "Evaluation metrics for test set\n",
      "\n",
      "Accuracy score:  0.8919540229885058\n",
      "\n",
      "Classification report for test set\n",
      "              precision    recall  f1-score   support\n",
      "\n",
      "           0       0.92      0.91      0.91       530\n",
      "           1       0.86      0.87      0.86       340\n",
      "\n",
      "    accuracy                           0.89       870\n",
      "   macro avg       0.89      0.89      0.89       870\n",
      "weighted avg       0.89      0.89      0.89       870\n",
      "\n",
      "\n",
      "Confusion matrix for test set\n",
      "                        Predicted Positive Review  Predicted Negative Review\n",
      "Actual Positive Review                        480                         50\n",
      "Actual Negative Review                         44                        296\n"
     ]
    }
   ],
   "source": [
    "print('Evaluation metrics for test set')\n",
    "print('')\n",
    "print('Accuracy score: ', accuracy_score(y_test, test_pred))\n",
    "print('')\n",
    "\n",
    "# Print classification report and confusion matrix\n",
    "cmat(y_test, test_pred, 'test set')"
   ]
  },
  {
   "cell_type": "markdown",
   "metadata": {},
   "source": [
    "Given that our production model achieves 0.892 on accuracy and 0.87 on recall, we can conclude that the model generalises well on unseen data."
   ]
  },
  {
   "cell_type": "markdown",
   "metadata": {},
   "source": [
    "### Misclassified Reviews in the Test Set"
   ]
  },
  {
   "cell_type": "markdown",
   "metadata": {},
   "source": [
    "Let us have a look at the misclassifications in our test set."
   ]
  },
  {
   "cell_type": "code",
   "execution_count": 65,
   "metadata": {},
   "outputs": [],
   "source": [
    "# Generate predictions on the test set\n",
    "test['pred'] = voting_clf.predict(X_test)"
   ]
  },
  {
   "cell_type": "code",
   "execution_count": 66,
   "metadata": {},
   "outputs": [],
   "source": [
    "# Create a column to indicate if the review was correctly predicted\n",
    "test['correctly_classified'] = (test['pred'] == test['target'])"
   ]
  },
  {
   "cell_type": "code",
   "execution_count": 67,
   "metadata": {
    "scrolled": false
   },
   "outputs": [
    {
     "data": {
      "text/html": [
       "<div>\n",
       "<style scoped>\n",
       "    .dataframe tbody tr th:only-of-type {\n",
       "        vertical-align: middle;\n",
       "    }\n",
       "\n",
       "    .dataframe tbody tr th {\n",
       "        vertical-align: top;\n",
       "    }\n",
       "\n",
       "    .dataframe thead th {\n",
       "        text-align: right;\n",
       "    }\n",
       "</style>\n",
       "<table border=\"1\" class=\"dataframe\">\n",
       "  <thead>\n",
       "    <tr style=\"text-align: right;\">\n",
       "      <th></th>\n",
       "      <th>content</th>\n",
       "      <th>content_stem</th>\n",
       "      <th>score</th>\n",
       "      <th>target</th>\n",
       "      <th>pred</th>\n",
       "    </tr>\n",
       "  </thead>\n",
       "  <tbody>\n",
       "    <tr>\n",
       "      <th>13</th>\n",
       "      <td>You have great sellers, and you have great exposure so there's more choices for consumers, but you need to work on developing the app further, the app experience is still quite buggy, loading from page to page usually crash the app, otherwise I would gladly give a 5 star rating, but you are new, so work on it yeah, I use shopee all the time so I'm rooting for ya!</td>\n",
       "      <td>great great exposur choic consum need work develop experi still quit buggi load page page usual crash otherwis would gladli give star rate new work yeah use time root ya</td>\n",
       "      <td>4</td>\n",
       "      <td>0</td>\n",
       "      <td>1</td>\n",
       "    </tr>\n",
       "    <tr>\n",
       "      <th>20</th>\n",
       "      <td>Moving sales &amp; Ease for seller to transfer payment. Recent J&amp;T sega shopee should have kept sellers promptly updated. The category listing team is overdue for an improvement. If incorrect they should send the suggested reco instead of wasting time on the to &amp; fro correction.</td>\n",
       "      <td>move sale eas transfer payment recent j sega kept promptli updat categori list team overdu improv incorrect send suggest reco instead wast time fro correct</td>\n",
       "      <td>4</td>\n",
       "      <td>0</td>\n",
       "      <td>1</td>\n",
       "    </tr>\n",
       "    <tr>\n",
       "      <th>32</th>\n",
       "      <td>Some bugs on certain pages e.g. adding to cart sometimes makes the app hang. Otherwise one of the best e-shopping app for SG.</td>\n",
       "      <td>bug certain page e g ad cart sometim make hang otherwis one best e shop sg</td>\n",
       "      <td>4</td>\n",
       "      <td>0</td>\n",
       "      <td>1</td>\n",
       "    </tr>\n",
       "    <tr>\n",
       "      <th>36</th>\n",
       "      <td>Shoppee is easy to use, however recently I saw my orders under (to ship) checked with seller, she said shipped, however no update on the movement.. this seller was not very responsive to my message, n I eventually cancelled the order.. then she told me shipped ..</td>\n",
       "      <td>easi use howev recent saw order ship check said ship howev updat movement respons messag n eventu cancel order told ship</td>\n",
       "      <td>4</td>\n",
       "      <td>0</td>\n",
       "      <td>1</td>\n",
       "    </tr>\n",
       "    <tr>\n",
       "      <th>79</th>\n",
       "      <td>Not too bad. Pls make search easier as there are many products</td>\n",
       "      <td>pl make search easier mani product</td>\n",
       "      <td>4</td>\n",
       "      <td>0</td>\n",
       "      <td>1</td>\n",
       "    </tr>\n",
       "    <tr>\n",
       "      <th>112</th>\n",
       "      <td>Seamless ordering</td>\n",
       "      <td>seamless order</td>\n",
       "      <td>5</td>\n",
       "      <td>0</td>\n",
       "      <td>1</td>\n",
       "    </tr>\n",
       "    <tr>\n",
       "      <th>113</th>\n",
       "      <td>Overall are good, but i cannot access the bank card and account, it keep showing errors, hope that customer service can take noted.</td>\n",
       "      <td>overal good cannot access bank card account keep show error hope custom servic take note</td>\n",
       "      <td>4</td>\n",
       "      <td>0</td>\n",
       "      <td>1</td>\n",
       "    </tr>\n",
       "    <tr>\n",
       "      <th>118</th>\n",
       "      <td>Will buy again</td>\n",
       "      <td>buy</td>\n",
       "      <td>4</td>\n",
       "      <td>0</td>\n",
       "      <td>1</td>\n",
       "    </tr>\n",
       "    <tr>\n",
       "      <th>127</th>\n",
       "      <td>Okay</td>\n",
       "      <td>okay</td>\n",
       "      <td>4</td>\n",
       "      <td>0</td>\n",
       "      <td>1</td>\n",
       "    </tr>\n",
       "    <tr>\n",
       "      <th>137</th>\n",
       "      <td>Trusty worthy and once item recevied then only payment is release to Seller.</td>\n",
       "      <td>trusti worthi recevi payment releas</td>\n",
       "      <td>5</td>\n",
       "      <td>0</td>\n",
       "      <td>1</td>\n",
       "    </tr>\n",
       "    <tr>\n",
       "      <th>190</th>\n",
       "      <td>So far its okay. A 4 rating is given because many times when i place order a refund is given as items are out of stock. It makes me wonder</td>\n",
       "      <td>far okay rate given mani time place order refund given stock make wonder</td>\n",
       "      <td>4</td>\n",
       "      <td>0</td>\n",
       "      <td>1</td>\n",
       "    </tr>\n",
       "    <tr>\n",
       "      <th>205</th>\n",
       "      <td>Useful for both buying and selling</td>\n",
       "      <td>use buy sell</td>\n",
       "      <td>5</td>\n",
       "      <td>0</td>\n",
       "      <td>1</td>\n",
       "    </tr>\n",
       "    <tr>\n",
       "      <th>224</th>\n",
       "      <td>Got our product as we order.</td>\n",
       "      <td>got product order</td>\n",
       "      <td>5</td>\n",
       "      <td>0</td>\n",
       "      <td>1</td>\n",
       "    </tr>\n",
       "    <tr>\n",
       "      <th>228</th>\n",
       "      <td>Good app.Can buy anything you want</td>\n",
       "      <td>good buy anyth want</td>\n",
       "      <td>5</td>\n",
       "      <td>0</td>\n",
       "      <td>1</td>\n",
       "    </tr>\n",
       "    <tr>\n",
       "      <th>229</th>\n",
       "      <td>I can find anything on shoppe the fact that shoppe holds payment till item recieved makes it so much safer for users.</td>\n",
       "      <td>find anyth shopp fact shopp hold payment till reciev make much safer user</td>\n",
       "      <td>5</td>\n",
       "      <td>0</td>\n",
       "      <td>1</td>\n",
       "    </tr>\n",
       "    <tr>\n",
       "      <th>240</th>\n",
       "      <td>Certain things are cheaper than LZ and Q, but there are also sellers selling faked products. Must read the reviews before making any purchase. Please report counterfeits to Shopee.sg as I believe they will take action.</td>\n",
       "      <td>certain thing cheaper lz q also sell fake product must read review make purchas pleas report counterfeit sg believ take action</td>\n",
       "      <td>4</td>\n",
       "      <td>0</td>\n",
       "      <td>1</td>\n",
       "    </tr>\n",
       "    <tr>\n",
       "      <th>260</th>\n",
       "      <td>Some areas I wish can be done: 1. 1,000 Shopee Coins to be able to be used based per day basis instead of 24hr basis. Kind of silly to have to wait a full 24hrs in order to optimise the use of 1,000 shopee coins. 2. Wish all fake goods sellers (eg. Micro SD cards..) can be removed or blocked so as not to waste buyer's effort to purchase only to realise they are fakes. But overall, still pleased with the online shopping experience. Cheers.</td>\n",
       "      <td>area wish done coin abl use base per day basi instead hr basi kind silli wait full hr order optimis use coin wish fake good eg micro sd card remov block wast buyer effort purchas realis fake overal still pleas onlin shop experi cheer</td>\n",
       "      <td>4</td>\n",
       "      <td>0</td>\n",
       "      <td>1</td>\n",
       "    </tr>\n",
       "    <tr>\n",
       "      <th>281</th>\n",
       "      <td>software more lag after update.. watering game lag loading..even browsing the app also become lagging..</td>\n",
       "      <td>softwar lag updat water game lag load even brows also becom lag</td>\n",
       "      <td>4</td>\n",
       "      <td>0</td>\n",
       "      <td>1</td>\n",
       "    </tr>\n",
       "    <tr>\n",
       "      <th>289</th>\n",
       "      <td>Laggy during peak hours</td>\n",
       "      <td>laggi peak hour</td>\n",
       "      <td>4</td>\n",
       "      <td>0</td>\n",
       "      <td>1</td>\n",
       "    </tr>\n",
       "    <tr>\n",
       "      <th>303</th>\n",
       "      <td>Many things to buy. Sometimes hang but no problem once i exit the app and enter again</td>\n",
       "      <td>mani thing buy sometim hang problem exit enter</td>\n",
       "      <td>5</td>\n",
       "      <td>0</td>\n",
       "      <td>1</td>\n",
       "    </tr>\n",
       "    <tr>\n",
       "      <th>308</th>\n",
       "      <td>Well informed on the update.</td>\n",
       "      <td>well inform updat</td>\n",
       "      <td>5</td>\n",
       "      <td>0</td>\n",
       "      <td>1</td>\n",
       "    </tr>\n",
       "    <tr>\n",
       "      <th>337</th>\n",
       "      <td>The app works quite smoothly and doesn't seem to be buggy at all. The only comment I have is the floating icons tend to get in the way and are hard to close.</td>\n",
       "      <td>work quit smoothli seem buggi comment float icon tend get way hard close</td>\n",
       "      <td>4</td>\n",
       "      <td>0</td>\n",
       "      <td>1</td>\n",
       "    </tr>\n",
       "    <tr>\n",
       "      <th>340</th>\n",
       "      <td>Unable to create new account. Edit: It works now, but you guys need a more useful error message because apparently if the username can't be used it wont tell you that, instead the whole registration process fails when you try to submit. This makes it hard for us to determine which field is wrong.</td>\n",
       "      <td>unabl creat new account edit work guy need use error messag appar usernam use wont tell instead whole registr process fail tri submit make hard us determin field wrong</td>\n",
       "      <td>4</td>\n",
       "      <td>0</td>\n",
       "      <td>1</td>\n",
       "    </tr>\n",
       "    <tr>\n",
       "      <th>379</th>\n",
       "      <td>Cool.</td>\n",
       "      <td>cool</td>\n",
       "      <td>4</td>\n",
       "      <td>0</td>\n",
       "      <td>1</td>\n",
       "    </tr>\n",
       "    <tr>\n",
       "      <th>406</th>\n",
       "      <td>The app is good but I does not let me use cash at least I think so</td>\n",
       "      <td>good let use cash least think</td>\n",
       "      <td>4</td>\n",
       "      <td>0</td>\n",
       "      <td>1</td>\n",
       "    </tr>\n",
       "    <tr>\n",
       "      <th>412</th>\n",
       "      <td>Some of seller , asking them to show or guide me their products but they don't answer my questions what l want .</td>\n",
       "      <td>ask show guid product answer question l want</td>\n",
       "      <td>4</td>\n",
       "      <td>0</td>\n",
       "      <td>1</td>\n",
       "    </tr>\n",
       "    <tr>\n",
       "      <th>432</th>\n",
       "      <td>The seller and buyer chat is very useful.</td>\n",
       "      <td>buyer chat use</td>\n",
       "      <td>5</td>\n",
       "      <td>0</td>\n",
       "      <td>1</td>\n",
       "    </tr>\n",
       "    <tr>\n",
       "      <th>440</th>\n",
       "      <td>Generally happy with the low price. However, for the cart items, once we reached the payment page, even we did not click process payment, we cannot go back to change the details, e.g. change of credit card. We have to re-order everything again! Pls consider to improve this area.</td>\n",
       "      <td>gener happi low price howev cart reach payment page even click process payment cannot go back chang detail e g chang credit card order everyth pl consid improv area</td>\n",
       "      <td>4</td>\n",
       "      <td>0</td>\n",
       "      <td>1</td>\n",
       "    </tr>\n",
       "    <tr>\n",
       "      <th>475</th>\n",
       "      <td>Its has what i have ordered and has it delivered right on the dot....</td>\n",
       "      <td>order deliv right dot</td>\n",
       "      <td>4</td>\n",
       "      <td>0</td>\n",
       "      <td>1</td>\n",
       "    </tr>\n",
       "    <tr>\n",
       "      <th>489</th>\n",
       "      <td>Currently better prices than Lazada. App however not v stable, and of course shopping cart hangs when vouchers are launched. Also, sale reminders don't work for me.</td>\n",
       "      <td>current better price lazada howev v stabl cours shop cart hang voucher launch also sale remind work</td>\n",
       "      <td>4</td>\n",
       "      <td>0</td>\n",
       "      <td>1</td>\n",
       "    </tr>\n",
       "    <tr>\n",
       "      <th>500</th>\n",
       "      <td>At times slow to wait for customer service to respond. Otherwise good for now</td>\n",
       "      <td>time slow wait custom servic respond otherwis good</td>\n",
       "      <td>4</td>\n",
       "      <td>0</td>\n",
       "      <td>1</td>\n",
       "    </tr>\n",
       "    <tr>\n",
       "      <th>547</th>\n",
       "      <td>I can get almost anything and everything right here at Shopee.</td>\n",
       "      <td>get almost anyth everyth right</td>\n",
       "      <td>5</td>\n",
       "      <td>0</td>\n",
       "      <td>1</td>\n",
       "    </tr>\n",
       "    <tr>\n",
       "      <th>576</th>\n",
       "      <td>2nd order for some items.</td>\n",
       "      <td>nd order</td>\n",
       "      <td>4</td>\n",
       "      <td>0</td>\n",
       "      <td>1</td>\n",
       "    </tr>\n",
       "    <tr>\n",
       "      <th>577</th>\n",
       "      <td>Good prices but some seller has been offline and super inresponsive. I suggest u remove them if they have been offline for over a month. I took the risk and ordered from one of them 2-3 weeks ago and still havent shipped and i do hope if i cancel i do get back my $200</td>\n",
       "      <td>good price offlin super inrespons suggest u remov offlin month took risk order one week ago still havent ship hope cancel get back</td>\n",
       "      <td>4</td>\n",
       "      <td>0</td>\n",
       "      <td>1</td>\n",
       "    </tr>\n",
       "    <tr>\n",
       "      <th>597</th>\n",
       "      <td>Shoppee assist me on dispute oder. 👍👍</td>\n",
       "      <td>assist disput oder</td>\n",
       "      <td>4</td>\n",
       "      <td>0</td>\n",
       "      <td>1</td>\n",
       "    </tr>\n",
       "    <tr>\n",
       "      <th>600</th>\n",
       "      <td>Other than not being able to receive a welcome gift because I made a purchase before redeeming (you should change the policy for how you determine your new customers), it is still good app to use.</td>\n",
       "      <td>abl receiv welcom gift made purchas redeem chang polici determin new custom still good use</td>\n",
       "      <td>4</td>\n",
       "      <td>0</td>\n",
       "      <td>1</td>\n",
       "    </tr>\n",
       "    <tr>\n",
       "      <th>602</th>\n",
       "      <td>I Like shopee but if need to pay I can't to pay because I don't have bank account, I'm just used SingtelDash</td>\n",
       "      <td>like need pay pay bank account use singteldash</td>\n",
       "      <td>5</td>\n",
       "      <td>0</td>\n",
       "      <td>1</td>\n",
       "    </tr>\n",
       "    <tr>\n",
       "      <th>611</th>\n",
       "      <td>App shopping cart issue...saved item to cart but not able to edit or purchase item ..cant tick the box</td>\n",
       "      <td>shop cart issu save cart abl edit purchas cant tick box</td>\n",
       "      <td>5</td>\n",
       "      <td>0</td>\n",
       "      <td>1</td>\n",
       "    </tr>\n",
       "    <tr>\n",
       "      <th>656</th>\n",
       "      <td>Useful app. However, the app ought to allow feedback against seller's who cancelled an transaction after close to a month wait. The rest are quite intuitive. Good job Shopee team!</td>\n",
       "      <td>use howev ought allow feedback cancel transact close month wait rest quit intuit good job team</td>\n",
       "      <td>5</td>\n",
       "      <td>0</td>\n",
       "      <td>1</td>\n",
       "    </tr>\n",
       "    <tr>\n",
       "      <th>717</th>\n",
       "      <td>Most of the app function. But need more security on bank card side. Maybe OTP.</td>\n",
       "      <td>function need secur bank card side mayb otp</td>\n",
       "      <td>4</td>\n",
       "      <td>0</td>\n",
       "      <td>1</td>\n",
       "    </tr>\n",
       "    <tr>\n",
       "      <th>721</th>\n",
       "      <td>Like Shopee games collect coins to save costs for items purchase. But later found dishonest seller changed and increased the prices. Want me close order. Report to Shopee Support, no reply soon gave me anxieties for 1 week (From rating 5, rated to 4). Shopee service Auto Refund and Shopee coins, purchased the product.</td>\n",
       "      <td>like game collect coin save cost purchas later found dishonest chang increas price want close order report support repli soon gave anxieti week rate rate servic auto refund coin purchas product</td>\n",
       "      <td>4</td>\n",
       "      <td>0</td>\n",
       "      <td>1</td>\n",
       "    </tr>\n",
       "    <tr>\n",
       "      <th>753</th>\n",
       "      <td>1) I like shopee because I can use bank transfer to pay instead of using visa (unsafe). 2) I don't like about shopee, the apps took out too much ram space!! (Please look into it.) Other apps like AliExpress, eBay do not take up too much ram when I use. 3) Shopee seller are not good knowledge of their products &amp; size. U are selling motorcycle parts without know the size or models. (U must improve &amp; learn from AliExpress, they list out the models &amp; size to avoid customer from buying the wrong 1</td>\n",
       "      <td>like use bank transfer pay instead use visa unsaf like app took much ram space pleas look app like aliexpress ebay take much ram use good knowledg product size u sell motorcycl part without know size model u must improv learn aliexpress list model size avoid custom buy wrong</td>\n",
       "      <td>4</td>\n",
       "      <td>0</td>\n",
       "      <td>1</td>\n",
       "    </tr>\n",
       "    <tr>\n",
       "      <th>754</th>\n",
       "      <td>There are some seller that don't respond promptly.</td>\n",
       "      <td>respond promptli</td>\n",
       "      <td>4</td>\n",
       "      <td>0</td>\n",
       "      <td>1</td>\n",
       "    </tr>\n",
       "    <tr>\n",
       "      <th>770</th>\n",
       "      <td>I like that the products sold here are way cheaper than some, but Shopee keeps on logging me out! I had difficulty logging into my account back &amp; now I couldn't! I have another almost 15 items or so to receive!!!</td>\n",
       "      <td>like product sold way cheaper keep log difficulti log account back anoth almost receiv</td>\n",
       "      <td>4</td>\n",
       "      <td>0</td>\n",
       "      <td>1</td>\n",
       "    </tr>\n",
       "    <tr>\n",
       "      <th>771</th>\n",
       "      <td>Helpful and prompt service till yesterday. I have written to you yesterday on an overdue delivery which I need urgently but no reply as of now unfortunately!</td>\n",
       "      <td>help prompt servic till yesterday written yesterday overdu deliveri need urgent repli unfortun</td>\n",
       "      <td>4</td>\n",
       "      <td>0</td>\n",
       "      <td>1</td>\n",
       "    </tr>\n",
       "    <tr>\n",
       "      <th>782</th>\n",
       "      <td>Fantastic</td>\n",
       "      <td>fantast</td>\n",
       "      <td>5</td>\n",
       "      <td>0</td>\n",
       "      <td>1</td>\n",
       "    </tr>\n",
       "    <tr>\n",
       "      <th>794</th>\n",
       "      <td>The new update is bad. Everything has been zoomed in and doesn't fit my screen anymore. Plus there are alot less deals compared to their earlier days.</td>\n",
       "      <td>new updat everyth zoom fit screen anymor plu alot less deal compar earlier day</td>\n",
       "      <td>4</td>\n",
       "      <td>0</td>\n",
       "      <td>1</td>\n",
       "    </tr>\n",
       "    <tr>\n",
       "      <th>841</th>\n",
       "      <td>,i think it is better to inform a time slot when the delivery man is coming to deliver parcel to door stop and the timing of the delivery is not being mentioned .Besides this ,Shopee parcels dosent always come on time unlike Ezbuy .There is always issues with the parcels ,some parcels take over one month to come.In terms of shipping ,Ezbuy does it better. The parcel that took one month to come is ridiculous ,i always feel that buying on Shopee takes more risk than on Ezbuy.</td>\n",
       "      <td>think better inform time slot deliveri man come deliv parcel door stop time deliveri mention besid parcel dosent alway come time unlik ezbuy alway issu parcel parcel take one month come term ship ezbuy better parcel took one month come ridicul alway feel buy take risk ezbuy</td>\n",
       "      <td>4</td>\n",
       "      <td>0</td>\n",
       "      <td>1</td>\n",
       "    </tr>\n",
       "    <tr>\n",
       "      <th>850</th>\n",
       "      <td>No shipping fee👍👍👍👍👍</td>\n",
       "      <td>ship fee</td>\n",
       "      <td>4</td>\n",
       "      <td>0</td>\n",
       "      <td>1</td>\n",
       "    </tr>\n",
       "    <tr>\n",
       "      <th>858</th>\n",
       "      <td>Locals item / merchandise needs to be grouped separately.</td>\n",
       "      <td>local merchandis need group separ</td>\n",
       "      <td>4</td>\n",
       "      <td>0</td>\n",
       "      <td>1</td>\n",
       "    </tr>\n",
       "  </tbody>\n",
       "</table>\n",
       "</div>"
      ],
      "text/plain": [
       "                                                                                                                                                                                                                                                                                                                                                                                                                                                                                                               content  \\\n",
       "13                                                                                                                                       You have great sellers, and you have great exposure so there's more choices for consumers, but you need to work on developing the app further, the app experience is still quite buggy, loading from page to page usually crash the app, otherwise I would gladly give a 5 star rating, but you are new, so work on it yeah, I use shopee all the time so I'm rooting for ya!   \n",
       "20                                                                                                                                                                                                                                 Moving sales & Ease for seller to transfer payment. Recent J&T sega shopee should have kept sellers promptly updated. The category listing team is overdue for an improvement. If incorrect they should send the suggested reco instead of wasting time on the to & fro correction.   \n",
       "32                                                                                                                                                                                                                                                                                                                                                                                       Some bugs on certain pages e.g. adding to cart sometimes makes the app hang. Otherwise one of the best e-shopping app for SG.   \n",
       "36                                                                                                                                                                                                                                             Shoppee is easy to use, however recently I saw my orders under (to ship) checked with seller, she said shipped, however no update on the movement.. this seller was not very responsive to my message, n I eventually cancelled the order.. then she told me shipped ..   \n",
       "79                                                                                                                                                                                                                                                                                                                                                                                                                                                      Not too bad. Pls make search easier as there are many products   \n",
       "112                                                                                                                                                                                                                                                                                                                                                                                                                                                                                                  Seamless ordering   \n",
       "113                                                                                                                                                                                                                                                                                                                                                                                Overall are good, but i cannot access the bank card and account, it keep showing errors, hope that customer service can take noted.   \n",
       "118                                                                                                                                                                                                                                                                                                                                                                                                                                                                                                     Will buy again   \n",
       "127                                                                                                                                                                                                                                                                                                                                                                                                                                                                                                               Okay   \n",
       "137                                                                                                                                                                                                                                                                                                                                                                                                                                       Trusty worthy and once item recevied then only payment is release to Seller.   \n",
       "190                                                                                                                                                                                                                                                                                                                                                                         So far its okay. A 4 rating is given because many times when i place order a refund is given as items are out of stock. It makes me wonder   \n",
       "205                                                                                                                                                                                                                                                                                                                                                                                                                                                                                 Useful for both buying and selling   \n",
       "224                                                                                                                                                                                                                                                                                                                                                                                                                                                                                       Got our product as we order.   \n",
       "228                                                                                                                                                                                                                                                                                                                                                                                                                                                                                 Good app.Can buy anything you want   \n",
       "229                                                                                                                                                                                                                                                                                                                                                                                              I can find anything on shoppe the fact that shoppe holds payment till item recieved makes it so much safer for users.   \n",
       "240                                                                                                                                                                                                                                                                                         Certain things are cheaper than LZ and Q, but there are also sellers selling faked products. Must read the reviews before making any purchase. Please report counterfeits to Shopee.sg as I believe they will take action.   \n",
       "260                                                         Some areas I wish can be done: 1. 1,000 Shopee Coins to be able to be used based per day basis instead of 24hr basis. Kind of silly to have to wait a full 24hrs in order to optimise the use of 1,000 shopee coins. 2. Wish all fake goods sellers (eg. Micro SD cards..) can be removed or blocked so as not to waste buyer's effort to purchase only to realise they are fakes. But overall, still pleased with the online shopping experience. Cheers.   \n",
       "281                                                                                                                                                                                                                                                                                                                                                                                                            software more lag after update.. watering game lag loading..even browsing the app also become lagging..   \n",
       "289                                                                                                                                                                                                                                                                                                                                                                                                                                                                                            Laggy during peak hours   \n",
       "303                                                                                                                                                                                                                                                                                                                                                                                                                              Many things to buy. Sometimes hang but no problem once i exit the app and enter again   \n",
       "308                                                                                                                                                                                                                                                                                                                                                                                                                                                                                       Well informed on the update.   \n",
       "337                                                                                                                                                                                                                                                                                                                                                      The app works quite smoothly and doesn't seem to be buggy at all. The only comment I have is the floating icons tend to get in the way and are hard to close.   \n",
       "340                                                                                                                                                                                                          Unable to create new account. Edit: It works now, but you guys need a more useful error message because apparently if the username can't be used it wont tell you that, instead the whole registration process fails when you try to submit. This makes it hard for us to determine which field is wrong.   \n",
       "379                                                                                                                                                                                                                                                                                                                                                                                                                                                                                                              Cool.   \n",
       "406                                                                                                                                                                                                                                                                                                                                                                                                                                                 The app is good but I does not let me use cash at least I think so   \n",
       "412                                                                                                                                                                                                                                                                                                                                                                                                   Some of seller , asking them to show or guide me their products but they don't answer my questions what l want .   \n",
       "432                                                                                                                                                                                                                                                                                                                                                                                                                                                                          The seller and buyer chat is very useful.   \n",
       "440                                                                                                                                                                                                                            Generally happy with the low price. However, for the cart items, once we reached the payment page, even we did not click process payment, we cannot go back to change the details, e.g. change of credit card. We have to re-order everything again! Pls consider to improve this area.   \n",
       "475                                                                                                                                                                                                                                                                                                                                                                                                                                              Its has what i have ordered and has it delivered right on the dot....   \n",
       "489                                                                                                                                                                                                                                                                                                                                               Currently better prices than Lazada. App however not v stable, and of course shopping cart hangs when vouchers are launched. Also, sale reminders don't work for me.   \n",
       "500                                                                                                                                                                                                                                                                                                                                                                                                                                      At times slow to wait for customer service to respond. Otherwise good for now   \n",
       "547                                                                                                                                                                                                                                                                                                                                                                                                                                                     I can get almost anything and everything right here at Shopee.   \n",
       "576                                                                                                                                                                                                                                                                                                                                                                                                                                                                                          2nd order for some items.   \n",
       "577                                                                                                                                                                                                                                       Good prices but some seller has been offline and super inresponsive. I suggest u remove them if they have been offline for over a month. I took the risk and ordered from one of them 2-3 weeks ago and still havent shipped and i do hope if i cancel i do get back my $200   \n",
       "597                                                                                                                                                                                                                                                                                                                                                                                                                                                                              Shoppee assist me on dispute oder. 👍👍   \n",
       "600                                                                                                                                                                                                                                                                                                               Other than not being able to receive a welcome gift because I made a purchase before redeeming (you should change the policy for how you determine your new customers), it is still good app to use.   \n",
       "602                                                                                                                                                                                                                                                                                                                                                                                                       I Like shopee but if need to pay I can't to pay because I don't have bank account, I'm just used SingtelDash   \n",
       "611                                                                                                                                                                                                                                                                                                                                                                                                             App shopping cart issue...saved item to cart but not able to edit or purchase item ..cant tick the box   \n",
       "656                                                                                                                                                                                                                                                                                                                                Useful app. However, the app ought to allow feedback against seller's who cancelled an transaction after close to a month wait. The rest are quite intuitive. Good job Shopee team!   \n",
       "717                                                                                                                                                                                                                                                                                                                                                                                                                                     Most of the app function. But need more security on bank card side. Maybe OTP.   \n",
       "721                                                                                                                                                                                    Like Shopee games collect coins to save costs for items purchase. But later found dishonest seller changed and increased the prices. Want me close order. Report to Shopee Support, no reply soon gave me anxieties for 1 week (From rating 5, rated to 4). Shopee service Auto Refund and Shopee coins, purchased the product.   \n",
       "753  1) I like shopee because I can use bank transfer to pay instead of using visa (unsafe). 2) I don't like about shopee, the apps took out too much ram space!! (Please look into it.) Other apps like AliExpress, eBay do not take up too much ram when I use. 3) Shopee seller are not good knowledge of their products & size. U are selling motorcycle parts without know the size or models. (U must improve & learn from AliExpress, they list out the models & size to avoid customer from buying the wrong 1   \n",
       "754                                                                                                                                                                                                                                                                                                                                                                                                                                                                 There are some seller that don't respond promptly.   \n",
       "770                                                                                                                                                                                                                                                                                               I like that the products sold here are way cheaper than some, but Shopee keeps on logging me out! I had difficulty logging into my account back & now I couldn't! I have another almost 15 items or so to receive!!!   \n",
       "771                                                                                                                                                                                                                                                                                                                                                      Helpful and prompt service till yesterday. I have written to you yesterday on an overdue delivery which I need urgently but no reply as of now unfortunately!   \n",
       "782                                                                                                                                                                                                                                                                                                                                                                                                                                                                                                          Fantastic   \n",
       "794                                                                                                                                                                                                                                                                                                                                                             The new update is bad. Everything has been zoomed in and doesn't fit my screen anymore. Plus there are alot less deals compared to their earlier days.   \n",
       "841                     ,i think it is better to inform a time slot when the delivery man is coming to deliver parcel to door stop and the timing of the delivery is not being mentioned .Besides this ,Shopee parcels dosent always come on time unlike Ezbuy .There is always issues with the parcels ,some parcels take over one month to come.In terms of shipping ,Ezbuy does it better. The parcel that took one month to come is ridiculous ,i always feel that buying on Shopee takes more risk than on Ezbuy.   \n",
       "850                                                                                                                                                                                                                                                                                                                                                                                                                                                                                               No shipping fee👍👍👍👍👍   \n",
       "858                                                                                                                                                                                                                                                                                                                                                                                                                                                          Locals item / merchandise needs to be grouped separately.   \n",
       "\n",
       "                                                                                                                                                                                                                                                                            content_stem  \\\n",
       "13                                                                                                             great great exposur choic consum need work develop experi still quit buggi load page page usual crash otherwis would gladli give star rate new work yeah use time root ya   \n",
       "20                                                                                                                           move sale eas transfer payment recent j sega kept promptli updat categori list team overdu improv incorrect send suggest reco instead wast time fro correct   \n",
       "32                                                                                                                                                                                                            bug certain page e g ad cart sometim make hang otherwis one best e shop sg   \n",
       "36                                                                                                                                                              easi use howev recent saw order ship check said ship howev updat movement respons messag n eventu cancel order told ship   \n",
       "79                                                                                                                                                                                                                                                    pl make search easier mani product   \n",
       "112                                                                                                                                                                                                                                                                       seamless order   \n",
       "113                                                                                                                                                                                             overal good cannot access bank card account keep show error hope custom servic take note   \n",
       "118                                                                                                                                                                                                                                                                                  buy   \n",
       "127                                                                                                                                                                                                                                                                                 okay   \n",
       "137                                                                                                                                                                                                                                                  trusti worthi recevi payment releas   \n",
       "190                                                                                                                                                                                                             far okay rate given mani time place order refund given stock make wonder   \n",
       "205                                                                                                                                                                                                                                                                         use buy sell   \n",
       "224                                                                                                                                                                                                                                                                    got product order   \n",
       "228                                                                                                                                                                                                                                                                  good buy anyth want   \n",
       "229                                                                                                                                                                                                            find anyth shopp fact shopp hold payment till reciev make much safer user   \n",
       "240                                                                                                                                                       certain thing cheaper lz q also sell fake product must read review make purchas pleas report counterfeit sg believ take action   \n",
       "260                                            area wish done coin abl use base per day basi instead hr basi kind silli wait full hr order optimis use coin wish fake good eg micro sd card remov block wast buyer effort purchas realis fake overal still pleas onlin shop experi cheer   \n",
       "281                                                                                                                                                                                                                      softwar lag updat water game lag load even brows also becom lag   \n",
       "289                                                                                                                                                                                                                                                                      laggi peak hour   \n",
       "303                                                                                                                                                                                                                                       mani thing buy sometim hang problem exit enter   \n",
       "308                                                                                                                                                                                                                                                                    well inform updat   \n",
       "337                                                                                                                                                                                                             work quit smoothli seem buggi comment float icon tend get way hard close   \n",
       "340                                                                                                              unabl creat new account edit work guy need use error messag appar usernam use wont tell instead whole registr process fail tri submit make hard us determin field wrong   \n",
       "379                                                                                                                                                                                                                                                                                 cool   \n",
       "406                                                                                                                                                                                                                                                        good let use cash least think   \n",
       "412                                                                                                                                                                                                                                         ask show guid product answer question l want   \n",
       "432                                                                                                                                                                                                                                                                       buyer chat use   \n",
       "440                                                                                                                 gener happi low price howev cart reach payment page even click process payment cannot go back chang detail e g chang credit card order everyth pl consid improv area   \n",
       "475                                                                                                                                                                                                                                                                order deliv right dot   \n",
       "489                                                                                                                                                                                  current better price lazada howev v stabl cours shop cart hang voucher launch also sale remind work   \n",
       "500                                                                                                                                                                                                                                   time slow wait custom servic respond otherwis good   \n",
       "547                                                                                                                                                                                                                                                       get almost anyth everyth right   \n",
       "576                                                                                                                                                                                                                                                                             nd order   \n",
       "577                                                                                                                                                   good price offlin super inrespons suggest u remov offlin month took risk order one week ago still havent ship hope cancel get back   \n",
       "597                                                                                                                                                                                                                                                                   assist disput oder   \n",
       "600                                                                                                                                                                                           abl receiv welcom gift made purchas redeem chang polici determin new custom still good use   \n",
       "602                                                                                                                                                                                                                                       like need pay pay bank account use singteldash   \n",
       "611                                                                                                                                                                                                                              shop cart issu save cart abl edit purchas cant tick box   \n",
       "656                                                                                                                                                                                       use howev ought allow feedback cancel transact close month wait rest quit intuit good job team   \n",
       "717                                                                                                                                                                                                                                          function need secur bank card side mayb otp   \n",
       "721                                                                                    like game collect coin save cost purchas later found dishonest chang increas price want close order report support repli soon gave anxieti week rate rate servic auto refund coin purchas product   \n",
       "753  like use bank transfer pay instead use visa unsaf like app took much ram space pleas look app like aliexpress ebay take much ram use good knowledg product size u sell motorcycl part without know size model u must improv learn aliexpress list model size avoid custom buy wrong   \n",
       "754                                                                                                                                                                                                                                                                     respond promptli   \n",
       "770                                                                                                                                                                                               like product sold way cheaper keep log difficulti log account back anoth almost receiv   \n",
       "771                                                                                                                                                                                       help prompt servic till yesterday written yesterday overdu deliveri need urgent repli unfortun   \n",
       "782                                                                                                                                                                                                                                                                              fantast   \n",
       "794                                                                                                                                                                                                       new updat everyth zoom fit screen anymor plu alot less deal compar earlier day   \n",
       "841   think better inform time slot deliveri man come deliv parcel door stop time deliveri mention besid parcel dosent alway come time unlik ezbuy alway issu parcel parcel take one month come term ship ezbuy better parcel took one month come ridicul alway feel buy take risk ezbuy   \n",
       "850                                                                                                                                                                                                                                                                             ship fee   \n",
       "858                                                                                                                                                                                                                                                    local merchandis need group separ   \n",
       "\n",
       "     score  target  pred  \n",
       "13       4       0     1  \n",
       "20       4       0     1  \n",
       "32       4       0     1  \n",
       "36       4       0     1  \n",
       "79       4       0     1  \n",
       "112      5       0     1  \n",
       "113      4       0     1  \n",
       "118      4       0     1  \n",
       "127      4       0     1  \n",
       "137      5       0     1  \n",
       "190      4       0     1  \n",
       "205      5       0     1  \n",
       "224      5       0     1  \n",
       "228      5       0     1  \n",
       "229      5       0     1  \n",
       "240      4       0     1  \n",
       "260      4       0     1  \n",
       "281      4       0     1  \n",
       "289      4       0     1  \n",
       "303      5       0     1  \n",
       "308      5       0     1  \n",
       "337      4       0     1  \n",
       "340      4       0     1  \n",
       "379      4       0     1  \n",
       "406      4       0     1  \n",
       "412      4       0     1  \n",
       "432      5       0     1  \n",
       "440      4       0     1  \n",
       "475      4       0     1  \n",
       "489      4       0     1  \n",
       "500      4       0     1  \n",
       "547      5       0     1  \n",
       "576      4       0     1  \n",
       "577      4       0     1  \n",
       "597      4       0     1  \n",
       "600      4       0     1  \n",
       "602      5       0     1  \n",
       "611      5       0     1  \n",
       "656      5       0     1  \n",
       "717      4       0     1  \n",
       "721      4       0     1  \n",
       "753      4       0     1  \n",
       "754      4       0     1  \n",
       "770      4       0     1  \n",
       "771      4       0     1  \n",
       "782      5       0     1  \n",
       "794      4       0     1  \n",
       "841      4       0     1  \n",
       "850      4       0     1  \n",
       "858      4       0     1  "
      ]
     },
     "execution_count": 67,
     "metadata": {},
     "output_type": "execute_result"
    }
   ],
   "source": [
    "# View the False Positives - Model incorrectly predicts these as negative sentiment when they are actually positive sentiment\n",
    "test[(test['target']==0) & (test['pred']==1)][['content','content_stem','score','target','pred']]"
   ]
  },
  {
   "cell_type": "code",
   "execution_count": 68,
   "metadata": {
    "scrolled": false
   },
   "outputs": [
    {
     "data": {
      "text/html": [
       "<div>\n",
       "<style scoped>\n",
       "    .dataframe tbody tr th:only-of-type {\n",
       "        vertical-align: middle;\n",
       "    }\n",
       "\n",
       "    .dataframe tbody tr th {\n",
       "        vertical-align: top;\n",
       "    }\n",
       "\n",
       "    .dataframe thead th {\n",
       "        text-align: right;\n",
       "    }\n",
       "</style>\n",
       "<table border=\"1\" class=\"dataframe\">\n",
       "  <thead>\n",
       "    <tr style=\"text-align: right;\">\n",
       "      <th></th>\n",
       "      <th>content</th>\n",
       "      <th>content_stem</th>\n",
       "      <th>score</th>\n",
       "      <th>target</th>\n",
       "      <th>pred</th>\n",
       "    </tr>\n",
       "  </thead>\n",
       "  <tbody>\n",
       "    <tr>\n",
       "      <th>0</th>\n",
       "      <td>Just ok</td>\n",
       "      <td>ok</td>\n",
       "      <td>3</td>\n",
       "      <td>1</td>\n",
       "      <td>0</td>\n",
       "    </tr>\n",
       "    <tr>\n",
       "      <th>10</th>\n",
       "      <td>Your shopee sg app is very bad. Worse than Lazada. Your category placing is also very bad. Not easy to scroll. What you advertised in the front scroll, is nowhere to find. Need to improve. I installed few times but very disappointed. Not friendly use at all.</td>\n",
       "      <td>sg wors lazada categori place also easi scroll advertis front scroll nowher find need improv instal time disappoint friendli use</td>\n",
       "      <td>1</td>\n",
       "      <td>1</td>\n",
       "      <td>0</td>\n",
       "    </tr>\n",
       "    <tr>\n",
       "      <th>46</th>\n",
       "      <td>Cos i've received some unnecessary users &amp; i believe these features are necessary esp for online shopping. Without these, it's a turn off</td>\n",
       "      <td>co receiv unnecessari user believ featur necessari esp onlin shop without turn</td>\n",
       "      <td>3</td>\n",
       "      <td>1</td>\n",
       "      <td>0</td>\n",
       "    </tr>\n",
       "    <tr>\n",
       "      <th>52</th>\n",
       "      <td>I enjoyed using the app. However, I was banned out of nowhere and they provided no reason for my ban. Hoping I could get my account back cus I made orders before the ban.</td>\n",
       "      <td>enjoy use howev ban nowher provid reason ban hope could get account back cu made order ban</td>\n",
       "      <td>1</td>\n",
       "      <td>1</td>\n",
       "      <td>0</td>\n",
       "    </tr>\n",
       "    <tr>\n",
       "      <th>85</th>\n",
       "      <td>Happy using it</td>\n",
       "      <td>happi use</td>\n",
       "      <td>3</td>\n",
       "      <td>1</td>\n",
       "      <td>0</td>\n",
       "    </tr>\n",
       "    <tr>\n",
       "      <th>155</th>\n",
       "      <td>I bought stuff in shopee then i Dont get my stuff....</td>\n",
       "      <td>bought stuff dont get stuff</td>\n",
       "      <td>1</td>\n",
       "      <td>1</td>\n",
       "      <td>0</td>\n",
       "    </tr>\n",
       "    <tr>\n",
       "      <th>173</th>\n",
       "      <td>In general items are slightly cheaper than other online shops. But its Customer service are not that responsive. Emailed twice but no response.</td>\n",
       "      <td>gener slightli cheaper onlin shop custom servic respons email twice respons</td>\n",
       "      <td>3</td>\n",
       "      <td>1</td>\n",
       "      <td>0</td>\n",
       "    </tr>\n",
       "    <tr>\n",
       "      <th>174</th>\n",
       "      <td>Great job</td>\n",
       "      <td>great job</td>\n",
       "      <td>3</td>\n",
       "      <td>1</td>\n",
       "      <td>0</td>\n",
       "    </tr>\n",
       "    <tr>\n",
       "      <th>176</th>\n",
       "      <td>Neat and user friendly interface. However, page keeps hanging after several scrolls.</td>\n",
       "      <td>neat user friendli interfac howev page keep hang sever scroll</td>\n",
       "      <td>3</td>\n",
       "      <td>1</td>\n",
       "      <td>0</td>\n",
       "    </tr>\n",
       "    <tr>\n",
       "      <th>202</th>\n",
       "      <td>Not a friendly platform for sellers. Uninstalling due to poor choices of category for sellers. TOTALLY Not recommended.</td>\n",
       "      <td>friendli platform uninstal due poor choic categori total recommend</td>\n",
       "      <td>1</td>\n",
       "      <td>1</td>\n",
       "      <td>0</td>\n",
       "    </tr>\n",
       "    <tr>\n",
       "      <th>220</th>\n",
       "      <td>I have a coupon but its only 7 dollars discount off the Nintendo Switch and \\nthe Nintendo Switch is super expensive</td>\n",
       "      <td>coupon dollar discount nintendo switch nintendo switch super expens</td>\n",
       "      <td>1</td>\n",
       "      <td>1</td>\n",
       "      <td>0</td>\n",
       "    </tr>\n",
       "    <tr>\n",
       "      <th>282</th>\n",
       "      <td>Dont buy any item through shopee delivery very bad response also very bad</td>\n",
       "      <td>dont buy deliveri respons also</td>\n",
       "      <td>1</td>\n",
       "      <td>1</td>\n",
       "      <td>0</td>\n",
       "    </tr>\n",
       "    <tr>\n",
       "      <th>305</th>\n",
       "      <td>Enjoy shopping here. Free shipping is one factor I shop here.</td>\n",
       "      <td>enjoy shop free ship one factor shop</td>\n",
       "      <td>3</td>\n",
       "      <td>1</td>\n",
       "      <td>0</td>\n",
       "    </tr>\n",
       "    <tr>\n",
       "      <th>321</th>\n",
       "      <td>Good app with reasonable price</td>\n",
       "      <td>good reason price</td>\n",
       "      <td>3</td>\n",
       "      <td>1</td>\n",
       "      <td>0</td>\n",
       "    </tr>\n",
       "    <tr>\n",
       "      <th>330</th>\n",
       "      <td>Not user friendly can't find the product I want.</td>\n",
       "      <td>user friendli find product want</td>\n",
       "      <td>1</td>\n",
       "      <td>1</td>\n",
       "      <td>0</td>\n",
       "    </tr>\n",
       "    <tr>\n",
       "      <th>343</th>\n",
       "      <td>Good</td>\n",
       "      <td>good</td>\n",
       "      <td>3</td>\n",
       "      <td>1</td>\n",
       "      <td>0</td>\n",
       "    </tr>\n",
       "    <tr>\n",
       "      <th>354</th>\n",
       "      <td>So far ok</td>\n",
       "      <td>far ok</td>\n",
       "      <td>3</td>\n",
       "      <td>1</td>\n",
       "      <td>0</td>\n",
       "    </tr>\n",
       "    <tr>\n",
       "      <th>361</th>\n",
       "      <td>Not easy to use</td>\n",
       "      <td>easi use</td>\n",
       "      <td>1</td>\n",
       "      <td>1</td>\n",
       "      <td>0</td>\n",
       "    </tr>\n",
       "    <tr>\n",
       "      <th>362</th>\n",
       "      <td>Good platform for products and purchases but the app lags and hangs very often. Hopefully the app can be more stable so that consumers can have a better experience shopping. Thank you. Edit: Hi, these 2 days, the app hangs badly, making hard for any purchases or browsing to take place. Kindly assist to look into the issue. Thank u</td>\n",
       "      <td>good platform product purchas lag hang often hope stabl consum better experi shop thank edit hi day hang badli make hard purchas brows take place kindli assist look issu thank u</td>\n",
       "      <td>3</td>\n",
       "      <td>1</td>\n",
       "      <td>0</td>\n",
       "    </tr>\n",
       "    <tr>\n",
       "      <th>376</th>\n",
       "      <td>Sorry I have not use it</td>\n",
       "      <td>sorri use</td>\n",
       "      <td>1</td>\n",
       "      <td>1</td>\n",
       "      <td>0</td>\n",
       "    </tr>\n",
       "    <tr>\n",
       "      <th>389</th>\n",
       "      <td>1. it has become laggy. 2. they should screen their sellers to protect buyers. Some buyers are real scammers. 3. this app is still more user friendly than q10 and ezbuy 4. should give better vouchers q10 has better vouchers. 5. the coins are very little compared to q10. 6. some times it is difficult to find a product as they do not have picture recognition 7. the pricing of goods from the same sellers on q10 are more expensive in shopee 8. flash sale needs improvement</td>\n",
       "      <td>becom laggi screen protect buyer buyer real scammer still user friendli q ezbuy give better voucher q better voucher coin littl compar q time difficult find product pictur recognit price good q expens flash sale need improv</td>\n",
       "      <td>3</td>\n",
       "      <td>1</td>\n",
       "      <td>0</td>\n",
       "    </tr>\n",
       "    <tr>\n",
       "      <th>395</th>\n",
       "      <td>After my last feedback, Shopee responded fast and I did see improvements in the cashback portion. For online chat agents, it will be great if they are more well equipped with basic platform knowledge to reply customers.</td>\n",
       "      <td>last feedback respond fast see improv cashback portion onlin chat agent great well equip basic platform knowledg repli custom</td>\n",
       "      <td>3</td>\n",
       "      <td>1</td>\n",
       "      <td>0</td>\n",
       "    </tr>\n",
       "    <tr>\n",
       "      <th>407</th>\n",
       "      <td>Delivery status can be better.... Delivery status lack of more information abt delivery...</td>\n",
       "      <td>deliveri statu better deliveri statu lack inform abt deliveri</td>\n",
       "      <td>3</td>\n",
       "      <td>1</td>\n",
       "      <td>0</td>\n",
       "    </tr>\n",
       "    <tr>\n",
       "      <th>413</th>\n",
       "      <td>Easy shopping!!!! Nice experience.</td>\n",
       "      <td>easi shop nice experi</td>\n",
       "      <td>3</td>\n",
       "      <td>1</td>\n",
       "      <td>0</td>\n",
       "    </tr>\n",
       "    <tr>\n",
       "      <th>445</th>\n",
       "      <td>Full of fake product and lie about delivery</td>\n",
       "      <td>full fake product lie deliveri</td>\n",
       "      <td>1</td>\n",
       "      <td>1</td>\n",
       "      <td>0</td>\n",
       "    </tr>\n",
       "    <tr>\n",
       "      <th>461</th>\n",
       "      <td>All seller are not responsive</td>\n",
       "      <td>respons</td>\n",
       "      <td>1</td>\n",
       "      <td>1</td>\n",
       "      <td>0</td>\n",
       "    </tr>\n",
       "    <tr>\n",
       "      <th>462</th>\n",
       "      <td>Not good</td>\n",
       "      <td>good</td>\n",
       "      <td>1</td>\n",
       "      <td>1</td>\n",
       "      <td>0</td>\n",
       "    </tr>\n",
       "    <tr>\n",
       "      <th>485</th>\n",
       "      <td>No good apps</td>\n",
       "      <td>good app</td>\n",
       "      <td>1</td>\n",
       "      <td>1</td>\n",
       "      <td>0</td>\n",
       "    </tr>\n",
       "    <tr>\n",
       "      <th>494</th>\n",
       "      <td>From my experience, i strongly don't encourage anyone to use</td>\n",
       "      <td>experi strongli encourag anyon use</td>\n",
       "      <td>1</td>\n",
       "      <td>1</td>\n",
       "      <td>0</td>\n",
       "    </tr>\n",
       "    <tr>\n",
       "      <th>502</th>\n",
       "      <td>Price is good, but not everything can be find in there.</td>\n",
       "      <td>price good everyth find</td>\n",
       "      <td>3</td>\n",
       "      <td>1</td>\n",
       "      <td>0</td>\n",
       "    </tr>\n",
       "    <tr>\n",
       "      <th>512</th>\n",
       "      <td>Nowadays deliveries are super slow</td>\n",
       "      <td>nowaday deliveri super slow</td>\n",
       "      <td>1</td>\n",
       "      <td>1</td>\n",
       "      <td>0</td>\n",
       "    </tr>\n",
       "    <tr>\n",
       "      <th>538</th>\n",
       "      <td>there were many glitches in app, such as likes disappearing, items frequently being deleted. Most things I ordered also were spoilt or wrong item delivered (brooch). Some things were also cancelled by shopee, overall terrible user experience from the start, just stick with lazada though prices may be a bit higher.</td>\n",
       "      <td>mani glitch like disappear frequent delet thing order also spoilt wrong deliv brooch thing also cancel overal terribl user experi start stick lazada though price may bit higher</td>\n",
       "      <td>1</td>\n",
       "      <td>1</td>\n",
       "      <td>0</td>\n",
       "    </tr>\n",
       "    <tr>\n",
       "      <th>541</th>\n",
       "      <td>Still a lot can be improved... Interface is great but theres a clutter to it... Like the concept where you can see shipments... Overall better than Carousell but Carousell interface is a bit more fluid and simple whereas Shopee is a bit more detailed and filled with more features... One thing thats bugging me is the typing experience... When I type, I just dont see my text and only see the keyboard... This is hard as I type very fast and frequently make mistakes in typing... Pls fix this... Otherwise, a gre</td>\n",
       "      <td>still lot improv interfac great there clutter like concept see shipment overal better carousel carousel interfac bit fluid simpl wherea bit detail fill featur one thing that bug type experi type dont see text see keyboard hard type fast frequent make mistak type pl fix otherwis gre</td>\n",
       "      <td>3</td>\n",
       "      <td>1</td>\n",
       "      <td>0</td>\n",
       "    </tr>\n",
       "    <tr>\n",
       "      <th>619</th>\n",
       "      <td>Would be better if Shoppee offers Paypal paymet like Qoo10.sg for buyer protection</td>\n",
       "      <td>would better offer paypal paymet like qoo sg buyer protect</td>\n",
       "      <td>3</td>\n",
       "      <td>1</td>\n",
       "      <td>0</td>\n",
       "    </tr>\n",
       "    <tr>\n",
       "      <th>627</th>\n",
       "      <td>Excellent. No problems encountered on all my purchases so far. Edited. But if u are unlucky enough to get ur purchases delivered by WMG, be prepared to cry till no more tears.</td>\n",
       "      <td>excel problem encount purchas far edit u unlucki enough get ur purchas deliv wmg prepar cri till tear</td>\n",
       "      <td>3</td>\n",
       "      <td>1</td>\n",
       "      <td>0</td>\n",
       "    </tr>\n",
       "    <tr>\n",
       "      <th>636</th>\n",
       "      <td>Good</td>\n",
       "      <td>good</td>\n",
       "      <td>3</td>\n",
       "      <td>1</td>\n",
       "      <td>0</td>\n",
       "    </tr>\n",
       "    <tr>\n",
       "      <th>642</th>\n",
       "      <td>Great App</td>\n",
       "      <td>great</td>\n",
       "      <td>3</td>\n",
       "      <td>1</td>\n",
       "      <td>0</td>\n",
       "    </tr>\n",
       "    <tr>\n",
       "      <th>646</th>\n",
       "      <td>Doesnt have much category and showcases some items seller are selling. Doesn't really found what i want inside. I thought that this app eould be better than carosell, but when i use this app it cant satisfy me...</td>\n",
       "      <td>doesnt much categori showcas sell realli found want insid thought eould better carosel use cant satisfi</td>\n",
       "      <td>3</td>\n",
       "      <td>1</td>\n",
       "      <td>0</td>\n",
       "    </tr>\n",
       "    <tr>\n",
       "      <th>661</th>\n",
       "      <td>very bad this online service 2 month over ready still can not get my order. this is cheated online service</td>\n",
       "      <td>onlin servic month readi still get order cheat onlin servic</td>\n",
       "      <td>1</td>\n",
       "      <td>1</td>\n",
       "      <td>0</td>\n",
       "    </tr>\n",
       "    <tr>\n",
       "      <th>688</th>\n",
       "      <td>Worst app ever. So troublesome and nto user friendly for the purchasing processes. Deleted. Thanks.</td>\n",
       "      <td>worst ever troublesom nto user friendli purchas process delet thank</td>\n",
       "      <td>1</td>\n",
       "      <td>1</td>\n",
       "      <td>0</td>\n",
       "    </tr>\n",
       "    <tr>\n",
       "      <th>722</th>\n",
       "      <td>Recently app has been glitching especially the games portion. App becomes non- responsive once you click on a product or game and takes around 1 min to become responsive again..</td>\n",
       "      <td>recent glitch especi game portion becom non respons click product game take around min becom respons</td>\n",
       "      <td>2</td>\n",
       "      <td>1</td>\n",
       "      <td>0</td>\n",
       "    </tr>\n",
       "    <tr>\n",
       "      <th>751</th>\n",
       "      <td>the image of the product seem to unavailable</td>\n",
       "      <td>imag product seem unavail</td>\n",
       "      <td>3</td>\n",
       "      <td>1</td>\n",
       "      <td>0</td>\n",
       "    </tr>\n",
       "    <tr>\n",
       "      <th>768</th>\n",
       "      <td>Not user friendly. The desktop version has full details of my purchase. But on mobile , only parcial purchase details are available.</td>\n",
       "      <td>user friendli desktop version full detail purchas mobil parcial purchas detail avail</td>\n",
       "      <td>2</td>\n",
       "      <td>1</td>\n",
       "      <td>0</td>\n",
       "    </tr>\n",
       "    <tr>\n",
       "      <th>817</th>\n",
       "      <td>Like to shop here. The only drawback is that the apk is a bit slow to react.</td>\n",
       "      <td>like shop drawback apk bit slow react</td>\n",
       "      <td>3</td>\n",
       "      <td>1</td>\n",
       "      <td>0</td>\n",
       "    </tr>\n",
       "  </tbody>\n",
       "</table>\n",
       "</div>"
      ],
      "text/plain": [
       "                                                                                                                                                                                                                                                                                                                                                                                                                                                                                                                              content  \\\n",
       "0                                                                                                                                                                                                                                                                                                                                                                                                                                                                                                                             Just ok   \n",
       "10                                                                                                                                                                                                                                                                 Your shopee sg app is very bad. Worse than Lazada. Your category placing is also very bad. Not easy to scroll. What you advertised in the front scroll, is nowhere to find. Need to improve. I installed few times but very disappointed. Not friendly use at all.   \n",
       "46                                                                                                                                                                                                                                                                                                                                                                                          Cos i've received some unnecessary users & i believe these features are necessary esp for online shopping. Without these, it's a turn off   \n",
       "52                                                                                                                                                                                                                                                                                                                                                         I enjoyed using the app. However, I was banned out of nowhere and they provided no reason for my ban. Hoping I could get my account back cus I made orders before the ban.   \n",
       "85                                                                                                                                                                                                                                                                                                                                                                                                                                                                                                                     Happy using it   \n",
       "155                                                                                                                                                                                                                                                                                                                                                                                                                                                                             I bought stuff in shopee then i Dont get my stuff....   \n",
       "173                                                                                                                                                                                                                                                                                                                                                                                   In general items are slightly cheaper than other online shops. But its Customer service are not that responsive. Emailed twice but no response.   \n",
       "174                                                                                                                                                                                                                                                                                                                                                                                                                                                                                                                         Great job   \n",
       "176                                                                                                                                                                                                                                                                                                                                                                                                                                              Neat and user friendly interface. However, page keeps hanging after several scrolls.   \n",
       "202                                                                                                                                                                                                                                                                                                                                                                                                           Not a friendly platform for sellers. Uninstalling due to poor choices of category for sellers. TOTALLY Not recommended.   \n",
       "220                                                                                                                                                                                                                                                                                                                                                                                                              I have a coupon but its only 7 dollars discount off the Nintendo Switch and \\nthe Nintendo Switch is super expensive   \n",
       "282                                                                                                                                                                                                                                                                                                                                                                                                                                                         Dont buy any item through shopee delivery very bad response also very bad   \n",
       "305                                                                                                                                                                                                                                                                                                                                                                                                                                                                     Enjoy shopping here. Free shipping is one factor I shop here.   \n",
       "321                                                                                                                                                                                                                                                                                                                                                                                                                                                                                                    Good app with reasonable price   \n",
       "330                                                                                                                                                                                                                                                                                                                                                                                                                                                                                  Not user friendly can't find the product I want.   \n",
       "343                                                                                                                                                                                                                                                                                                                                                                                                                                                                                                                              Good   \n",
       "354                                                                                                                                                                                                                                                                                                                                                                                                                                                                                                                         So far ok   \n",
       "361                                                                                                                                                                                                                                                                                                                                                                                                                                                                                                                   Not easy to use   \n",
       "362                                                                                                                                                                                      Good platform for products and purchases but the app lags and hangs very often. Hopefully the app can be more stable so that consumers can have a better experience shopping. Thank you. Edit: Hi, these 2 days, the app hangs badly, making hard for any purchases or browsing to take place. Kindly assist to look into the issue. Thank u   \n",
       "376                                                                                                                                                                                                                                                                                                                                                                                                                                                                                                           Sorry I have not use it   \n",
       "389                                          1. it has become laggy. 2. they should screen their sellers to protect buyers. Some buyers are real scammers. 3. this app is still more user friendly than q10 and ezbuy 4. should give better vouchers q10 has better vouchers. 5. the coins are very little compared to q10. 6. some times it is difficult to find a product as they do not have picture recognition 7. the pricing of goods from the same sellers on q10 are more expensive in shopee 8. flash sale needs improvement   \n",
       "395                                                                                                                                                                                                                                                                                                       After my last feedback, Shopee responded fast and I did see improvements in the cashback portion. For online chat agents, it will be great if they are more well equipped with basic platform knowledge to reply customers.   \n",
       "407                                                                                                                                                                                                                                                                                                                                                                                                                                        Delivery status can be better.... Delivery status lack of more information abt delivery...   \n",
       "413                                                                                                                                                                                                                                                                                                                                                                                                                                                                                                Easy shopping!!!! Nice experience.   \n",
       "445                                                                                                                                                                                                                                                                                                                                                                                                                                                                                       Full of fake product and lie about delivery   \n",
       "461                                                                                                                                                                                                                                                                                                                                                                                                                                                                                                     All seller are not responsive   \n",
       "462                                                                                                                                                                                                                                                                                                                                                                                                                                                                                                                          Not good   \n",
       "485                                                                                                                                                                                                                                                                                                                                                                                                                                                                                                                      No good apps   \n",
       "494                                                                                                                                                                                                                                                                                                                                                                                                                                                                      From my experience, i strongly don't encourage anyone to use   \n",
       "502                                                                                                                                                                                                                                                                                                                                                                                                                                                                           Price is good, but not everything can be find in there.   \n",
       "512                                                                                                                                                                                                                                                                                                                                                                                                                                                                                                Nowadays deliveries are super slow   \n",
       "538                                                                                                                                                                                                       there were many glitches in app, such as likes disappearing, items frequently being deleted. Most things I ordered also were spoilt or wrong item delivered (brooch). Some things were also cancelled by shopee, overall terrible user experience from the start, just stick with lazada though prices may be a bit higher.   \n",
       "541  Still a lot can be improved... Interface is great but theres a clutter to it... Like the concept where you can see shipments... Overall better than Carousell but Carousell interface is a bit more fluid and simple whereas Shopee is a bit more detailed and filled with more features... One thing thats bugging me is the typing experience... When I type, I just dont see my text and only see the keyboard... This is hard as I type very fast and frequently make mistakes in typing... Pls fix this... Otherwise, a gre   \n",
       "619                                                                                                                                                                                                                                                                                                                                                                                                                                                Would be better if Shoppee offers Paypal paymet like Qoo10.sg for buyer protection   \n",
       "627                                                                                                                                                                                                                                                                                                                                                   Excellent. No problems encountered on all my purchases so far. Edited. But if u are unlucky enough to get ur purchases delivered by WMG, be prepared to cry till no more tears.   \n",
       "636                                                                                                                                                                                                                                                                                                                                                                                                                                                                                                                              Good   \n",
       "642                                                                                                                                                                                                                                                                                                                                                                                                                                                                                                                         Great App   \n",
       "646                                                                                                                                                                                                                                                                                                              Doesnt have much category and showcases some items seller are selling. Doesn't really found what i want inside. I thought that this app eould be better than carosell, but when i use this app it cant satisfy me...   \n",
       "661                                                                                                                                                                                                                                                                                                                                                                                                                        very bad this online service 2 month over ready still can not get my order. this is cheated online service   \n",
       "688                                                                                                                                                                                                                                                                                                                                                                                                                               Worst app ever. So troublesome and nto user friendly for the purchasing processes. Deleted. Thanks.   \n",
       "722                                                                                                                                                                                                                                                                                                                                                 Recently app has been glitching especially the games portion. App becomes non- responsive once you click on a product or game and takes around 1 min to become responsive again..   \n",
       "751                                                                                                                                                                                                                                                                                                                                                                                                                                                                                      the image of the product seem to unavailable   \n",
       "768                                                                                                                                                                                                                                                                                                                                                                                              Not user friendly. The desktop version has full details of my purchase. But on mobile , only parcial purchase details are available.   \n",
       "817                                                                                                                                                                                                                                                                                                                                                                                                                                                      Like to shop here. The only drawback is that the apk is a bit slow to react.   \n",
       "\n",
       "                                                                                                                                                                                                                                                                                   content_stem  \\\n",
       "0                                                                                                                                                                                                                                                                                            ok   \n",
       "10                                                                                                                                                             sg wors lazada categori place also easi scroll advertis front scroll nowher find need improv instal time disappoint friendli use   \n",
       "46                                                                                                                                                                                                               co receiv unnecessari user believ featur necessari esp onlin shop without turn   \n",
       "52                                                                                                                                                                                                   enjoy use howev ban nowher provid reason ban hope could get account back cu made order ban   \n",
       "85                                                                                                                                                                                                                                                                                    happi use   \n",
       "155                                                                                                                                                                                                                                                                 bought stuff dont get stuff   \n",
       "173                                                                                                                                                                                                                 gener slightli cheaper onlin shop custom servic respons email twice respons   \n",
       "174                                                                                                                                                                                                                                                                                   great job   \n",
       "176                                                                                                                                                                                                                               neat user friendli interfac howev page keep hang sever scroll   \n",
       "202                                                                                                                                                                                                                          friendli platform uninstal due poor choic categori total recommend   \n",
       "220                                                                                                                                                                                                                         coupon dollar discount nintendo switch nintendo switch super expens   \n",
       "282                                                                                                                                                                                                                                                              dont buy deliveri respons also   \n",
       "305                                                                                                                                                                                                                                                        enjoy shop free ship one factor shop   \n",
       "321                                                                                                                                                                                                                                                                           good reason price   \n",
       "330                                                                                                                                                                                                                                                             user friendli find product want   \n",
       "343                                                                                                                                                                                                                                                                                        good   \n",
       "354                                                                                                                                                                                                                                                                                      far ok   \n",
       "361                                                                                                                                                                                                                                                                                    easi use   \n",
       "362                                                                                                           good platform product purchas lag hang often hope stabl consum better experi shop thank edit hi day hang badli make hard purchas brows take place kindli assist look issu thank u   \n",
       "376                                                                                                                                                                                                                                                                                   sorri use   \n",
       "389                                                             becom laggi screen protect buyer buyer real scammer still user friendli q ezbuy give better voucher q better voucher coin littl compar q time difficult find product pictur recognit price good q expens flash sale need improv   \n",
       "395                                                                                                                                                               last feedback respond fast see improv cashback portion onlin chat agent great well equip basic platform knowledg repli custom   \n",
       "407                                                                                                                                                                                                                               deliveri statu better deliveri statu lack inform abt deliveri   \n",
       "413                                                                                                                                                                                                                                                                       easi shop nice experi   \n",
       "445                                                                                                                                                                                                                                                              full fake product lie deliveri   \n",
       "461                                                                                                                                                                                                                                                                                     respons   \n",
       "462                                                                                                                                                                                                                                                                                        good   \n",
       "485                                                                                                                                                                                                                                                                                    good app   \n",
       "494                                                                                                                                                                                                                                                          experi strongli encourag anyon use   \n",
       "502                                                                                                                                                                                                                                                                     price good everyth find   \n",
       "512                                                                                                                                                                                                                                                                 nowaday deliveri super slow   \n",
       "538                                                                                                            mani glitch like disappear frequent delet thing order also spoilt wrong deliv brooch thing also cancel overal terribl user experi start stick lazada though price may bit higher   \n",
       "541  still lot improv interfac great there clutter like concept see shipment overal better carousel carousel interfac bit fluid simpl wherea bit detail fill featur one thing that bug type experi type dont see text see keyboard hard type fast frequent make mistak type pl fix otherwis gre   \n",
       "619                                                                                                                                                                                                                                  would better offer paypal paymet like qoo sg buyer protect   \n",
       "627                                                                                                                                                                                       excel problem encount purchas far edit u unlucki enough get ur purchas deliv wmg prepar cri till tear   \n",
       "636                                                                                                                                                                                                                                                                                        good   \n",
       "642                                                                                                                                                                                                                                                                                       great   \n",
       "646                                                                                                                                                                                     doesnt much categori showcas sell realli found want insid thought eould better carosel use cant satisfi   \n",
       "661                                                                                                                                                                                                                                 onlin servic month readi still get order cheat onlin servic   \n",
       "688                                                                                                                                                                                                                         worst ever troublesom nto user friendli purchas process delet thank   \n",
       "722                                                                                                                                                                                        recent glitch especi game portion becom non respons click product game take around min becom respons   \n",
       "751                                                                                                                                                                                                                                                                   imag product seem unavail   \n",
       "768                                                                                                                                                                                                        user friendli desktop version full detail purchas mobil parcial purchas detail avail   \n",
       "817                                                                                                                                                                                                                                                       like shop drawback apk bit slow react   \n",
       "\n",
       "     score  target  pred  \n",
       "0        3       1     0  \n",
       "10       1       1     0  \n",
       "46       3       1     0  \n",
       "52       1       1     0  \n",
       "85       3       1     0  \n",
       "155      1       1     0  \n",
       "173      3       1     0  \n",
       "174      3       1     0  \n",
       "176      3       1     0  \n",
       "202      1       1     0  \n",
       "220      1       1     0  \n",
       "282      1       1     0  \n",
       "305      3       1     0  \n",
       "321      3       1     0  \n",
       "330      1       1     0  \n",
       "343      3       1     0  \n",
       "354      3       1     0  \n",
       "361      1       1     0  \n",
       "362      3       1     0  \n",
       "376      1       1     0  \n",
       "389      3       1     0  \n",
       "395      3       1     0  \n",
       "407      3       1     0  \n",
       "413      3       1     0  \n",
       "445      1       1     0  \n",
       "461      1       1     0  \n",
       "462      1       1     0  \n",
       "485      1       1     0  \n",
       "494      1       1     0  \n",
       "502      3       1     0  \n",
       "512      1       1     0  \n",
       "538      1       1     0  \n",
       "541      3       1     0  \n",
       "619      3       1     0  \n",
       "627      3       1     0  \n",
       "636      3       1     0  \n",
       "642      3       1     0  \n",
       "646      3       1     0  \n",
       "661      1       1     0  \n",
       "688      1       1     0  \n",
       "722      2       1     0  \n",
       "751      3       1     0  \n",
       "768      2       1     0  \n",
       "817      3       1     0  "
      ]
     },
     "execution_count": 68,
     "metadata": {},
     "output_type": "execute_result"
    }
   ],
   "source": [
    "# View the False Negatives - Model incorrectly predicts these as positive sentiment when they are actually negative sentiment\n",
    "test[(test['target']==1) & (test['pred']==0)][['content','content_stem','score','target','pred']]"
   ]
  },
  {
   "cell_type": "code",
   "execution_count": 69,
   "metadata": {},
   "outputs": [
    {
     "data": {
      "image/png": "[encoded data removed]",
      "text/plain": [
       "<Figure size 720x576 with 1 Axes>"
      ]
     },
     "metadata": {
      "needs_background": "light"
     },
     "output_type": "display_data"
    }
   ],
   "source": [
    "# Top words seen in False Positives - Model incorrectly predicts these as negative sentiment when they are actually positive sentiment\n",
    "barplot_tvec(df=test,\n",
    "             pred=1, \n",
    "             title=\"Top 10 Words in False Positives \\n (Model predicts negative sentiment when it is actually positive sentiment)\", \n",
    "             color='#CB4335')"
   ]
  },
  {
   "cell_type": "code",
   "execution_count": 70,
   "metadata": {},
   "outputs": [
    {
     "data": {
      "image/png": "[encoded data removed]",
      "text/plain": [
       "<Figure size 720x576 with 1 Axes>"
      ]
     },
     "metadata": {
      "needs_background": "light"
     },
     "output_type": "display_data"
    }
   ],
   "source": [
    "# Top words seen in False Negatives - Model incorrectly predicts these as postive sentiment when they are actually negative sentiment\n",
    "barplot_tvec(df=test,\n",
    "             pred=0, \n",
    "             title=\"Top 10 Words in False Negatives \\n (Model predicts positive sentiment when it is actually negative sentiment)\", \n",
    "             color='#CB4335')"
   ]
  },
  {
   "cell_type": "code",
   "execution_count": 71,
   "metadata": {},
   "outputs": [],
   "source": [
    "# False Negatives\n",
    "fn = test[(test['correctly_classified']==0) & (test['pred']==0)][['content','content_stem','score']]"
   ]
  },
  {
   "cell_type": "code",
   "execution_count": 72,
   "metadata": {},
   "outputs": [],
   "source": [
    "# Count the number of times the word 'good' appears in the review\n",
    "fn['count_good'] = fn['content_stem'].str.count('good')"
   ]
  },
  {
   "cell_type": "code",
   "execution_count": 73,
   "metadata": {},
   "outputs": [
    {
     "data": {
      "image/png": "[encoded data removed]",
      "text/plain": [
       "<Figure size 576x360 with 1 Axes>"
      ]
     },
     "metadata": {
      "needs_background": "light"
     },
     "output_type": "display_data"
    }
   ],
   "source": [
    "plt.figure(figsize=(8,5))\n",
    "\n",
    "# Group False Negative reviews by their ratings and sum up the no. of times the word 'good' was seen\n",
    "fn.groupby('score')['count_good'].sum().plot(kind='bar', color='#CB4335')\n",
    "\n",
    "plt.title(\"No. of times the word 'good' appeared in False Negative reviews \\n By rating score\", size=14, weight='bold')\n",
    "plt.ylabel(\"Count\", size=12)\n",
    "plt.yticks(size=12)\n",
    "plt.xlabel(\"Rating score\", size=12)\n",
    "plt.xticks(size=12, rotation=0);"
   ]
  },
  {
   "cell_type": "code",
   "execution_count": 74,
   "metadata": {},
   "outputs": [
    {
     "data": {
      "text/html": [
       "<div>\n",
       "<style scoped>\n",
       "    .dataframe tbody tr th:only-of-type {\n",
       "        vertical-align: middle;\n",
       "    }\n",
       "\n",
       "    .dataframe tbody tr th {\n",
       "        vertical-align: top;\n",
       "    }\n",
       "\n",
       "    .dataframe thead th {\n",
       "        text-align: right;\n",
       "    }\n",
       "</style>\n",
       "<table border=\"1\" class=\"dataframe\">\n",
       "  <thead>\n",
       "    <tr style=\"text-align: right;\">\n",
       "      <th></th>\n",
       "      <th>content</th>\n",
       "      <th>content_stem</th>\n",
       "      <th>score</th>\n",
       "    </tr>\n",
       "  </thead>\n",
       "  <tbody>\n",
       "    <tr>\n",
       "      <th>462</th>\n",
       "      <td>Not good</td>\n",
       "      <td>good</td>\n",
       "      <td>1</td>\n",
       "    </tr>\n",
       "    <tr>\n",
       "      <th>485</th>\n",
       "      <td>No good apps</td>\n",
       "      <td>good app</td>\n",
       "      <td>1</td>\n",
       "    </tr>\n",
       "    <tr>\n",
       "      <th>321</th>\n",
       "      <td>Good app with reasonable price</td>\n",
       "      <td>good reason price</td>\n",
       "      <td>3</td>\n",
       "    </tr>\n",
       "    <tr>\n",
       "      <th>343</th>\n",
       "      <td>Good</td>\n",
       "      <td>good</td>\n",
       "      <td>3</td>\n",
       "    </tr>\n",
       "    <tr>\n",
       "      <th>362</th>\n",
       "      <td>Good platform for products and purchases but the app lags and hangs very often. Hopefully the app can be more stable so that consumers can have a better experience shopping. Thank you. Edit: Hi, these 2 days, the app hangs badly, making hard for any purchases or browsing to take place. Kindly assist to look into the issue. Thank u</td>\n",
       "      <td>good platform product purchas lag hang often hope stabl consum better experi shop thank edit hi day hang badli make hard purchas brows take place kindli assist look issu thank u</td>\n",
       "      <td>3</td>\n",
       "    </tr>\n",
       "    <tr>\n",
       "      <th>389</th>\n",
       "      <td>1. it has become laggy. 2. they should screen their sellers to protect buyers. Some buyers are real scammers. 3. this app is still more user friendly than q10 and ezbuy 4. should give better vouchers q10 has better vouchers. 5. the coins are very little compared to q10. 6. some times it is difficult to find a product as they do not have picture recognition 7. the pricing of goods from the same sellers on q10 are more expensive in shopee 8. flash sale needs improvement</td>\n",
       "      <td>becom laggi screen protect buyer buyer real scammer still user friendli q ezbuy give better voucher q better voucher coin littl compar q time difficult find product pictur recognit price good q expens flash sale need improv</td>\n",
       "      <td>3</td>\n",
       "    </tr>\n",
       "    <tr>\n",
       "      <th>502</th>\n",
       "      <td>Price is good, but not everything can be find in there.</td>\n",
       "      <td>price good everyth find</td>\n",
       "      <td>3</td>\n",
       "    </tr>\n",
       "    <tr>\n",
       "      <th>636</th>\n",
       "      <td>Good</td>\n",
       "      <td>good</td>\n",
       "      <td>3</td>\n",
       "    </tr>\n",
       "  </tbody>\n",
       "</table>\n",
       "</div>"
      ],
      "text/plain": [
       "                                                                                                                                                                                                                                                                                                                                                                                                                                                                                      content  \\\n",
       "462                                                                                                                                                                                                                                                                                                                                                                                                                                                                                  Not good   \n",
       "485                                                                                                                                                                                                                                                                                                                                                                                                                                                                              No good apps   \n",
       "321                                                                                                                                                                                                                                                                                                                                                                                                                                                            Good app with reasonable price   \n",
       "343                                                                                                                                                                                                                                                                                                                                                                                                                                                                                      Good   \n",
       "362                                                                                                                                              Good platform for products and purchases but the app lags and hangs very often. Hopefully the app can be more stable so that consumers can have a better experience shopping. Thank you. Edit: Hi, these 2 days, the app hangs badly, making hard for any purchases or browsing to take place. Kindly assist to look into the issue. Thank u   \n",
       "389  1. it has become laggy. 2. they should screen their sellers to protect buyers. Some buyers are real scammers. 3. this app is still more user friendly than q10 and ezbuy 4. should give better vouchers q10 has better vouchers. 5. the coins are very little compared to q10. 6. some times it is difficult to find a product as they do not have picture recognition 7. the pricing of goods from the same sellers on q10 are more expensive in shopee 8. flash sale needs improvement   \n",
       "502                                                                                                                                                                                                                                                                                                                                                                                                                                   Price is good, but not everything can be find in there.   \n",
       "636                                                                                                                                                                                                                                                                                                                                                                                                                                                                                      Good   \n",
       "\n",
       "                                                                                                                                                                                                                        content_stem  \\\n",
       "462                                                                                                                                                                                                                             good   \n",
       "485                                                                                                                                                                                                                         good app   \n",
       "321                                                                                                                                                                                                                good reason price   \n",
       "343                                                                                                                                                                                                                             good   \n",
       "362                                                good platform product purchas lag hang often hope stabl consum better experi shop thank edit hi day hang badli make hard purchas brows take place kindli assist look issu thank u   \n",
       "389  becom laggi screen protect buyer buyer real scammer still user friendli q ezbuy give better voucher q better voucher coin littl compar q time difficult find product pictur recognit price good q expens flash sale need improv   \n",
       "502                                                                                                                                                                                                          price good everyth find   \n",
       "636                                                                                                                                                                                                                             good   \n",
       "\n",
       "     score  \n",
       "462      1  \n",
       "485      1  \n",
       "321      3  \n",
       "343      3  \n",
       "362      3  \n",
       "389      3  \n",
       "502      3  \n",
       "636      3  "
      ]
     },
     "execution_count": 74,
     "metadata": {},
     "output_type": "execute_result"
    }
   ],
   "source": [
    "# View only the False Negatives that has the words 'good' in it\n",
    "fn[fn['count_good']>0][['content','content_stem','score']].sort_values(by='score')"
   ]
  },
  {
   "cell_type": "markdown",
   "metadata": {},
   "source": [
    "Misclassification in the context of 'good' occurs when:\n",
    "- User leaves a positive review but gives rates the app 3-stars. For example, \"good app with reasonable price\". These kinds of misclassifications are unavoidable and even a human will interpret it to be positive sentiment.\n",
    "- User writes a review that mentions Shopee is 'good' in a one aspect, but indicates that there are other areas of improvement. Misclassifications of this sort can be reduced if the model was trained on more negative sentiment. Given the limited pool of negative reviews on Google Play, we can look into training the model on negative reviews from the Apple App Store in the future. \n",
    "- Given that we have removed stopwords like 'not' and 'no' during pre-processing, the word 'good' rather than 'not good' will be fed into the model. As these reviews typically contain very few words and do not provide feedback on how Shopee can improve the app experience, there are no dire consequences to such misclassifications."
   ]
  },
  {
   "cell_type": "markdown",
   "metadata": {},
   "source": [
    "## Topic Modeling for Negative Sentiment"
   ]
  },
  {
   "cell_type": "markdown",
   "metadata": {},
   "source": [
    "Next, we will use Gensim's LDA to identify the key pain points that dissatisfied customers are facing. \n",
    "\n",
    "Before running LDA, we will first perform a simple pre-processing by removing stopwords, lemmatizing and using SpaCy to only keep tokens that are nouns, adjectives, verbs or adverbs. This approach gave us more distinct topics than if we were to just rely on the same pre-processing approach as that used during classification modeling."
   ]
  },
  {
   "cell_type": "code",
   "execution_count": 75,
   "metadata": {},
   "outputs": [],
   "source": [
    "# Create a list of all the textual data from negative reviews\n",
    "data = reviews[reviews['target']==1]['content'].values.tolist()"
   ]
  },
  {
   "cell_type": "code",
   "execution_count": 76,
   "metadata": {},
   "outputs": [],
   "source": [
    "# Assign NLTK's stopwords to stop_words\n",
    "stop_words = stopwords.words('english')\n",
    "\n",
    "# Include frequently occuring words like 'app' and 'shopee' to the stopwords list. These words will not value add to our topics.\n",
    "stop_words.extend(['app','shopee','shoppee','shoppe'])"
   ]
  },
  {
   "cell_type": "code",
   "execution_count": 77,
   "metadata": {},
   "outputs": [],
   "source": [
    "# Remove stopwords, lemmatize and only keep tokens that fall into these part of speech tags\n",
    "def process_words(texts, stop_words=stop_words, allowed_postags=['NOUN', 'ADJ', 'VERB', 'ADV']):\n",
    "\n",
    "    texts = [[word for word in simple_preprocess(str(doc)) if word not in stop_words] for doc in texts]\n",
    "    texts_out = []\n",
    "    nlp = spacy.load('en_core_web_sm', disable=['parser', 'ner'])\n",
    "    for sent in texts:\n",
    "        doc = nlp(\" \".join(sent)) \n",
    "        # Lemmatize and only keep tokens that have certain part of speech tags\n",
    "        texts_out.append([token.lemma_ for token in doc if token.pos_ in allowed_postags]) \n",
    "    # Remove stopwords once more after lemmatization\n",
    "    texts_out = [[word for word in simple_preprocess(str(doc)) if word not in stop_words] for doc in texts_out]    \n",
    "    return texts_out\n",
    "\n",
    "# Pre-processing text\n",
    "data_ready = process_words(data)"
   ]
  },
  {
   "cell_type": "code",
   "execution_count": 78,
   "metadata": {},
   "outputs": [
    {
     "name": "stdout",
     "output_type": "stream",
     "text": [
      "[(0,\n",
      "  '0.034*\"keep\" + 0.025*\"page\" + 0.024*\"load\" + 0.023*\"work\" + 0.022*\"update\" '\n",
      "  '+ 0.020*\"fix\" + 0.019*\"issue\" + 0.018*\"change\" + 0.018*\"phone\" + '\n",
      "  '0.017*\"coin\"'),\n",
      " (1,\n",
      "  '0.029*\"payment\" + 0.026*\"time\" + 0.022*\"still\" + 0.020*\"get\" + 0.020*\"use\" '\n",
      "  '+ 0.018*\"try\" + 0.018*\"purchase\" + 0.017*\"account\" + 0.016*\"say\" + '\n",
      "  '0.015*\"even\"'),\n",
      " (2,\n",
      "  '0.045*\"seller\" + 0.039*\"item\" + 0.023*\"customer\" + 0.018*\"send\" + '\n",
      "  '0.018*\"receive\" + 0.018*\"good\" + 0.016*\"bad\" + 0.015*\"refund\" + '\n",
      "  '0.015*\"order\" + 0.014*\"support\"')]\n"
     ]
    }
   ],
   "source": [
    "# Create Dictionary\n",
    "id2word = corpora.Dictionary(data_ready) \n",
    "\n",
    "# Create Corpus: Term Document Frequency\n",
    "corpus = [id2word.doc2bow(text) for text in data_ready]\n",
    "\n",
    "# Build LDA model\n",
    "lda_model = gensim.models.ldamodel.LdaModel(corpus=corpus,\n",
    "                                           id2word=id2word,\n",
    "                                           num_topics=3, # Number of topics\n",
    "                                           random_state=42,\n",
    "                                           update_every=1,\n",
    "                                           chunksize=10,\n",
    "                                           passes=10,\n",
    "                                           alpha='symmetric',\n",
    "                                           iterations=100,\n",
    "                                           per_word_topics=True)\n",
    "\n",
    "pprint(lda_model.print_topics())"
   ]
  },
  {
   "cell_type": "code",
   "execution_count": 79,
   "metadata": {},
   "outputs": [
    {
     "data": {
      "text/html": [
       "<div>\n",
       "<style scoped>\n",
       "    .dataframe tbody tr th:only-of-type {\n",
       "        vertical-align: middle;\n",
       "    }\n",
       "\n",
       "    .dataframe tbody tr th {\n",
       "        vertical-align: top;\n",
       "    }\n",
       "\n",
       "    .dataframe thead th {\n",
       "        text-align: right;\n",
       "    }\n",
       "</style>\n",
       "<table border=\"1\" class=\"dataframe\">\n",
       "  <thead>\n",
       "    <tr style=\"text-align: right;\">\n",
       "      <th></th>\n",
       "      <th>Document_No</th>\n",
       "      <th>Dominant_Topic</th>\n",
       "      <th>Topic_Perc_Contrib</th>\n",
       "      <th>Keywords</th>\n",
       "      <th>Text</th>\n",
       "    </tr>\n",
       "  </thead>\n",
       "  <tbody>\n",
       "    <tr>\n",
       "      <th>0</th>\n",
       "      <td>0</td>\n",
       "      <td>1.0</td>\n",
       "      <td>0.4856</td>\n",
       "      <td>payment, time, still, get, use, try, purchase, account, say, even</td>\n",
       "      <td>[sake, gift, state, clearly, order, item, get, free, welcome, gift, feel, bad, try, select, free, gift, keep, get, error, speak, cso, tell, free, gift, first, make, purchase, good, job, go, use, get, order]</td>\n",
       "    </tr>\n",
       "    <tr>\n",
       "      <th>1</th>\n",
       "      <td>1</td>\n",
       "      <td>1.0</td>\n",
       "      <td>0.7498</td>\n",
       "      <td>payment, time, still, get, use, try, purchase, account, say, even</td>\n",
       "      <td>[wild, variety, product, however, buy, certain, stuff, would, prefer, stuff, come, long, warranty, usually, clothing, prefer, brick, see, fit, long, physical, product, would, gladly, purchase, good, include, warranty, go, quality, handy, know, save, money, purchase, really, good, stuff, keep, come, back, good, place, bargain]</td>\n",
       "    </tr>\n",
       "    <tr>\n",
       "      <th>2</th>\n",
       "      <td>2</td>\n",
       "      <td>1.0</td>\n",
       "      <td>0.6338</td>\n",
       "      <td>payment, time, still, get, use, try, purchase, account, say, even</td>\n",
       "      <td>[terrible, payment, long, time, use, credit, debit, payment, glitch, today, keep, deny, payment, error, message, oop, payment, fail, step, give, help, desk, still, go, annoying, face, issue, note, add, payment, method, instead, ibg]</td>\n",
       "    </tr>\n",
       "    <tr>\n",
       "      <th>3</th>\n",
       "      <td>3</td>\n",
       "      <td>2.0</td>\n",
       "      <td>0.7419</td>\n",
       "      <td>seller, item, customer, send, receive, good, bad, refund, order, support</td>\n",
       "      <td>[use, good, problem, order, buying, stuff, recently, platform, suck, platform, allow, seller, cancel, order, auto, cancellation, system, keep, drag, cancellation, date, ask, customer, service, personnel, help, could, suggest, ask, wait, auto, cancellation, occur, receive, edit, send, reply, ask, wait, auto, cancellation, date, occur, ask, send, anymore, feedback, really, edit, finally, transaction, cancel, send, email, ask, solution, bring, issue, doubt, ask, wait, yet, receive, email, message, state, receive, refund]</td>\n",
       "    </tr>\n",
       "    <tr>\n",
       "      <th>4</th>\n",
       "      <td>4</td>\n",
       "      <td>1.0</td>\n",
       "      <td>0.4529</td>\n",
       "      <td>payment, time, still, get, use, try, purchase, account, say, even</td>\n",
       "      <td>[lousy, service, suddenly, prompt, pay, use, pay, additional, coin, earn, top, pin, page, jam, drag, day, troubleshoot, end, coin, credit, lose, cashback, expire, email, reply, pertain, query, advise, cashback, applicable, successful, order, go, delete, soon]</td>\n",
       "    </tr>\n",
       "  </tbody>\n",
       "</table>\n",
       "</div>"
      ],
      "text/plain": [
       "   Document_No  Dominant_Topic  Topic_Perc_Contrib  \\\n",
       "0            0             1.0              0.4856   \n",
       "1            1             1.0              0.7498   \n",
       "2            2             1.0              0.6338   \n",
       "3            3             2.0              0.7419   \n",
       "4            4             1.0              0.4529   \n",
       "\n",
       "                                                                   Keywords  \\\n",
       "0         payment, time, still, get, use, try, purchase, account, say, even   \n",
       "1         payment, time, still, get, use, try, purchase, account, say, even   \n",
       "2         payment, time, still, get, use, try, purchase, account, say, even   \n",
       "3  seller, item, customer, send, receive, good, bad, refund, order, support   \n",
       "4         payment, time, still, get, use, try, purchase, account, say, even   \n",
       "\n",
       "                                                                                                                                                                                                                                                                                                                                                                                                                                                                                                                                          Text  \n",
       "0                                                                                                                                                                                                                                                                                                                               [sake, gift, state, clearly, order, item, get, free, welcome, gift, feel, bad, try, select, free, gift, keep, get, error, speak, cso, tell, free, gift, first, make, purchase, good, job, go, use, get, order]  \n",
       "1                                                                                                                                                                                                      [wild, variety, product, however, buy, certain, stuff, would, prefer, stuff, come, long, warranty, usually, clothing, prefer, brick, see, fit, long, physical, product, would, gladly, purchase, good, include, warranty, go, quality, handy, know, save, money, purchase, really, good, stuff, keep, come, back, good, place, bargain]  \n",
       "2                                                                                                                                                                                                                                                                                                     [terrible, payment, long, time, use, credit, debit, payment, glitch, today, keep, deny, payment, error, message, oop, payment, fail, step, give, help, desk, still, go, annoying, face, issue, note, add, payment, method, instead, ibg]  \n",
       "3  [use, good, problem, order, buying, stuff, recently, platform, suck, platform, allow, seller, cancel, order, auto, cancellation, system, keep, drag, cancellation, date, ask, customer, service, personnel, help, could, suggest, ask, wait, auto, cancellation, occur, receive, edit, send, reply, ask, wait, auto, cancellation, date, occur, ask, send, anymore, feedback, really, edit, finally, transaction, cancel, send, email, ask, solution, bring, issue, doubt, ask, wait, yet, receive, email, message, state, receive, refund]  \n",
       "4                                                                                                                                                                                                                                                                          [lousy, service, suddenly, prompt, pay, use, pay, additional, coin, earn, top, pin, page, jam, drag, day, troubleshoot, end, coin, credit, lose, cashback, expire, email, reply, pertain, query, advise, cashback, applicable, successful, order, go, delete, soon]  "
      ]
     },
     "execution_count": 79,
     "metadata": {},
     "output_type": "execute_result"
    }
   ],
   "source": [
    "def format_topics_sentences(ldamodel, corpus, texts):\n",
    "    # Init output\n",
    "    sent_topics_df = pd.DataFrame()\n",
    "\n",
    "    # Get main topic in each document\n",
    "    for i, row_list in enumerate(ldamodel[corpus]):\n",
    "        row = row_list[0] if ldamodel.per_word_topics else row_list            \n",
    "        row = sorted(row, key=lambda x: (x[1]), reverse=True)\n",
    "        # Get the Dominant topic, Perc Contribution and Keywords for each document\n",
    "        for j, (topic_num, prop_topic) in enumerate(row):\n",
    "            if j == 0:  # => Dominant topic\n",
    "                wp = ldamodel.show_topic(topic_num)\n",
    "                topic_keywords = \", \".join([word for word, prop in wp])\n",
    "                sent_topics_df = sent_topics_df.append(pd.Series([int(topic_num), round(prop_topic,4), topic_keywords]), ignore_index=True)\n",
    "            else:\n",
    "                break\n",
    "    sent_topics_df.columns = ['Dominant_Topic', 'Perc_Contribution', 'Topic_Keywords']\n",
    "\n",
    "    # Add original text to the end of the output\n",
    "    contents = pd.Series(texts)\n",
    "    sent_topics_df = pd.concat([sent_topics_df, contents], axis=1)\n",
    "    return(sent_topics_df)\n",
    "\n",
    "\n",
    "df_topic_sents_keywords = format_topics_sentences(ldamodel=lda_model, corpus=corpus, texts=data_ready)\n",
    "\n",
    "# Formatting the table\n",
    "df_dominant_topic = df_topic_sents_keywords.reset_index()\n",
    "df_dominant_topic.columns = ['Document_No', 'Dominant_Topic', 'Topic_Perc_Contrib', 'Keywords', 'Text']\n",
    "df_dominant_topic.head()"
   ]
  },
  {
   "cell_type": "code",
   "execution_count": 80,
   "metadata": {},
   "outputs": [
    {
     "data": {
      "text/html": [
       "<div>\n",
       "<style scoped>\n",
       "    .dataframe tbody tr th:only-of-type {\n",
       "        vertical-align: middle;\n",
       "    }\n",
       "\n",
       "    .dataframe tbody tr th {\n",
       "        vertical-align: top;\n",
       "    }\n",
       "\n",
       "    .dataframe thead th {\n",
       "        text-align: right;\n",
       "    }\n",
       "</style>\n",
       "<table border=\"1\" class=\"dataframe\">\n",
       "  <thead>\n",
       "    <tr style=\"text-align: right;\">\n",
       "      <th></th>\n",
       "      <th>Topic_Num</th>\n",
       "      <th>Topic_Perc_Contrib</th>\n",
       "      <th>Keywords</th>\n",
       "      <th>Representative Text</th>\n",
       "    </tr>\n",
       "  </thead>\n",
       "  <tbody>\n",
       "    <tr>\n",
       "      <th>0</th>\n",
       "      <td>0.0</td>\n",
       "      <td>0.9577</td>\n",
       "      <td>keep, page, load, work, update, fix, issue, change, phone, coin</td>\n",
       "      <td>[ever, load, sometimes, work, fine, someday, blank, page, appear, everywhere, appear, search, fix, unstable, server]</td>\n",
       "    </tr>\n",
       "    <tr>\n",
       "      <th>1</th>\n",
       "      <td>1.0</td>\n",
       "      <td>0.9594</td>\n",
       "      <td>payment, time, still, get, use, try, purchase, account, say, even</td>\n",
       "      <td>[confirm, order, go, transfer, pay, bank, transfer, press, receipt, upload, later, order, go, super, unsatisfied, help]</td>\n",
       "    </tr>\n",
       "    <tr>\n",
       "      <th>2</th>\n",
       "      <td>2.0</td>\n",
       "      <td>0.9760</td>\n",
       "      <td>seller, item, customer, send, receive, good, bad, refund, order, support</td>\n",
       "      <td>[failure, control, price, allow, retailer, inflate, price, covid, situation, show, lack, ethic, retailer, end, also, lack, crisis, management, proper, planning, wait, implement, measure, protect, consumer, exploitation, global, pandemic, decide, never, purchase, ever]</td>\n",
       "    </tr>\n",
       "  </tbody>\n",
       "</table>\n",
       "</div>"
      ],
      "text/plain": [
       "   Topic_Num  Topic_Perc_Contrib  \\\n",
       "0        0.0              0.9577   \n",
       "1        1.0              0.9594   \n",
       "2        2.0              0.9760   \n",
       "\n",
       "                                                                   Keywords  \\\n",
       "0           keep, page, load, work, update, fix, issue, change, phone, coin   \n",
       "1         payment, time, still, get, use, try, purchase, account, say, even   \n",
       "2  seller, item, customer, send, receive, good, bad, refund, order, support   \n",
       "\n",
       "                                                                                                                                                                                                                                                            Representative Text  \n",
       "0                                                                                                                                                          [ever, load, sometimes, work, fine, someday, blank, page, appear, everywhere, appear, search, fix, unstable, server]  \n",
       "1                                                                                                                                                       [confirm, order, go, transfer, pay, bank, transfer, press, receipt, upload, later, order, go, super, unsatisfied, help]  \n",
       "2  [failure, control, price, allow, retailer, inflate, price, covid, situation, show, lack, ethic, retailer, end, also, lack, crisis, management, proper, planning, wait, implement, measure, protect, consumer, exploitation, global, pandemic, decide, never, purchase, ever]  "
      ]
     },
     "execution_count": 80,
     "metadata": {},
     "output_type": "execute_result"
    }
   ],
   "source": [
    "# Keywords of each dominant topic\n",
    "sent_topics_sorteddf_mallet = pd.DataFrame()\n",
    "sent_topics_outdf_grpd = df_topic_sents_keywords.groupby('Dominant_Topic') \n",
    "\n",
    "for i, grp in sent_topics_outdf_grpd:\n",
    "    sent_topics_sorteddf_mallet = pd.concat([sent_topics_sorteddf_mallet, \n",
    "                                             grp.sort_values(['Perc_Contribution'], ascending=False).head(1)], \n",
    "                                            axis=0)\n",
    "\n",
    "# Reset Index    \n",
    "sent_topics_sorteddf_mallet.reset_index(drop=True, inplace=True)\n",
    "\n",
    "# Format\n",
    "sent_topics_sorteddf_mallet.columns = ['Topic_Num', \"Topic_Perc_Contrib\", \"Keywords\", \"Representative Text\"]\n",
    "\n",
    "# Show the 3 topics\n",
    "sent_topics_sorteddf_mallet.head(10)"
   ]
  },
  {
   "cell_type": "code",
   "execution_count": 81,
   "metadata": {},
   "outputs": [
    {
     "data": {
      "image/png": "[encoded data removed]",
      "text/plain": [
       "<Figure size 1080x720 with 3 Axes>"
      ]
     },
     "metadata": {
      "needs_background": "light"
     },
     "output_type": "display_data"
    }
   ],
   "source": [
    "# Wordcloud of Top 10 words in each topic\n",
    "\n",
    "cols = [color for name, color in mcolors.TABLEAU_COLORS.items()]  \n",
    "\n",
    "cloud = WordCloud(stopwords=stop_words,\n",
    "                  background_color='white',\n",
    "                  width=2500,\n",
    "                  height=1800,\n",
    "                  max_words=10,\n",
    "                  colormap='tab10',\n",
    "                  color_func=lambda *args, **kwargs: cols[i],\n",
    "                  prefer_horizontal=1.0)\n",
    "\n",
    "topics = lda_model.show_topics(formatted=False)\n",
    "\n",
    "fig, axes = plt.subplots(1, 3, figsize=(15,10), sharex=True, sharey=True)\n",
    "\n",
    "topic_names = ['Slow app performance', 'Poor payment experience', 'Fraudulent sellers and items']\n",
    "\n",
    "for i, ax in enumerate(axes.flatten()):\n",
    "    fig.add_subplot(ax)\n",
    "    topic_words = dict(topics[i][1])\n",
    "    cloud.generate_from_frequencies(topic_words, max_font_size=300)\n",
    "    plt.gca().imshow(cloud)\n",
    "    plt.gca().set_title(topic_names[i], weight='bold', fontdict=dict(size=16))\n",
    "    plt.gca().axis('off')\n",
    "\n",
    "\n",
    "plt.subplots_adjust(wspace=0, hspace=0)\n",
    "plt.axis('off')\n",
    "plt.margins(x=0, y=0)\n",
    "plt.tight_layout()\n",
    "plt.show()"
   ]
  },
  {
   "cell_type": "code",
   "execution_count": 82,
   "metadata": {},
   "outputs": [
    {
     "data": {
      "text/html": [
       "\n",
       "<link rel=\"stylesheet\" type=\"text/css\" href=\"https://cdn.rawgit.com/bmabey/pyLDAvis/files/ldavis.v1.0.0.css\">\n",
       "\n",
       "\n",
       "<div id=\"ldavis_el58011405506260796967111632913\"></div>\n",
       "<script type=\"text/javascript\">\n",
       "\n",
       "var ldavis_el58011405506260796967111632913_data = {\"mdsDat\": {\"x\": [0.11879994785317431, -0.26324297254266105, 0.14444302468948667], \"y\": [-0.22642009943496758, 0.014241617437232056, 0.21217848199773554], \"topics\": [1, 2, 3], \"cluster\": [1, 1, 1], \"Freq\": [38.903228759765625, 38.651084899902344, 22.445682525634766]}, \"tinfo\": {\"Term\": [\"seller\", \"item\", \"payment\", \"keep\", \"time\", \"page\", \"customer\", \"load\", \"still\", \"work\", \"update\", \"get\", \"fix\", \"send\", \"receive\", \"try\", \"good\", \"account\", \"change\", \"phone\", \"coin\", \"say\", \"bad\", \"refund\", \"issue\", \"service\", \"support\", \"want\", \"use\", \"error\", \"payment\", \"time\", \"get\", \"still\", \"account\", \"try\", \"say\", \"number\", \"money\", \"already\", \"really\", \"day\", \"would\", \"pay\", \"go\", \"need\", \"many\", \"transfer\", \"voucher\", \"fail\", \"card\", \"credit\", \"always\", \"able\", \"think\", \"slow\", \"verify\", \"well\", \"want\", \"come\", \"long\", \"purchase\", \"use\", \"make\", \"even\", \"check\", \"order\", \"seller\", \"item\", \"customer\", \"receive\", \"send\", \"good\", \"refund\", \"service\", \"bad\", \"wait\", \"support\", \"cancel\", \"reply\", \"experience\", \"ask\", \"tell\", \"give\", \"team\", \"wrong\", \"price\", \"contact\", \"deliver\", \"email\", \"platform\", \"return\", \"poor\", \"request\", \"online\", \"case\", \"star\", \"response\", \"bother\", \"buy\", \"product\", \"never\", \"order\", \"user\", \"shopping\", \"load\", \"page\", \"update\", \"work\", \"fix\", \"coin\", \"change\", \"error\", \"phone\", \"unable\", \"cart\", \"thank\", \"notification\", \"stop\", \"screen\", \"seem\", \"server\", \"verification\", \"lag\", \"delete\", \"function\", \"search\", \"click\", \"scroll\", \"start\", \"recent\", \"reinstall\", \"restart\", \"blank\", \"lot\", \"properly\", \"anymore\", \"keep\", \"issue\", \"show\", \"annoying\", \"hang\", \"problem\", \"even\", \"use\"], \"Freq\": [319.0, 280.0, 207.0, 183.0, 187.0, 105.0, 166.0, 101.0, 161.0, 96.0, 92.0, 148.0, 84.0, 132.0, 130.0, 132.0, 126.0, 124.0, 75.0, 74.0, 73.0, 115.0, 112.0, 111.0, 100.0, 101.0, 101.0, 105.0, 183.0, 60.0, 206.62600708007812, 186.3451690673828, 147.41510009765625, 160.8890380859375, 123.8720703125, 131.19903564453125, 115.1799545288086, 83.49076843261719, 72.5916519165039, 70.20319366455078, 65.07464599609375, 60.56592559814453, 87.98233032226562, 54.3828239440918, 50.34236526489258, 55.36847686767578, 55.398582458496094, 46.04840850830078, 48.325809478759766, 53.11781692504883, 47.78764343261719, 44.32686996459961, 53.159515380859375, 42.80646514892578, 50.26009750366211, 46.654014587402344, 59.0345344543457, 47.4414176940918, 103.79865264892578, 40.39011001586914, 45.841651916503906, 129.82186889648438, 143.0779571533203, 77.43973541259766, 108.36985778808594, 60.250160217285156, 94.78508758544922, 318.7549133300781, 280.22467041015625, 165.86721801757812, 130.2513427734375, 131.60711669921875, 125.84842681884766, 110.63756561279297, 100.87006378173828, 111.9341812133789, 83.1387710571289, 100.98576354980469, 73.24894714355469, 60.742347717285156, 79.30110168457031, 73.52155303955078, 53.845394134521484, 49.333641052246094, 54.95737075805664, 44.55915069580078, 46.35082244873047, 46.56695556640625, 41.8569450378418, 64.15367126464844, 46.07345962524414, 39.11305236816406, 45.65842056274414, 31.65134620666504, 38.97626495361328, 31.08357048034668, 50.30038833618164, 45.74407958984375, 43.21064376831055, 77.43773651123047, 74.94453430175781, 74.2491683959961, 104.01748657226562, 59.1142692565918, 46.55241394042969, 100.33606719970703, 104.98370361328125, 92.21104431152344, 96.10685729980469, 83.62752532958984, 72.65978240966797, 74.89092254638672, 59.914188385009766, 73.47908020019531, 54.932979583740234, 53.25381088256836, 39.92121124267578, 31.715349197387695, 42.451171875, 29.483776092529297, 29.203044891357422, 28.369503021240234, 28.39037322998047, 22.65111541748047, 28.354515075683594, 27.732864379882812, 21.987077713012695, 28.55559730529785, 21.92456817626953, 27.959386825561523, 19.7122859954834, 19.297710418701172, 14.681936264038086, 16.588476181030273, 20.854948043823242, 15.736653327941895, 29.412614822387695, 143.09683227539062, 77.63507080078125, 41.30730056762695, 33.082427978515625, 25.594160079956055, 36.68305206298828, 41.416343688964844, 40.1996955871582], \"Total\": [319.0, 280.0, 207.0, 183.0, 187.0, 105.0, 166.0, 101.0, 161.0, 96.0, 92.0, 148.0, 84.0, 132.0, 130.0, 132.0, 126.0, 124.0, 75.0, 74.0, 73.0, 115.0, 112.0, 111.0, 100.0, 101.0, 101.0, 105.0, 183.0, 60.0, 207.3665771484375, 187.08436584472656, 148.17335510253906, 161.75242614746094, 124.59000396728516, 132.0509490966797, 115.98822784423828, 84.26634216308594, 73.32144165039062, 70.93710327148438, 65.86505889892578, 61.32483673095703, 89.095947265625, 55.08396911621094, 51.0108528137207, 56.111000061035156, 56.14215850830078, 46.713890075683594, 49.035396575927734, 53.904808044433594, 48.504024505615234, 45.0265007019043, 53.99987030029297, 43.4876708984375, 51.069156646728516, 47.416378021240234, 60.02603530883789, 48.249691009521484, 105.599853515625, 41.091678619384766, 46.64291763305664, 146.673095703125, 183.6709442138672, 95.56376647949219, 193.47442626953125, 75.3028564453125, 199.11514282226562, 319.4039306640625, 280.99169921875, 166.54763793945312, 130.913330078125, 132.28126525878906, 126.52986907958984, 111.2499008178711, 101.50675964355469, 112.68551635742188, 83.80876159667969, 101.85588836669922, 73.93416595458984, 61.386940002441406, 80.14710998535156, 74.32750701904297, 54.54674530029297, 50.047855377197266, 55.75935745239258, 45.21492385864258, 47.0377197265625, 47.28736877441406, 42.50693893432617, 65.15138244628906, 46.8277587890625, 39.763343811035156, 46.550209045410156, 32.27839279174805, 39.77305221557617, 31.732011795043945, 51.35599899291992, 46.70641326904297, 44.239009857177734, 96.59260559082031, 99.43894958496094, 108.67925262451172, 199.11514282226562, 82.85317993164062, 72.07298278808594, 101.03719329833984, 105.72360229492188, 92.9292221069336, 96.86949157714844, 84.3370590209961, 73.37438201904297, 75.68865203857422, 60.603214263916016, 74.33670806884766, 55.63080596923828, 53.94029998779297, 40.77081298828125, 32.4111328125, 43.390201568603516, 30.13970184326172, 29.87874984741211, 29.07029151916504, 29.12944984436035, 23.298715591430664, 29.180387496948242, 28.54328155517578, 22.63628578186035, 29.402013778686523, 22.578189849853516, 28.829477310180664, 20.390579223632812, 20.008283615112305, 15.316222190856934, 17.31963539123535, 21.775257110595703, 16.43867301940918, 31.258716583251953, 183.61859130859375, 100.91036987304688, 56.57823181152344, 48.08558654785156, 30.94915199279785, 79.78599548339844, 193.47442626953125, 183.6709442138672], \"Category\": [\"Default\", \"Default\", \"Default\", \"Default\", \"Default\", \"Default\", \"Default\", \"Default\", \"Default\", \"Default\", \"Default\", \"Default\", \"Default\", \"Default\", \"Default\", \"Default\", \"Default\", \"Default\", \"Default\", \"Default\", \"Default\", \"Default\", \"Default\", \"Default\", \"Default\", \"Default\", \"Default\", \"Default\", \"Default\", \"Default\", \"Topic1\", \"Topic1\", \"Topic1\", \"Topic1\", \"Topic1\", \"Topic1\", \"Topic1\", \"Topic1\", \"Topic1\", \"Topic1\", \"Topic1\", \"Topic1\", \"Topic1\", \"Topic1\", \"Topic1\", \"Topic1\", \"Topic1\", \"Topic1\", \"Topic1\", \"Topic1\", \"Topic1\", \"Topic1\", \"Topic1\", \"Topic1\", \"Topic1\", \"Topic1\", \"Topic1\", \"Topic1\", \"Topic1\", \"Topic1\", \"Topic1\", \"Topic1\", \"Topic1\", \"Topic1\", \"Topic1\", \"Topic1\", \"Topic1\", \"Topic2\", \"Topic2\", \"Topic2\", \"Topic2\", \"Topic2\", \"Topic2\", \"Topic2\", \"Topic2\", \"Topic2\", \"Topic2\", \"Topic2\", \"Topic2\", \"Topic2\", \"Topic2\", \"Topic2\", \"Topic2\", \"Topic2\", \"Topic2\", \"Topic2\", \"Topic2\", \"Topic2\", \"Topic2\", \"Topic2\", \"Topic2\", \"Topic2\", \"Topic2\", \"Topic2\", \"Topic2\", \"Topic2\", \"Topic2\", \"Topic2\", \"Topic2\", \"Topic2\", \"Topic2\", \"Topic2\", \"Topic2\", \"Topic2\", \"Topic2\", \"Topic3\", \"Topic3\", \"Topic3\", \"Topic3\", \"Topic3\", \"Topic3\", \"Topic3\", \"Topic3\", \"Topic3\", \"Topic3\", \"Topic3\", \"Topic3\", \"Topic3\", \"Topic3\", \"Topic3\", \"Topic3\", \"Topic3\", \"Topic3\", \"Topic3\", \"Topic3\", \"Topic3\", \"Topic3\", \"Topic3\", \"Topic3\", \"Topic3\", \"Topic3\", \"Topic3\", \"Topic3\", \"Topic3\", \"Topic3\", \"Topic3\", \"Topic3\", \"Topic3\", \"Topic3\", \"Topic3\", \"Topic3\", \"Topic3\", \"Topic3\", \"Topic3\", \"Topic3\"], \"logprob\": [30.0, 29.0, 28.0, 27.0, 26.0, 25.0, 24.0, 23.0, 22.0, 21.0, 20.0, 19.0, 18.0, 17.0, 16.0, 15.0, 14.0, 13.0, 12.0, 11.0, 10.0, 9.0, 8.0, 7.0, 6.0, 5.0, 4.0, 3.0, 2.0, 1.0, -3.551100015640259, -3.654400110244751, -3.8887999057769775, -3.801300048828125, -4.06279993057251, -4.005300045013428, -4.135499954223633, -4.457300186157227, -4.5971999168396, -4.6305999755859375, -4.706500053405762, -4.778299808502197, -4.404900074005127, -4.886000156402588, -4.963200092315674, -4.868000030517578, -4.867499828338623, -5.052299976348877, -5.0040998458862305, -4.9095001220703125, -5.0152997970581055, -5.090400218963623, -4.908699989318848, -5.12529993057251, -4.964799880981445, -5.039299964904785, -4.803899765014648, -5.022500038146973, -4.23960018157959, -5.1834001541137695, -5.05679988861084, -4.015900135040283, -3.918600082397461, -4.53249979019165, -4.196499824523926, -4.7835001945495605, -4.330399990081787, -3.1110999584198, -3.2399001121520996, -3.7643001079559326, -4.006100177764893, -3.995699882507324, -4.04040002822876, -4.169300079345703, -4.26170015335083, -4.157599925994873, -4.454999923706055, -4.260499954223633, -4.581699848175049, -4.768899917602539, -4.502299785614014, -4.577899932861328, -4.889400005340576, -4.976900100708008, -4.86899995803833, -5.078700065612793, -5.039299964904785, -5.034599781036377, -5.141300201416016, -4.714200019836426, -5.045300006866455, -5.209099769592285, -5.054299831390381, -5.4207000732421875, -5.212600231170654, -5.438799858093262, -4.957499980926514, -5.052499771118164, -5.109399795532227, -4.526000022888184, -4.558800220489502, -4.5680999755859375, -4.230999946594238, -4.79610013961792, -5.034900188446045, -3.7235000133514404, -3.6782000064849854, -3.808000087738037, -3.7665998935699463, -3.9056999683380127, -4.046299934387207, -4.015999794006348, -4.239099979400635, -4.034999847412109, -4.325900077819824, -4.35699987411499, -4.645100116729736, -4.875199794769287, -4.583700180053711, -4.948200225830078, -4.957799911499023, -4.986700057983398, -4.986000061035156, -5.2118000984191895, -4.987299919128418, -5.009399890899658, -5.241600036621094, -4.980199813842773, -5.2444000244140625, -5.001299858093262, -5.350800037384033, -5.372099876403809, -5.645400047302246, -5.5233001708984375, -5.29449987411499, -5.576099872589111, -4.9506001472473145, -3.368499994277954, -3.9800000190734863, -4.611000061035156, -4.833000183105469, -5.089700222015381, -4.729700088500977, -4.608399868011475, -4.638199806213379], \"loglift\": [30.0, 29.0, 28.0, 27.0, 26.0, 25.0, 24.0, 23.0, 22.0, 21.0, 20.0, 19.0, 18.0, 17.0, 16.0, 15.0, 14.0, 13.0, 12.0, 11.0, 10.0, 9.0, 8.0, 7.0, 6.0, 5.0, 4.0, 3.0, 2.0, 1.0, 0.940500020980835, 0.9401000142097473, 0.9390000104904175, 0.9387000203132629, 0.9383000135421753, 0.9376000165939331, 0.9370999932289124, 0.9348000288009644, 0.9340999722480774, 0.9337000250816345, 0.9319999814033508, 0.9315999746322632, 0.9315000176429749, 0.9312999844551086, 0.930899977684021, 0.9308000206947327, 0.9308000206947327, 0.9297000169754028, 0.9294999837875366, 0.9294000267982483, 0.9291999936103821, 0.9283999800682068, 0.9283999800682068, 0.9283000230789185, 0.9280999898910522, 0.9279000163078308, 0.9273999929428101, 0.9272000193595886, 0.9269000291824341, 0.9269000291824341, 0.926800012588501, 0.8220000267028809, 0.6942999958992004, 0.7337999939918518, 0.3644999861717224, 0.7210999727249146, 0.20180000364780426, 0.9485999941825867, 0.9478999972343445, 0.9465000033378601, 0.9455000162124634, 0.9455000162124634, 0.9452000260353088, 0.9451000094413757, 0.9442999958992004, 0.9438999891281128, 0.9426000118255615, 0.9419999718666077, 0.9412999749183655, 0.9399999976158142, 0.9399999976158142, 0.9397000074386597, 0.9376999735832214, 0.9362000226974487, 0.9361000061035156, 0.9359999895095825, 0.9358999729156494, 0.9351999759674072, 0.9351999759674072, 0.9351999759674072, 0.9344000220298767, 0.9340999722480774, 0.9312999844551086, 0.9309999942779541, 0.930400013923645, 0.9298999905586243, 0.9297999739646912, 0.9297999739646912, 0.9271000027656555, 0.7296000123023987, 0.6678000092506409, 0.569599986076355, 0.3012999892234802, 0.6129999756813049, 0.5134999752044678, 1.4871000051498413, 1.4869999885559082, 1.486299991607666, 1.486199975013733, 1.4855999946594238, 1.4843000173568726, 1.4835000038146973, 1.4825999736785889, 1.4824999570846558, 1.4814000129699707, 1.4812999963760376, 1.4730000495910645, 1.4723999500274658, 1.4722000360488892, 1.472100019454956, 1.4711999893188477, 1.4696999788284302, 1.468400001525879, 1.46589994430542, 1.465399980545044, 1.4652999639511108, 1.465000033378601, 1.464900016784668, 1.4646999835968018, 1.4634000062942505, 1.4601999521255493, 1.457900047302246, 1.451799988746643, 1.4508999586105347, 1.4508999586105347, 1.4503999948501587, 1.4332000017166138, 1.2446999549865723, 1.2318999767303467, 1.1794999837875366, 1.1201000213623047, 1.3041000366210938, 0.7170000076293945, -0.04740000143647194, -0.025200000032782555]}, \"token.table\": {\"Topic\": [1, 1, 1, 1, 1, 2, 3, 1, 2, 3, 2, 2, 3, 1, 2, 1, 2, 2, 1, 3, 2, 3, 1, 3, 3, 3, 1, 2, 1, 2, 1, 3, 2, 2, 3, 3, 1, 2, 3, 2, 1, 3, 3, 1, 2, 1, 2, 1, 3, 2, 3, 2, 1, 3, 3, 3, 1, 3, 1, 2, 1, 1, 1, 1, 2, 3, 1, 2, 1, 2, 3, 1, 1, 3, 2, 1, 2, 2, 1, 3, 1, 2, 3, 1, 2, 1, 2, 3, 2, 3, 2, 2, 2, 3, 2, 1, 3, 3, 3, 3, 2, 2, 3, 2, 2, 3, 2, 3, 1, 2, 3, 3, 1, 3, 2, 2, 2, 3, 1, 1, 1, 1, 3, 3, 1, 3, 1, 2, 3, 3, 1, 3, 1, 2, 1, 2, 3, 1, 3, 1, 2, 2], \"Freq\": [0.988785982131958, 0.9952644109725952, 0.9867896437644958, 0.9814838171005249, 0.10398126393556595, 0.2079625278711319, 0.6862763166427612, 0.03199107572436333, 0.03199107572436333, 0.9277412295341492, 0.9955937266349792, 0.9939165711402893, 0.9815449118614197, 0.022604484111070633, 0.9719928503036499, 0.19670242071151733, 0.7971624732017517, 0.9873648881912231, 0.9896085858345032, 0.9825677871704102, 0.9769314527511597, 0.990901529788971, 0.7967825531959534, 0.19919563829898834, 0.9863269925117493, 0.9948976635932922, 0.9734330773353577, 0.9939229488372803, 0.977202296257019, 0.9967118501663208, 0.9947029948234558, 0.9595485925674438, 0.9880739450454712, 0.9823275804519653, 0.015348868444561958, 0.990046501159668, 0.5582132935523987, 0.22742024064064026, 0.2119143158197403, 0.9856874346733093, 0.9832146763801575, 0.9960034489631653, 0.9809663891792297, 0.9920812249183655, 0.9790629148483276, 0.9801836013793945, 0.9958122968673706, 0.16155532002449036, 0.8400876522064209, 0.22792503237724304, 0.7729631662368774, 0.9964706897735596, 0.21784286201000214, 0.7787882685661316, 0.9871788620948792, 0.9897345304489136, 0.9862161874771118, 0.9643973112106323, 0.8057447075843811, 0.18835590779781342, 0.9796559810638428, 0.9956160187721252, 0.980199933052063, 0.31284719705581665, 0.6809027194976807, 0.9873150587081909, 0.9849721193313599, 0.9805634021759033, 0.4771108627319336, 0.5223108530044556, 0.9931557178497314, 0.9803215265274048, 0.9982322454452515, 0.9820181727409363, 0.9823233485221863, 0.021482180804014206, 0.9881803393363953, 0.9779385328292847, 0.5389416813850403, 0.4637405276298523, 0.24135412275791168, 0.7542316317558289, 0.9733145833015442, 0.8863247632980347, 0.11590401083230972, 0.9868661761283875, 0.9930233955383301, 0.9808450937271118, 0.9977536797523499, 0.949606716632843, 0.9936966896057129, 0.9913752675056458, 0.9848754405975342, 0.9793537855148315, 0.9808028340339661, 0.9914799332618713, 0.9621860384941101, 0.9743916392326355, 0.9718908667564392, 0.9705894589424133, 0.9987353682518005, 0.9978737235069275, 0.9631826281547546, 0.9950076341629028, 0.6521167755126953, 0.34687063097953796, 0.26511964201927185, 0.724660336971283, 0.9912186861038208, 0.9735960960388184, 0.019471921026706696, 0.9712281823158264, 0.9953482747077942, 0.9679604768753052, 0.991597056388855, 0.9863815307617188, 0.9899765849113464, 0.9810940027236938, 0.9790645241737366, 0.9942038655281067, 0.984717845916748, 0.9920413494110107, 0.9886608719825745, 0.9900007247924805, 0.7785662412643433, 0.21778076887130737, 0.01206954289227724, 0.712103009223938, 0.2775994837284088, 0.9612265229225159, 0.9829068183898926, 0.016659438610076904, 0.9788846969604492, 0.9903498888015747, 0.9848498702049255, 0.009469710290431976, 0.009469710290431976, 0.9740995168685913, 0.9910240769386292, 0.9876992702484131, 0.011223855428397655, 0.9952465891838074], \"Term\": [\"able\", \"account\", \"already\", \"always\", \"annoying\", \"annoying\", \"annoying\", \"anymore\", \"anymore\", \"anymore\", \"ask\", \"bad\", \"blank\", \"bother\", \"bother\", \"buy\", \"buy\", \"cancel\", \"card\", \"cart\", \"case\", \"change\", \"check\", \"check\", \"click\", \"coin\", \"come\", \"contact\", \"credit\", \"customer\", \"day\", \"delete\", \"deliver\", \"email\", \"email\", \"error\", \"even\", \"even\", \"even\", \"experience\", \"fail\", \"fix\", \"function\", \"get\", \"give\", \"go\", \"good\", \"hang\", \"hang\", \"issue\", \"issue\", \"item\", \"keep\", \"keep\", \"lag\", \"load\", \"long\", \"lot\", \"make\", \"make\", \"many\", \"money\", \"need\", \"never\", \"never\", \"notification\", \"number\", \"online\", \"order\", \"order\", \"page\", \"pay\", \"payment\", \"phone\", \"platform\", \"poor\", \"poor\", \"price\", \"problem\", \"problem\", \"product\", \"product\", \"properly\", \"purchase\", \"purchase\", \"really\", \"receive\", \"recent\", \"refund\", \"reinstall\", \"reply\", \"request\", \"response\", \"restart\", \"return\", \"say\", \"screen\", \"scroll\", \"search\", \"seem\", \"seller\", \"send\", \"server\", \"service\", \"shopping\", \"shopping\", \"show\", \"show\", \"slow\", \"star\", \"star\", \"start\", \"still\", \"stop\", \"support\", \"team\", \"tell\", \"thank\", \"think\", \"time\", \"transfer\", \"try\", \"unable\", \"update\", \"use\", \"use\", \"user\", \"user\", \"user\", \"verification\", \"verify\", \"verify\", \"voucher\", \"wait\", \"want\", \"want\", \"want\", \"well\", \"work\", \"would\", \"would\", \"wrong\"]}, \"R\": 30, \"lambda.step\": 0.01, \"plot.opts\": {\"xlab\": \"PC1\", \"ylab\": \"PC2\"}, \"topic.order\": [2, 3, 1]};\n",
       "\n",
       "function LDAvis_load_lib(url, callback){\n",
       "  var s = document.createElement('script');\n",
       "  s.src = url;\n",
       "  s.async = true;\n",
       "  s.onreadystatechange = s.onload = callback;\n",
       "  s.onerror = function(){console.warn(\"failed to load library \" + url);};\n",
       "  document.getElementsByTagName(\"head\")[0].appendChild(s);\n",
       "}\n",
       "\n",
       "if(typeof(LDAvis) !== \"undefined\"){\n",
       "   // already loaded: just create the visualization\n",
       "   !function(LDAvis){\n",
       "       new LDAvis(\"#\" + \"ldavis_el58011405506260796967111632913\", ldavis_el58011405506260796967111632913_data);\n",
       "   }(LDAvis);\n",
       "}else if(typeof define === \"function\" && define.amd){\n",
       "   // require.js is available: use it to load d3/LDAvis\n",
       "   require.config({paths: {d3: \"https://cdnjs.cloudflare.com/ajax/libs/d3/3.5.5/d3.min\"}});\n",
       "   require([\"d3\"], function(d3){\n",
       "      window.d3 = d3;\n",
       "      LDAvis_load_lib(\"https://cdn.rawgit.com/bmabey/pyLDAvis/files/ldavis.v1.0.0.js\", function(){\n",
       "        new LDAvis(\"#\" + \"ldavis_el58011405506260796967111632913\", ldavis_el58011405506260796967111632913_data);\n",
       "      });\n",
       "    });\n",
       "}else{\n",
       "    // require.js not available: dynamically load d3 & LDAvis\n",
       "    LDAvis_load_lib(\"https://cdnjs.cloudflare.com/ajax/libs/d3/3.5.5/d3.min.js\", function(){\n",
       "         LDAvis_load_lib(\"https://cdn.rawgit.com/bmabey/pyLDAvis/files/ldavis.v1.0.0.js\", function(){\n",
       "                 new LDAvis(\"#\" + \"ldavis_el58011405506260796967111632913\", ldavis_el58011405506260796967111632913_data);\n",
       "            })\n",
       "         });\n",
       "}\n",
       "</script>"
      ],
      "text/plain": [
       "PreparedData(topic_coordinates=              x         y  topics  cluster       Freq\n",
       "topic                                                \n",
       "1      0.118800 -0.226420       1        1  38.903229\n",
       "2     -0.263243  0.014242       2        1  38.651085\n",
       "0      0.144443  0.212178       3        1  22.445683, topic_info=         Term        Freq       Total Category  logprob  loglift\n",
       "103    seller  319.000000  319.000000  Default  30.0000  30.0000\n",
       "11       item  280.000000  280.000000  Default  29.0000  29.0000\n",
       "72    payment  207.000000  207.000000  Default  28.0000  28.0000\n",
       "13       keep  183.000000  183.000000  Default  27.0000  27.0000\n",
       "76       time  187.000000  187.000000  Default  26.0000  26.0000\n",
       "..        ...         ...         ...      ...      ...      ...\n",
       "55   annoying   33.082428   48.085587   Topic3  -4.8330   1.1201\n",
       "366      hang   25.594160   30.949152   Topic3  -5.0897   1.3041\n",
       "98    problem   36.683052   79.785995   Topic3  -4.7297   0.7170\n",
       "183      even   41.416344  193.474426   Topic3  -4.6084  -0.0474\n",
       "23        use   40.199696  183.670944   Topic3  -4.6382  -0.0252\n",
       "\n",
       "[145 rows x 6 columns], token_table=      Topic      Freq      Term\n",
       "term                           \n",
       "371       1  0.988786      able\n",
       "156       1  0.995264   account\n",
       "220       1  0.986790   already\n",
       "137       1  0.981484    always\n",
       "55        1  0.103981  annoying\n",
       "...     ...       ...       ...\n",
       "527       1  0.974100      well\n",
       "173       3  0.991024      work\n",
       "53        1  0.987699     would\n",
       "53        2  0.011224     would\n",
       "675       2  0.995247     wrong\n",
       "\n",
       "[142 rows x 3 columns], R=30, lambda_step=0.01, plot_opts={'xlab': 'PC1', 'ylab': 'PC2'}, topic_order=[2, 3, 1])"
      ]
     },
     "execution_count": 82,
     "metadata": {},
     "output_type": "execute_result"
    }
   ],
   "source": [
    "# Visualisation of the topics estimated using LDA\n",
    "pyLDAvis.enable_notebook()\n",
    "vis = pyLDAvis.gensim.prepare(lda_model, corpus, dictionary=lda_model.id2word)\n",
    "vis"
   ]
  },
  {
   "cell_type": "markdown",
   "metadata": {},
   "source": [
    "We can conclude that the 3 topics are rather distinct as the bubbles are far away from one another on the intertopic distance map. The bar chart on the right represents the individual terms that are the most useful for interpreting a selected topic.   \n",
    "\n",
    "We will be browsing through some of the negative reviews in our dataset to better contextualise the 3 pain points that the LDA model has identified."
   ]
  },
  {
   "cell_type": "code",
   "execution_count": 83,
   "metadata": {
    "scrolled": false
   },
   "outputs": [
    {
     "data": {
      "text/plain": [
       "7                                 Terrible payment. For a long time I have been using credit/debit payment without any glitch. Today, I kept being denied of my payment. Error message: Oops payment failed. Did all the steps given by the help desk but still no go. Very annoying to face this issue. On another note, why can't you add more payment methods like PayPal instead of just IBG?\n",
       "18                                                                                                                                                                                                                                                                         Great app, but i cannot checkout my items and its very frustrating. When i reach the payment page, it doesn't load....\n",
       "51                                                                                                                                                                                                                                                                                                                                      Cannot proceed with the payment using visa. Please check.\n",
       "63      Payment page is such a failure, add items to cart and unable to make payment, 4 times called helpdesk but keep reply sorry and understand my frustration, ask me uninstall n reinstall, log in log out, on off phone, delete payment type n add again, switch to others phone and laptop, still cannot solve my problems, till now still nothing is done after the call. Disappointed app\n",
       "66                                                                                                                                                                                                                                            How come now after I made the purchase, I cannot see which card I used to make the payment. At least the last 4 digits of the card should be shown.\n",
       "                                                                                                                                                                                                  ...                                                                                                                                                                                            \n",
       "3422                                                                                                          I request for a refund, but I can't find any other options to click other then release payment. UI is so frustrating. The staff chat app doesn't help any at all. And just simply put me in ignore mode. Stop replying to me. Wow thanks for a business app. No more purchases now.\n",
       "3435                                                                                                                                                                                                                                                                                                         The apps hang and stopped at the payment page. Can't proceed to purchase \\nanything.\n",
       "3463                                                                                                                                                                                                                                                                                Suddenly this time when i click to make payment,the app keeps showing tab \\nto reload n it loads n never work\n",
       "3469                                                                                                                                                                                                                                                                                                                                                Error on credit card payment. Rectify please.\n",
       "3471                                                                         Very bad experience!!!!i do the online transfer payment to Shopee bank account,ans send them transaction receipt & event thought my bank transaction history?they still can not verify my payment! Slow and poor customer service!e-mail this and that so many times still can not settle for verify payment matter!\n",
       "Name: content, Length: 112, dtype: object"
      ]
     },
     "execution_count": 83,
     "metadata": {},
     "output_type": "execute_result"
    }
   ],
   "source": [
    "# Browse through the reviews that contain the top words related to each topic\n",
    "reviews[(reviews['target']==1) & (reviews['content'].str.contains('payment'))]['content']"
   ]
  },
  {
   "cell_type": "markdown",
   "metadata": {},
   "source": [
    "## Pain Points and Recommendations"
   ]
  },
  {
   "cell_type": "markdown",
   "metadata": {},
   "source": [
    "**Poor payment experience** \n",
    "\n",
    "Customers are most frustrated when they run into payment issues during checkout. The payment was either denied or the payment page simply took too long to load. Although customers are given the option of paying via bank transfers, the process is not entirely seamless. Some were not able to upload the receipt for verification due to a platform error. A handful of customers have also mentioned in their Google Play reviews that they were not able to apply their voucher or discount codes at the point of checkout. We can imagine the disappointment that customers face when they were not able to enjoy the promotional prices that were promised.\n",
    "\n",
    "Consumers today demand a fast, convenient and secure payment experience. As such, the software engineers at Shopee will need to look into enhancing the stability and reliability of its payment gateway service. Given that card payments are processed through third-party providers, engineers will need to figure out if these payment issues are surfacing from the third-party providers' end, or as a result of Shopee's internal systems. Reducing friction in the payment process will definitely help to reduce cart abandonment.\n",
    "\n",
    "**Fraudulent sellers and items**  \n",
    "\n",
    "Several customers have reported fraudulent seller behaviour. These scams include not having received the items ordered, or receiving counterfeit, defective products. When these issues were raised to Shopee's customer service, the problem was either not resolved in a timely fashion, or customers did not receive their refunds. This has thus disappointed and angered many affected customers and several feel that Shopee favours the sellers over the buyers.   \n",
    "\n",
    "Building a robust model that identifies and blocks fraudulent sellers at the early stages will help to prevent seller fraud and preserve buyers' trust. This involves tracking a range of behavioural pattern among sellers and combing through their digital identity for any signs of suspicious behaviour. While the team continues to build better fraud detection algorithms, it will not be possible to completely stamp out frauds. Shopee could improve its buyers' protection scheme to boost buyers' confidence. Given Shopee's escrow service, in the event when the order is not delivered or the items do not match the seller's description, Shopee should reimburse the full cost to the customer.\n",
    "\n",
    "**Slow app performance**\n",
    "\n",
    "Users have reported that the app hangs or crashes at the login and payment page. This is an issue of latency, meaning that there is a delay between an action and a response. Several other reviews have also mentioned that the app's functionalities had slowed down considerably after updating the app. Some were reportedly not able to load Shopee's games after updating the app, and were thus upset that they could not collect Shopee coins. These coins can be used to offset the cost of the next purchase.\n",
    "\n",
    "Developers will need to optimise Shopee's traffic scheduling platform's throughput and latency. Ensuring smooth running of the platform is crucial especially during big sale events where the server runs the risk of being overloaded due to high traffic. Developers will also need to stress test before releasing new app updates to ensure that the app's performance is not compromised."
   ]
  },
  {
   "cell_type": "markdown",
   "metadata": {},
   "source": [
    "## Conclusion"
   ]
  },
  {
   "cell_type": "markdown",
   "metadata": {},
   "source": [
    "The production model is a Voting Classifier consisting of an ensemble of a Logistic Regression and SVC. Given its relatively high accuracy (0.892) and recall (0.87) on the test set, we can conclude that the model generalises well on unseen data. This model serves as a good start for Shopee's product managers to classify sentiments and understand customers' pain points through Google Play reviews.\n",
    "\n",
    "The data science team has also identified 3 pain points among dissatisfied customers through topic modeling. Product managers will need to work closely with software engineers and developers to build a seamless payments experience, crack down on fraudulent sellers and improve app performance in terms of latency.\n",
    " \n",
    "Despite the model's relatively high performance, there is still room for improvement. Misclassifications tend to occur when users leave mixed reviews on Shopee. For instance, when the user praises Shopee for being 'good' in one aspect, but indicates that there are other areas of improvement, the model classifies this is a positive review. Sentiments are inherently subjective. However, given that the user is dissatisfied with certain aspects of the shopping experience, it is worth classifying such reviews as negative sentiments. This will allow product managers to be informed of these pain points. In order to reduce misclassifications, we can train the model on reviews from the Apple App Store too. Given that we have also identified customers' pain points, the next step would be to use these topics as features in our sentiment classification model. This may help to improve the model's accuracy and recall."
   ]
  }
 ],
 "metadata": {
  "kernelspec": {
   "display_name": "Python 3",
   "language": "python",
   "name": "python3"
  },
  "language_info": {
   "codemirror_mode": {
    "name": "ipython",
    "version": 3
   },
   "file_extension": ".py",
   "mimetype": "text/x-python",
   "name": "python",
   "nbconvert_exporter": "python",
   "pygments_lexer": "ipython3",
   "version": "3.7.7"
  }
 },
 "nbformat": 4,
 "nbformat_minor": 4
}
